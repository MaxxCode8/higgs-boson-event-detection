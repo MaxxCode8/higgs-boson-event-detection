{
 "cells": [
  {
   "cell_type": "markdown",
   "metadata": {},
   "source": [
    "# Higgs Boson Event Detection ⚛🎇"
   ]
  },
  {
   "cell_type": "markdown",
   "metadata": {},
   "source": [
    "\n",
    "<span style=\"font-size:25px;color:orange\">Based on reviewing the dataset details and documentation provided, here are some key insights into the Higgs boson dataset:</span>\n",
    "\n",
    "- The dataset has 250,000 events, with 30 feature columns, a weight column and a label column.\n",
    "    Features can be categorized into:\n",
    "    - PRI features: \"Raw\" measurements from the detector (e.g. tau/lepton momentum, jet properties)\n",
    "    - DER features: Derived/engineered features calculated from PRI features (e.g. mass, angular differences)\n",
    "- The label indicates if the event is a signal (Higgs boson decay) or background.\n",
    "- Weights represent the simulated luminosity and are used to calculate expected event counts.\n",
    "- Some features may be undefined (-999) if they cannot be computed or are meaningless for an event.\n",
    "- Features are physics quantities like momentum, mass, energy measured in specific units (GeV, radian).\n",
    "- The features were selected by physicists to optimize separation between signal and background.\n",
    "- The data has been simplified from the full real-world data for the purposes of the challenge.\n",
    "\n",
    "In summary, this is a simulated dataset representing detector measurements and derived features used by physicists to detect the Higgs boson signal from background processes. The features and data are simplified but capture the core challenge. Thorough EDA and understanding of the physics will be key to maximizing classification precision."
   ]
  },
  {
   "cell_type": "markdown",
   "metadata": {},
   "source": [
    "Here is a more thorough overview of the key features in the Higgs boson dataset:\n",
    "\n",
    "- PRI features:\n",
    "  - PRI_tau_pt: Transverse momentum of the hadronic tau \n",
    "  - PRI_tau_eta: Pseudorapidity of the hadronic tau\n",
    "  - PRI_tau_phi: Azimuthal angle of the hadronic tau\n",
    "  - PRI_lep_pt: Transverse momentum of the lepton\n",
    "  - PRI_lep_eta: Pseudorapidity of the lepton\n",
    "  - PRI_lep_phi: Azimuthal angle of the lepton\n",
    "  - PRI_met: Missing transverse energy\n",
    "  - PRI_met_phi: Azimuthal angle of missing transverse energy\n",
    "  - PRI_jet_num: Number of jets \n",
    "  - PRI_jet_leading_pt: Transverse momentum of leading jet\n",
    "  - PRI_jet_leading_eta: Pseudorapidity of leading jet\n",
    "  - PRI_jet_leading_phi: Azimuthal angle of leading jet\n",
    "\n",
    "- DER features:\n",
    "  - DER_mass_MMC: Estimated Higgs boson candidate mass\n",
    "  - DER_mass_transverse_met_lep: Transverse mass between missing transverse energy and lepton\n",
    "  - DER_mass_vis: Invariant mass of hadronic tau and lepton\n",
    "  - DER_deltar_tau_lep: Angular separation between hadronic tau and lepton\n",
    "  - DER_pt_tot: Total transverse momentum magnitude\n",
    "  - DER_pt_ratio_lep_tau: Transverse momentum ratio between lepton and hadronic tau\n",
    "  - DER_met_phi_centrality: Centrality of missing transverse energy vector\n",
    "  - DER_lep_eta_centrality: Centrality of lepton pseudorapidity between two jets\n",
    "\n",
    "- Weight: Simulated event weight proportional to luminosity  \n",
    "\n",
    "- Label: 's' for signal event, 'b' for background event\n",
    "\n",
    "The PRI features represent the raw detector measurements, while DER features are engineered by physicists to improve discrimination. Meticulous examination of these features is key for maximizing precision."
   ]
  },
  {
   "cell_type": "markdown",
   "metadata": {},
   "source": [
    "Based on the documentation provided, there are a few insights about potentially useful vs redundant features:\n",
    "\n",
    "- The PRI features represent the raw measurements from the detector and form the basic input. These should not be discarded.\n",
    "\n",
    "- The DER features have been specifically engineered by physicists to improve separation between signal and background. So most of them are likely to be useful.\n",
    "\n",
    "- However, some DER features like DER_mass_MMC may be undefined for some events. This could make them less useful.\n",
    "\n",
    "- Features like azimuthal and pseudorapidity angles (phi, eta) for the tau, lepton and jets may be somewhat redundant with the transverse momentum features. \n",
    "\n",
    "- Features related to additional jets beyond the leading two may not add much signal vs background discrimination.\n",
    "\n",
    "So in summary:\n",
    "\n",
    "Useful features:\n",
    "- The PRI features \n",
    "- DER features like DER_mass_transverse_met_lep, DER_mass_vis, DER_deltar_tau_lep\n",
    "\n",
    "Potentially redundant:\n",
    "- DER_mass_MMC \n",
    "- Azimuthal and pseudorapidity angles\n",
    "- Features related to additional jets\n",
    "\n",
    "But a thorough exploratory analysis should be done to truly identify useful vs redundant features. The engineered DER features should not be arbitrarily discarded without analysis. Feature selection should be guided by correlational analysis, mutual information, model-based selection like RFE or univariate feature importance."
   ]
  },
  {
   "cell_type": "markdown",
   "metadata": {},
   "source": [
    "[What is mass? by Harsh](https://jumpy-fluorine-f6d.notion.site/What-is-mass-4b0455eff0de4509b30809fe11a5dc11)"
   ]
  },
  {
   "cell_type": "code",
   "execution_count": 1,
   "metadata": {},
   "outputs": [],
   "source": [
    "import numpy as np \n",
    "import pandas as pd\n",
    "import matplotlib.pyplot as plt\n",
    "import seaborn as sns\n",
    "from sklearn.model_selection import train_test_split\n",
    "import warnings\n",
    "warnings.filterwarnings('ignore')\n"
   ]
  },
  {
   "cell_type": "code",
   "execution_count": 2,
   "metadata": {},
   "outputs": [],
   "source": [
    "higgs = pd.read_csv('../Dataset/training.csv')"
   ]
  },
  {
   "cell_type": "code",
   "execution_count": 13,
   "metadata": {},
   "outputs": [
    {
     "data": {
      "text/plain": [
       "(250000, 33)"
      ]
     },
     "execution_count": 13,
     "metadata": {},
     "output_type": "execute_result"
    }
   ],
   "source": [
    "higgs.shape"
   ]
  },
  {
   "cell_type": "code",
   "execution_count": 3,
   "metadata": {},
   "outputs": [
    {
     "data": {
      "text/html": [
       "<div>\n",
       "<style scoped>\n",
       "    .dataframe tbody tr th:only-of-type {\n",
       "        vertical-align: middle;\n",
       "    }\n",
       "\n",
       "    .dataframe tbody tr th {\n",
       "        vertical-align: top;\n",
       "    }\n",
       "\n",
       "    .dataframe thead th {\n",
       "        text-align: right;\n",
       "    }\n",
       "</style>\n",
       "<table border=\"1\" class=\"dataframe\">\n",
       "  <thead>\n",
       "    <tr style=\"text-align: right;\">\n",
       "      <th></th>\n",
       "      <th>EventId</th>\n",
       "      <th>DER_mass_MMC</th>\n",
       "      <th>DER_mass_transverse_met_lep</th>\n",
       "      <th>DER_mass_vis</th>\n",
       "      <th>DER_pt_h</th>\n",
       "      <th>DER_deltaeta_jet_jet</th>\n",
       "      <th>DER_mass_jet_jet</th>\n",
       "      <th>DER_prodeta_jet_jet</th>\n",
       "      <th>DER_deltar_tau_lep</th>\n",
       "      <th>DER_pt_tot</th>\n",
       "      <th>...</th>\n",
       "      <th>PRI_jet_num</th>\n",
       "      <th>PRI_jet_leading_pt</th>\n",
       "      <th>PRI_jet_leading_eta</th>\n",
       "      <th>PRI_jet_leading_phi</th>\n",
       "      <th>PRI_jet_subleading_pt</th>\n",
       "      <th>PRI_jet_subleading_eta</th>\n",
       "      <th>PRI_jet_subleading_phi</th>\n",
       "      <th>PRI_jet_all_pt</th>\n",
       "      <th>Weight</th>\n",
       "      <th>Label</th>\n",
       "    </tr>\n",
       "  </thead>\n",
       "  <tbody>\n",
       "    <tr>\n",
       "      <th>0</th>\n",
       "      <td>100000</td>\n",
       "      <td>138.470</td>\n",
       "      <td>51.655</td>\n",
       "      <td>97.827</td>\n",
       "      <td>27.980</td>\n",
       "      <td>0.91</td>\n",
       "      <td>124.711</td>\n",
       "      <td>2.666</td>\n",
       "      <td>3.064</td>\n",
       "      <td>41.928</td>\n",
       "      <td>...</td>\n",
       "      <td>2</td>\n",
       "      <td>67.435</td>\n",
       "      <td>2.150</td>\n",
       "      <td>0.444</td>\n",
       "      <td>46.062</td>\n",
       "      <td>1.24</td>\n",
       "      <td>-2.475</td>\n",
       "      <td>113.497</td>\n",
       "      <td>0.002653</td>\n",
       "      <td>s</td>\n",
       "    </tr>\n",
       "    <tr>\n",
       "      <th>1</th>\n",
       "      <td>100001</td>\n",
       "      <td>160.937</td>\n",
       "      <td>68.768</td>\n",
       "      <td>103.235</td>\n",
       "      <td>48.146</td>\n",
       "      <td>-999.00</td>\n",
       "      <td>-999.000</td>\n",
       "      <td>-999.000</td>\n",
       "      <td>3.473</td>\n",
       "      <td>2.078</td>\n",
       "      <td>...</td>\n",
       "      <td>1</td>\n",
       "      <td>46.226</td>\n",
       "      <td>0.725</td>\n",
       "      <td>1.158</td>\n",
       "      <td>-999.000</td>\n",
       "      <td>-999.00</td>\n",
       "      <td>-999.000</td>\n",
       "      <td>46.226</td>\n",
       "      <td>2.233584</td>\n",
       "      <td>b</td>\n",
       "    </tr>\n",
       "    <tr>\n",
       "      <th>2</th>\n",
       "      <td>100002</td>\n",
       "      <td>-999.000</td>\n",
       "      <td>162.172</td>\n",
       "      <td>125.953</td>\n",
       "      <td>35.635</td>\n",
       "      <td>-999.00</td>\n",
       "      <td>-999.000</td>\n",
       "      <td>-999.000</td>\n",
       "      <td>3.148</td>\n",
       "      <td>9.336</td>\n",
       "      <td>...</td>\n",
       "      <td>1</td>\n",
       "      <td>44.251</td>\n",
       "      <td>2.053</td>\n",
       "      <td>-2.028</td>\n",
       "      <td>-999.000</td>\n",
       "      <td>-999.00</td>\n",
       "      <td>-999.000</td>\n",
       "      <td>44.251</td>\n",
       "      <td>2.347389</td>\n",
       "      <td>b</td>\n",
       "    </tr>\n",
       "    <tr>\n",
       "      <th>3</th>\n",
       "      <td>100003</td>\n",
       "      <td>143.905</td>\n",
       "      <td>81.417</td>\n",
       "      <td>80.943</td>\n",
       "      <td>0.414</td>\n",
       "      <td>-999.00</td>\n",
       "      <td>-999.000</td>\n",
       "      <td>-999.000</td>\n",
       "      <td>3.310</td>\n",
       "      <td>0.414</td>\n",
       "      <td>...</td>\n",
       "      <td>0</td>\n",
       "      <td>-999.000</td>\n",
       "      <td>-999.000</td>\n",
       "      <td>-999.000</td>\n",
       "      <td>-999.000</td>\n",
       "      <td>-999.00</td>\n",
       "      <td>-999.000</td>\n",
       "      <td>-0.000</td>\n",
       "      <td>5.446378</td>\n",
       "      <td>b</td>\n",
       "    </tr>\n",
       "    <tr>\n",
       "      <th>4</th>\n",
       "      <td>100004</td>\n",
       "      <td>175.864</td>\n",
       "      <td>16.915</td>\n",
       "      <td>134.805</td>\n",
       "      <td>16.405</td>\n",
       "      <td>-999.00</td>\n",
       "      <td>-999.000</td>\n",
       "      <td>-999.000</td>\n",
       "      <td>3.891</td>\n",
       "      <td>16.405</td>\n",
       "      <td>...</td>\n",
       "      <td>0</td>\n",
       "      <td>-999.000</td>\n",
       "      <td>-999.000</td>\n",
       "      <td>-999.000</td>\n",
       "      <td>-999.000</td>\n",
       "      <td>-999.00</td>\n",
       "      <td>-999.000</td>\n",
       "      <td>0.000</td>\n",
       "      <td>6.245333</td>\n",
       "      <td>b</td>\n",
       "    </tr>\n",
       "  </tbody>\n",
       "</table>\n",
       "<p>5 rows × 33 columns</p>\n",
       "</div>"
      ],
      "text/plain": [
       "   EventId  DER_mass_MMC  DER_mass_transverse_met_lep  DER_mass_vis  DER_pt_h  \\\n",
       "0   100000       138.470                       51.655        97.827    27.980   \n",
       "1   100001       160.937                       68.768       103.235    48.146   \n",
       "2   100002      -999.000                      162.172       125.953    35.635   \n",
       "3   100003       143.905                       81.417        80.943     0.414   \n",
       "4   100004       175.864                       16.915       134.805    16.405   \n",
       "\n",
       "   DER_deltaeta_jet_jet  DER_mass_jet_jet  DER_prodeta_jet_jet  \\\n",
       "0                  0.91           124.711                2.666   \n",
       "1               -999.00          -999.000             -999.000   \n",
       "2               -999.00          -999.000             -999.000   \n",
       "3               -999.00          -999.000             -999.000   \n",
       "4               -999.00          -999.000             -999.000   \n",
       "\n",
       "   DER_deltar_tau_lep  DER_pt_tot  ...  PRI_jet_num  PRI_jet_leading_pt  \\\n",
       "0               3.064      41.928  ...            2              67.435   \n",
       "1               3.473       2.078  ...            1              46.226   \n",
       "2               3.148       9.336  ...            1              44.251   \n",
       "3               3.310       0.414  ...            0            -999.000   \n",
       "4               3.891      16.405  ...            0            -999.000   \n",
       "\n",
       "   PRI_jet_leading_eta  PRI_jet_leading_phi  PRI_jet_subleading_pt  \\\n",
       "0                2.150                0.444                 46.062   \n",
       "1                0.725                1.158               -999.000   \n",
       "2                2.053               -2.028               -999.000   \n",
       "3             -999.000             -999.000               -999.000   \n",
       "4             -999.000             -999.000               -999.000   \n",
       "\n",
       "   PRI_jet_subleading_eta  PRI_jet_subleading_phi  PRI_jet_all_pt    Weight  \\\n",
       "0                    1.24                  -2.475         113.497  0.002653   \n",
       "1                 -999.00                -999.000          46.226  2.233584   \n",
       "2                 -999.00                -999.000          44.251  2.347389   \n",
       "3                 -999.00                -999.000          -0.000  5.446378   \n",
       "4                 -999.00                -999.000           0.000  6.245333   \n",
       "\n",
       "   Label  \n",
       "0      s  \n",
       "1      b  \n",
       "2      b  \n",
       "3      b  \n",
       "4      b  \n",
       "\n",
       "[5 rows x 33 columns]"
      ]
     },
     "execution_count": 3,
     "metadata": {},
     "output_type": "execute_result"
    }
   ],
   "source": [
    "higgs.head()"
   ]
  },
  {
   "cell_type": "code",
   "execution_count": 7,
   "metadata": {},
   "outputs": [
    {
     "name": "stdout",
     "output_type": "stream",
     "text": [
      "<class 'pandas.core.frame.DataFrame'>\n",
      "RangeIndex: 250000 entries, 0 to 249999\n",
      "Data columns (total 33 columns):\n",
      " #   Column                       Non-Null Count   Dtype  \n",
      "---  ------                       --------------   -----  \n",
      " 0   EventId                      250000 non-null  int64  \n",
      " 1   DER_mass_MMC                 250000 non-null  float64\n",
      " 2   DER_mass_transverse_met_lep  250000 non-null  float64\n",
      " 3   DER_mass_vis                 250000 non-null  float64\n",
      " 4   DER_pt_h                     250000 non-null  float64\n",
      " 5   DER_deltaeta_jet_jet         250000 non-null  float64\n",
      " 6   DER_mass_jet_jet             250000 non-null  float64\n",
      " 7   DER_prodeta_jet_jet          250000 non-null  float64\n",
      " 8   DER_deltar_tau_lep           250000 non-null  float64\n",
      " 9   DER_pt_tot                   250000 non-null  float64\n",
      " 10  DER_sum_pt                   250000 non-null  float64\n",
      " 11  DER_pt_ratio_lep_tau         250000 non-null  float64\n",
      " 12  DER_met_phi_centrality       250000 non-null  float64\n",
      " 13  DER_lep_eta_centrality       250000 non-null  float64\n",
      " 14  PRI_tau_pt                   250000 non-null  float64\n",
      " 15  PRI_tau_eta                  250000 non-null  float64\n",
      " 16  PRI_tau_phi                  250000 non-null  float64\n",
      " 17  PRI_lep_pt                   250000 non-null  float64\n",
      " 18  PRI_lep_eta                  250000 non-null  float64\n",
      " 19  PRI_lep_phi                  250000 non-null  float64\n",
      " 20  PRI_met                      250000 non-null  float64\n",
      " 21  PRI_met_phi                  250000 non-null  float64\n",
      " 22  PRI_met_sumet                250000 non-null  float64\n",
      " 23  PRI_jet_num                  250000 non-null  int64  \n",
      " 24  PRI_jet_leading_pt           250000 non-null  float64\n",
      " 25  PRI_jet_leading_eta          250000 non-null  float64\n",
      " 26  PRI_jet_leading_phi          250000 non-null  float64\n",
      " 27  PRI_jet_subleading_pt        250000 non-null  float64\n",
      " 28  PRI_jet_subleading_eta       250000 non-null  float64\n",
      " 29  PRI_jet_subleading_phi       250000 non-null  float64\n",
      " 30  PRI_jet_all_pt               250000 non-null  float64\n",
      " 31  Weight                       250000 non-null  float64\n",
      " 32  Label                        250000 non-null  object \n",
      "dtypes: float64(30), int64(2), object(1)\n",
      "memory usage: 62.9+ MB\n"
     ]
    }
   ],
   "source": [
    "higgs.info(verbose=True)"
   ]
  },
  {
   "cell_type": "code",
   "execution_count": 8,
   "metadata": {},
   "outputs": [
    {
     "data": {
      "text/plain": [
       "EventId                        0.0\n",
       "PRI_lep_pt                     0.0\n",
       "Weight                         0.0\n",
       "PRI_jet_all_pt                 0.0\n",
       "PRI_jet_subleading_phi         0.0\n",
       "PRI_jet_subleading_eta         0.0\n",
       "PRI_jet_subleading_pt          0.0\n",
       "PRI_jet_leading_phi            0.0\n",
       "PRI_jet_leading_eta            0.0\n",
       "PRI_jet_leading_pt             0.0\n",
       "PRI_jet_num                    0.0\n",
       "PRI_met_sumet                  0.0\n",
       "PRI_met_phi                    0.0\n",
       "PRI_met                        0.0\n",
       "PRI_lep_phi                    0.0\n",
       "PRI_lep_eta                    0.0\n",
       "PRI_tau_phi                    0.0\n",
       "DER_mass_MMC                   0.0\n",
       "PRI_tau_eta                    0.0\n",
       "PRI_tau_pt                     0.0\n",
       "DER_lep_eta_centrality         0.0\n",
       "DER_met_phi_centrality         0.0\n",
       "DER_pt_ratio_lep_tau           0.0\n",
       "DER_sum_pt                     0.0\n",
       "DER_pt_tot                     0.0\n",
       "DER_deltar_tau_lep             0.0\n",
       "DER_prodeta_jet_jet            0.0\n",
       "DER_mass_jet_jet               0.0\n",
       "DER_deltaeta_jet_jet           0.0\n",
       "DER_pt_h                       0.0\n",
       "DER_mass_vis                   0.0\n",
       "DER_mass_transverse_met_lep    0.0\n",
       "Label                          0.0\n",
       "dtype: float64"
      ]
     },
     "execution_count": 8,
     "metadata": {},
     "output_type": "execute_result"
    }
   ],
   "source": [
    "null_val = higgs.isnull().sum(axis=0) * 100 / higgs.shape[0]\n",
    "null_val.sort_values(ascending=False)   "
   ]
  },
  {
   "cell_type": "code",
   "execution_count": 9,
   "metadata": {},
   "outputs": [
    {
     "data": {
      "text/html": [
       "<div>\n",
       "<style scoped>\n",
       "    .dataframe tbody tr th:only-of-type {\n",
       "        vertical-align: middle;\n",
       "    }\n",
       "\n",
       "    .dataframe tbody tr th {\n",
       "        vertical-align: top;\n",
       "    }\n",
       "\n",
       "    .dataframe thead th {\n",
       "        text-align: right;\n",
       "    }\n",
       "</style>\n",
       "<table border=\"1\" class=\"dataframe\">\n",
       "  <thead>\n",
       "    <tr style=\"text-align: right;\">\n",
       "      <th></th>\n",
       "      <th>count</th>\n",
       "      <th>unique</th>\n",
       "      <th>top</th>\n",
       "      <th>freq</th>\n",
       "      <th>mean</th>\n",
       "      <th>std</th>\n",
       "      <th>min</th>\n",
       "      <th>25%</th>\n",
       "      <th>50%</th>\n",
       "      <th>75%</th>\n",
       "      <th>max</th>\n",
       "    </tr>\n",
       "  </thead>\n",
       "  <tbody>\n",
       "    <tr>\n",
       "      <th>EventId</th>\n",
       "      <td>250000.0</td>\n",
       "      <td>NaN</td>\n",
       "      <td>NaN</td>\n",
       "      <td>NaN</td>\n",
       "      <td>224999.5</td>\n",
       "      <td>72168.927986</td>\n",
       "      <td>100000.0</td>\n",
       "      <td>162499.75</td>\n",
       "      <td>224999.5</td>\n",
       "      <td>287499.25</td>\n",
       "      <td>349999.0</td>\n",
       "    </tr>\n",
       "    <tr>\n",
       "      <th>DER_mass_MMC</th>\n",
       "      <td>250000.0</td>\n",
       "      <td>NaN</td>\n",
       "      <td>NaN</td>\n",
       "      <td>NaN</td>\n",
       "      <td>-49.023079</td>\n",
       "      <td>406.345647</td>\n",
       "      <td>-999.0</td>\n",
       "      <td>78.10075</td>\n",
       "      <td>105.012</td>\n",
       "      <td>130.60625</td>\n",
       "      <td>1192.026</td>\n",
       "    </tr>\n",
       "    <tr>\n",
       "      <th>DER_mass_transverse_met_lep</th>\n",
       "      <td>250000.0</td>\n",
       "      <td>NaN</td>\n",
       "      <td>NaN</td>\n",
       "      <td>NaN</td>\n",
       "      <td>49.239819</td>\n",
       "      <td>35.344886</td>\n",
       "      <td>0.0</td>\n",
       "      <td>19.241</td>\n",
       "      <td>46.524</td>\n",
       "      <td>73.598</td>\n",
       "      <td>690.075</td>\n",
       "    </tr>\n",
       "    <tr>\n",
       "      <th>DER_mass_vis</th>\n",
       "      <td>250000.0</td>\n",
       "      <td>NaN</td>\n",
       "      <td>NaN</td>\n",
       "      <td>NaN</td>\n",
       "      <td>81.181982</td>\n",
       "      <td>40.828691</td>\n",
       "      <td>6.329</td>\n",
       "      <td>59.38875</td>\n",
       "      <td>73.752</td>\n",
       "      <td>92.259</td>\n",
       "      <td>1349.351</td>\n",
       "    </tr>\n",
       "    <tr>\n",
       "      <th>DER_pt_h</th>\n",
       "      <td>250000.0</td>\n",
       "      <td>NaN</td>\n",
       "      <td>NaN</td>\n",
       "      <td>NaN</td>\n",
       "      <td>57.895962</td>\n",
       "      <td>63.655682</td>\n",
       "      <td>0.0</td>\n",
       "      <td>14.06875</td>\n",
       "      <td>38.4675</td>\n",
       "      <td>79.169</td>\n",
       "      <td>2834.999</td>\n",
       "    </tr>\n",
       "    <tr>\n",
       "      <th>DER_deltaeta_jet_jet</th>\n",
       "      <td>250000.0</td>\n",
       "      <td>NaN</td>\n",
       "      <td>NaN</td>\n",
       "      <td>NaN</td>\n",
       "      <td>-708.420675</td>\n",
       "      <td>454.480565</td>\n",
       "      <td>-999.0</td>\n",
       "      <td>-999.0</td>\n",
       "      <td>-999.0</td>\n",
       "      <td>0.49</td>\n",
       "      <td>8.503</td>\n",
       "    </tr>\n",
       "    <tr>\n",
       "      <th>DER_mass_jet_jet</th>\n",
       "      <td>250000.0</td>\n",
       "      <td>NaN</td>\n",
       "      <td>NaN</td>\n",
       "      <td>NaN</td>\n",
       "      <td>-601.237051</td>\n",
       "      <td>657.972302</td>\n",
       "      <td>-999.0</td>\n",
       "      <td>-999.0</td>\n",
       "      <td>-999.0</td>\n",
       "      <td>83.446</td>\n",
       "      <td>4974.979</td>\n",
       "    </tr>\n",
       "    <tr>\n",
       "      <th>DER_prodeta_jet_jet</th>\n",
       "      <td>250000.0</td>\n",
       "      <td>NaN</td>\n",
       "      <td>NaN</td>\n",
       "      <td>NaN</td>\n",
       "      <td>-709.356603</td>\n",
       "      <td>453.019877</td>\n",
       "      <td>-999.0</td>\n",
       "      <td>-999.0</td>\n",
       "      <td>-999.0</td>\n",
       "      <td>-4.593</td>\n",
       "      <td>16.69</td>\n",
       "    </tr>\n",
       "    <tr>\n",
       "      <th>DER_deltar_tau_lep</th>\n",
       "      <td>250000.0</td>\n",
       "      <td>NaN</td>\n",
       "      <td>NaN</td>\n",
       "      <td>NaN</td>\n",
       "      <td>2.3731</td>\n",
       "      <td>0.782911</td>\n",
       "      <td>0.208</td>\n",
       "      <td>1.81</td>\n",
       "      <td>2.4915</td>\n",
       "      <td>2.961</td>\n",
       "      <td>5.684</td>\n",
       "    </tr>\n",
       "    <tr>\n",
       "      <th>DER_pt_tot</th>\n",
       "      <td>250000.0</td>\n",
       "      <td>NaN</td>\n",
       "      <td>NaN</td>\n",
       "      <td>NaN</td>\n",
       "      <td>18.917332</td>\n",
       "      <td>22.273494</td>\n",
       "      <td>0.0</td>\n",
       "      <td>2.841</td>\n",
       "      <td>12.3155</td>\n",
       "      <td>27.591</td>\n",
       "      <td>2834.999</td>\n",
       "    </tr>\n",
       "    <tr>\n",
       "      <th>DER_sum_pt</th>\n",
       "      <td>250000.0</td>\n",
       "      <td>NaN</td>\n",
       "      <td>NaN</td>\n",
       "      <td>NaN</td>\n",
       "      <td>158.432217</td>\n",
       "      <td>115.706115</td>\n",
       "      <td>46.104</td>\n",
       "      <td>77.55</td>\n",
       "      <td>120.6645</td>\n",
       "      <td>200.47825</td>\n",
       "      <td>1852.462</td>\n",
       "    </tr>\n",
       "    <tr>\n",
       "      <th>DER_pt_ratio_lep_tau</th>\n",
       "      <td>250000.0</td>\n",
       "      <td>NaN</td>\n",
       "      <td>NaN</td>\n",
       "      <td>NaN</td>\n",
       "      <td>1.437609</td>\n",
       "      <td>0.844743</td>\n",
       "      <td>0.047</td>\n",
       "      <td>0.883</td>\n",
       "      <td>1.28</td>\n",
       "      <td>1.777</td>\n",
       "      <td>19.773</td>\n",
       "    </tr>\n",
       "    <tr>\n",
       "      <th>DER_met_phi_centrality</th>\n",
       "      <td>250000.0</td>\n",
       "      <td>NaN</td>\n",
       "      <td>NaN</td>\n",
       "      <td>NaN</td>\n",
       "      <td>-0.128305</td>\n",
       "      <td>1.193585</td>\n",
       "      <td>-1.414</td>\n",
       "      <td>-1.371</td>\n",
       "      <td>-0.356</td>\n",
       "      <td>1.225</td>\n",
       "      <td>1.414</td>\n",
       "    </tr>\n",
       "    <tr>\n",
       "      <th>DER_lep_eta_centrality</th>\n",
       "      <td>250000.0</td>\n",
       "      <td>NaN</td>\n",
       "      <td>NaN</td>\n",
       "      <td>NaN</td>\n",
       "      <td>-708.985189</td>\n",
       "      <td>453.596721</td>\n",
       "      <td>-999.0</td>\n",
       "      <td>-999.0</td>\n",
       "      <td>-999.0</td>\n",
       "      <td>0.0</td>\n",
       "      <td>1.0</td>\n",
       "    </tr>\n",
       "    <tr>\n",
       "      <th>PRI_tau_pt</th>\n",
       "      <td>250000.0</td>\n",
       "      <td>NaN</td>\n",
       "      <td>NaN</td>\n",
       "      <td>NaN</td>\n",
       "      <td>38.707419</td>\n",
       "      <td>22.412081</td>\n",
       "      <td>20.0</td>\n",
       "      <td>24.59175</td>\n",
       "      <td>31.804</td>\n",
       "      <td>45.017</td>\n",
       "      <td>764.408</td>\n",
       "    </tr>\n",
       "    <tr>\n",
       "      <th>PRI_tau_eta</th>\n",
       "      <td>250000.0</td>\n",
       "      <td>NaN</td>\n",
       "      <td>NaN</td>\n",
       "      <td>NaN</td>\n",
       "      <td>-0.010973</td>\n",
       "      <td>1.214079</td>\n",
       "      <td>-2.499</td>\n",
       "      <td>-0.925</td>\n",
       "      <td>-0.023</td>\n",
       "      <td>0.898</td>\n",
       "      <td>2.497</td>\n",
       "    </tr>\n",
       "    <tr>\n",
       "      <th>PRI_tau_phi</th>\n",
       "      <td>250000.0</td>\n",
       "      <td>NaN</td>\n",
       "      <td>NaN</td>\n",
       "      <td>NaN</td>\n",
       "      <td>-0.008171</td>\n",
       "      <td>1.816763</td>\n",
       "      <td>-3.142</td>\n",
       "      <td>-1.575</td>\n",
       "      <td>-0.033</td>\n",
       "      <td>1.565</td>\n",
       "      <td>3.142</td>\n",
       "    </tr>\n",
       "    <tr>\n",
       "      <th>PRI_lep_pt</th>\n",
       "      <td>250000.0</td>\n",
       "      <td>NaN</td>\n",
       "      <td>NaN</td>\n",
       "      <td>NaN</td>\n",
       "      <td>46.660207</td>\n",
       "      <td>22.064922</td>\n",
       "      <td>26.0</td>\n",
       "      <td>32.375</td>\n",
       "      <td>40.516</td>\n",
       "      <td>53.39</td>\n",
       "      <td>560.271</td>\n",
       "    </tr>\n",
       "    <tr>\n",
       "      <th>PRI_lep_eta</th>\n",
       "      <td>250000.0</td>\n",
       "      <td>NaN</td>\n",
       "      <td>NaN</td>\n",
       "      <td>NaN</td>\n",
       "      <td>-0.019507</td>\n",
       "      <td>1.264982</td>\n",
       "      <td>-2.505</td>\n",
       "      <td>-1.014</td>\n",
       "      <td>-0.045</td>\n",
       "      <td>0.959</td>\n",
       "      <td>2.503</td>\n",
       "    </tr>\n",
       "    <tr>\n",
       "      <th>PRI_lep_phi</th>\n",
       "      <td>250000.0</td>\n",
       "      <td>NaN</td>\n",
       "      <td>NaN</td>\n",
       "      <td>NaN</td>\n",
       "      <td>0.043543</td>\n",
       "      <td>1.816611</td>\n",
       "      <td>-3.142</td>\n",
       "      <td>-1.522</td>\n",
       "      <td>0.086</td>\n",
       "      <td>1.618</td>\n",
       "      <td>3.142</td>\n",
       "    </tr>\n",
       "    <tr>\n",
       "      <th>PRI_met</th>\n",
       "      <td>250000.0</td>\n",
       "      <td>NaN</td>\n",
       "      <td>NaN</td>\n",
       "      <td>NaN</td>\n",
       "      <td>41.717235</td>\n",
       "      <td>32.894693</td>\n",
       "      <td>0.109</td>\n",
       "      <td>21.398</td>\n",
       "      <td>34.802</td>\n",
       "      <td>51.895</td>\n",
       "      <td>2842.617</td>\n",
       "    </tr>\n",
       "    <tr>\n",
       "      <th>PRI_met_phi</th>\n",
       "      <td>250000.0</td>\n",
       "      <td>NaN</td>\n",
       "      <td>NaN</td>\n",
       "      <td>NaN</td>\n",
       "      <td>-0.010119</td>\n",
       "      <td>1.812223</td>\n",
       "      <td>-3.142</td>\n",
       "      <td>-1.575</td>\n",
       "      <td>-0.024</td>\n",
       "      <td>1.561</td>\n",
       "      <td>3.142</td>\n",
       "    </tr>\n",
       "    <tr>\n",
       "      <th>PRI_met_sumet</th>\n",
       "      <td>250000.0</td>\n",
       "      <td>NaN</td>\n",
       "      <td>NaN</td>\n",
       "      <td>NaN</td>\n",
       "      <td>209.797178</td>\n",
       "      <td>126.499506</td>\n",
       "      <td>13.678</td>\n",
       "      <td>123.0175</td>\n",
       "      <td>179.739</td>\n",
       "      <td>263.37925</td>\n",
       "      <td>2003.976</td>\n",
       "    </tr>\n",
       "    <tr>\n",
       "      <th>PRI_jet_num</th>\n",
       "      <td>250000.0</td>\n",
       "      <td>NaN</td>\n",
       "      <td>NaN</td>\n",
       "      <td>NaN</td>\n",
       "      <td>0.979176</td>\n",
       "      <td>0.977426</td>\n",
       "      <td>0.0</td>\n",
       "      <td>0.0</td>\n",
       "      <td>1.0</td>\n",
       "      <td>2.0</td>\n",
       "      <td>3.0</td>\n",
       "    </tr>\n",
       "    <tr>\n",
       "      <th>PRI_jet_leading_pt</th>\n",
       "      <td>250000.0</td>\n",
       "      <td>NaN</td>\n",
       "      <td>NaN</td>\n",
       "      <td>NaN</td>\n",
       "      <td>-348.329567</td>\n",
       "      <td>532.962789</td>\n",
       "      <td>-999.0</td>\n",
       "      <td>-999.0</td>\n",
       "      <td>38.96</td>\n",
       "      <td>75.349</td>\n",
       "      <td>1120.573</td>\n",
       "    </tr>\n",
       "    <tr>\n",
       "      <th>PRI_jet_leading_eta</th>\n",
       "      <td>250000.0</td>\n",
       "      <td>NaN</td>\n",
       "      <td>NaN</td>\n",
       "      <td>NaN</td>\n",
       "      <td>-399.254314</td>\n",
       "      <td>489.338286</td>\n",
       "      <td>-999.0</td>\n",
       "      <td>-999.0</td>\n",
       "      <td>-1.872</td>\n",
       "      <td>0.433</td>\n",
       "      <td>4.499</td>\n",
       "    </tr>\n",
       "    <tr>\n",
       "      <th>PRI_jet_leading_phi</th>\n",
       "      <td>250000.0</td>\n",
       "      <td>NaN</td>\n",
       "      <td>NaN</td>\n",
       "      <td>NaN</td>\n",
       "      <td>-399.259788</td>\n",
       "      <td>489.333883</td>\n",
       "      <td>-999.0</td>\n",
       "      <td>-999.0</td>\n",
       "      <td>-2.093</td>\n",
       "      <td>0.503</td>\n",
       "      <td>3.141</td>\n",
       "    </tr>\n",
       "    <tr>\n",
       "      <th>PRI_jet_subleading_pt</th>\n",
       "      <td>250000.0</td>\n",
       "      <td>NaN</td>\n",
       "      <td>NaN</td>\n",
       "      <td>NaN</td>\n",
       "      <td>-692.381204</td>\n",
       "      <td>479.875496</td>\n",
       "      <td>-999.0</td>\n",
       "      <td>-999.0</td>\n",
       "      <td>-999.0</td>\n",
       "      <td>33.703</td>\n",
       "      <td>721.456</td>\n",
       "    </tr>\n",
       "    <tr>\n",
       "      <th>PRI_jet_subleading_eta</th>\n",
       "      <td>250000.0</td>\n",
       "      <td>NaN</td>\n",
       "      <td>NaN</td>\n",
       "      <td>NaN</td>\n",
       "      <td>-709.121609</td>\n",
       "      <td>453.384624</td>\n",
       "      <td>-999.0</td>\n",
       "      <td>-999.0</td>\n",
       "      <td>-999.0</td>\n",
       "      <td>-2.457</td>\n",
       "      <td>4.5</td>\n",
       "    </tr>\n",
       "    <tr>\n",
       "      <th>PRI_jet_subleading_phi</th>\n",
       "      <td>250000.0</td>\n",
       "      <td>NaN</td>\n",
       "      <td>NaN</td>\n",
       "      <td>NaN</td>\n",
       "      <td>-709.118631</td>\n",
       "      <td>453.389017</td>\n",
       "      <td>-999.0</td>\n",
       "      <td>-999.0</td>\n",
       "      <td>-999.0</td>\n",
       "      <td>-2.275</td>\n",
       "      <td>3.142</td>\n",
       "    </tr>\n",
       "    <tr>\n",
       "      <th>PRI_jet_all_pt</th>\n",
       "      <td>250000.0</td>\n",
       "      <td>NaN</td>\n",
       "      <td>NaN</td>\n",
       "      <td>NaN</td>\n",
       "      <td>73.064591</td>\n",
       "      <td>98.015662</td>\n",
       "      <td>0.0</td>\n",
       "      <td>-0.0</td>\n",
       "      <td>40.5125</td>\n",
       "      <td>109.93375</td>\n",
       "      <td>1633.433</td>\n",
       "    </tr>\n",
       "    <tr>\n",
       "      <th>Weight</th>\n",
       "      <td>250000.0</td>\n",
       "      <td>NaN</td>\n",
       "      <td>NaN</td>\n",
       "      <td>NaN</td>\n",
       "      <td>1.646767</td>\n",
       "      <td>1.875103</td>\n",
       "      <td>0.001502</td>\n",
       "      <td>0.018636</td>\n",
       "      <td>1.156188</td>\n",
       "      <td>2.404128</td>\n",
       "      <td>7.822543</td>\n",
       "    </tr>\n",
       "    <tr>\n",
       "      <th>Label</th>\n",
       "      <td>250000</td>\n",
       "      <td>2</td>\n",
       "      <td>b</td>\n",
       "      <td>164333</td>\n",
       "      <td>NaN</td>\n",
       "      <td>NaN</td>\n",
       "      <td>NaN</td>\n",
       "      <td>NaN</td>\n",
       "      <td>NaN</td>\n",
       "      <td>NaN</td>\n",
       "      <td>NaN</td>\n",
       "    </tr>\n",
       "  </tbody>\n",
       "</table>\n",
       "</div>"
      ],
      "text/plain": [
       "                                count unique  top    freq        mean  \\\n",
       "EventId                      250000.0    NaN  NaN     NaN    224999.5   \n",
       "DER_mass_MMC                 250000.0    NaN  NaN     NaN  -49.023079   \n",
       "DER_mass_transverse_met_lep  250000.0    NaN  NaN     NaN   49.239819   \n",
       "DER_mass_vis                 250000.0    NaN  NaN     NaN   81.181982   \n",
       "DER_pt_h                     250000.0    NaN  NaN     NaN   57.895962   \n",
       "DER_deltaeta_jet_jet         250000.0    NaN  NaN     NaN -708.420675   \n",
       "DER_mass_jet_jet             250000.0    NaN  NaN     NaN -601.237051   \n",
       "DER_prodeta_jet_jet          250000.0    NaN  NaN     NaN -709.356603   \n",
       "DER_deltar_tau_lep           250000.0    NaN  NaN     NaN      2.3731   \n",
       "DER_pt_tot                   250000.0    NaN  NaN     NaN   18.917332   \n",
       "DER_sum_pt                   250000.0    NaN  NaN     NaN  158.432217   \n",
       "DER_pt_ratio_lep_tau         250000.0    NaN  NaN     NaN    1.437609   \n",
       "DER_met_phi_centrality       250000.0    NaN  NaN     NaN   -0.128305   \n",
       "DER_lep_eta_centrality       250000.0    NaN  NaN     NaN -708.985189   \n",
       "PRI_tau_pt                   250000.0    NaN  NaN     NaN   38.707419   \n",
       "PRI_tau_eta                  250000.0    NaN  NaN     NaN   -0.010973   \n",
       "PRI_tau_phi                  250000.0    NaN  NaN     NaN   -0.008171   \n",
       "PRI_lep_pt                   250000.0    NaN  NaN     NaN   46.660207   \n",
       "PRI_lep_eta                  250000.0    NaN  NaN     NaN   -0.019507   \n",
       "PRI_lep_phi                  250000.0    NaN  NaN     NaN    0.043543   \n",
       "PRI_met                      250000.0    NaN  NaN     NaN   41.717235   \n",
       "PRI_met_phi                  250000.0    NaN  NaN     NaN   -0.010119   \n",
       "PRI_met_sumet                250000.0    NaN  NaN     NaN  209.797178   \n",
       "PRI_jet_num                  250000.0    NaN  NaN     NaN    0.979176   \n",
       "PRI_jet_leading_pt           250000.0    NaN  NaN     NaN -348.329567   \n",
       "PRI_jet_leading_eta          250000.0    NaN  NaN     NaN -399.254314   \n",
       "PRI_jet_leading_phi          250000.0    NaN  NaN     NaN -399.259788   \n",
       "PRI_jet_subleading_pt        250000.0    NaN  NaN     NaN -692.381204   \n",
       "PRI_jet_subleading_eta       250000.0    NaN  NaN     NaN -709.121609   \n",
       "PRI_jet_subleading_phi       250000.0    NaN  NaN     NaN -709.118631   \n",
       "PRI_jet_all_pt               250000.0    NaN  NaN     NaN   73.064591   \n",
       "Weight                       250000.0    NaN  NaN     NaN    1.646767   \n",
       "Label                          250000      2    b  164333         NaN   \n",
       "\n",
       "                                      std       min        25%       50%  \\\n",
       "EventId                      72168.927986  100000.0  162499.75  224999.5   \n",
       "DER_mass_MMC                   406.345647    -999.0   78.10075   105.012   \n",
       "DER_mass_transverse_met_lep     35.344886       0.0     19.241    46.524   \n",
       "DER_mass_vis                    40.828691     6.329   59.38875    73.752   \n",
       "DER_pt_h                        63.655682       0.0   14.06875   38.4675   \n",
       "DER_deltaeta_jet_jet           454.480565    -999.0     -999.0    -999.0   \n",
       "DER_mass_jet_jet               657.972302    -999.0     -999.0    -999.0   \n",
       "DER_prodeta_jet_jet            453.019877    -999.0     -999.0    -999.0   \n",
       "DER_deltar_tau_lep               0.782911     0.208       1.81    2.4915   \n",
       "DER_pt_tot                      22.273494       0.0      2.841   12.3155   \n",
       "DER_sum_pt                     115.706115    46.104      77.55  120.6645   \n",
       "DER_pt_ratio_lep_tau             0.844743     0.047      0.883      1.28   \n",
       "DER_met_phi_centrality           1.193585    -1.414     -1.371    -0.356   \n",
       "DER_lep_eta_centrality         453.596721    -999.0     -999.0    -999.0   \n",
       "PRI_tau_pt                      22.412081      20.0   24.59175    31.804   \n",
       "PRI_tau_eta                      1.214079    -2.499     -0.925    -0.023   \n",
       "PRI_tau_phi                      1.816763    -3.142     -1.575    -0.033   \n",
       "PRI_lep_pt                      22.064922      26.0     32.375    40.516   \n",
       "PRI_lep_eta                      1.264982    -2.505     -1.014    -0.045   \n",
       "PRI_lep_phi                      1.816611    -3.142     -1.522     0.086   \n",
       "PRI_met                         32.894693     0.109     21.398    34.802   \n",
       "PRI_met_phi                      1.812223    -3.142     -1.575    -0.024   \n",
       "PRI_met_sumet                  126.499506    13.678   123.0175   179.739   \n",
       "PRI_jet_num                      0.977426       0.0        0.0       1.0   \n",
       "PRI_jet_leading_pt             532.962789    -999.0     -999.0     38.96   \n",
       "PRI_jet_leading_eta            489.338286    -999.0     -999.0    -1.872   \n",
       "PRI_jet_leading_phi            489.333883    -999.0     -999.0    -2.093   \n",
       "PRI_jet_subleading_pt          479.875496    -999.0     -999.0    -999.0   \n",
       "PRI_jet_subleading_eta         453.384624    -999.0     -999.0    -999.0   \n",
       "PRI_jet_subleading_phi         453.389017    -999.0     -999.0    -999.0   \n",
       "PRI_jet_all_pt                  98.015662       0.0       -0.0   40.5125   \n",
       "Weight                           1.875103  0.001502   0.018636  1.156188   \n",
       "Label                                 NaN       NaN        NaN       NaN   \n",
       "\n",
       "                                   75%       max  \n",
       "EventId                      287499.25  349999.0  \n",
       "DER_mass_MMC                 130.60625  1192.026  \n",
       "DER_mass_transverse_met_lep     73.598   690.075  \n",
       "DER_mass_vis                    92.259  1349.351  \n",
       "DER_pt_h                        79.169  2834.999  \n",
       "DER_deltaeta_jet_jet              0.49     8.503  \n",
       "DER_mass_jet_jet                83.446  4974.979  \n",
       "DER_prodeta_jet_jet             -4.593     16.69  \n",
       "DER_deltar_tau_lep               2.961     5.684  \n",
       "DER_pt_tot                      27.591  2834.999  \n",
       "DER_sum_pt                   200.47825  1852.462  \n",
       "DER_pt_ratio_lep_tau             1.777    19.773  \n",
       "DER_met_phi_centrality           1.225     1.414  \n",
       "DER_lep_eta_centrality             0.0       1.0  \n",
       "PRI_tau_pt                      45.017   764.408  \n",
       "PRI_tau_eta                      0.898     2.497  \n",
       "PRI_tau_phi                      1.565     3.142  \n",
       "PRI_lep_pt                       53.39   560.271  \n",
       "PRI_lep_eta                      0.959     2.503  \n",
       "PRI_lep_phi                      1.618     3.142  \n",
       "PRI_met                         51.895  2842.617  \n",
       "PRI_met_phi                      1.561     3.142  \n",
       "PRI_met_sumet                263.37925  2003.976  \n",
       "PRI_jet_num                        2.0       3.0  \n",
       "PRI_jet_leading_pt              75.349  1120.573  \n",
       "PRI_jet_leading_eta              0.433     4.499  \n",
       "PRI_jet_leading_phi              0.503     3.141  \n",
       "PRI_jet_subleading_pt           33.703   721.456  \n",
       "PRI_jet_subleading_eta          -2.457       4.5  \n",
       "PRI_jet_subleading_phi          -2.275     3.142  \n",
       "PRI_jet_all_pt               109.93375  1633.433  \n",
       "Weight                        2.404128  7.822543  \n",
       "Label                              NaN       NaN  "
      ]
     },
     "execution_count": 9,
     "metadata": {},
     "output_type": "execute_result"
    }
   ],
   "source": [
    "higgs.describe(include='all').T"
   ]
  },
  {
   "cell_type": "code",
   "execution_count": 10,
   "metadata": {},
   "outputs": [
    {
     "name": "stdout",
     "output_type": "stream",
     "text": [
      "Numerical Features Count 32\n",
      "Categorical feature Count 1\n",
      "Discrete feature Count 1\n",
      "Continuous feature Count 31\n"
     ]
    }
   ],
   "source": [
    "numerical_feature = [feature for feature in higgs.columns if higgs[feature].dtypes != 'O']\n",
    "discrete_feature=[feature for feature in numerical_feature if len(higgs[feature].unique())<25]\n",
    "continuous_feature = [feature for feature in numerical_feature if feature not in discrete_feature]\n",
    "categorical_feature = [feature for feature in higgs.columns if feature not in numerical_feature]\n",
    "\n",
    "print(\"Numerical Features Count {}\".format(len(numerical_feature)))\n",
    "print(\"Categorical feature Count {}\".format(len(categorical_feature)))\n",
    "print(\"Discrete feature Count {}\".format(len(discrete_feature)))\n",
    "print(\"Continuous feature Count {}\".format(len(continuous_feature)))"
   ]
  },
  {
   "cell_type": "code",
   "execution_count": 11,
   "metadata": {},
   "outputs": [
    {
     "data": {
      "text/plain": [
       "0"
      ]
     },
     "execution_count": 11,
     "metadata": {},
     "output_type": "execute_result"
    }
   ],
   "source": [
    "higgs.duplicated().sum()"
   ]
  },
  {
   "cell_type": "code",
   "execution_count": 12,
   "metadata": {},
   "outputs": [
    {
     "data": {
      "text/plain": [
       "[]"
      ]
     },
     "execution_count": 12,
     "metadata": {},
     "output_type": "execute_result"
    }
   ],
   "source": [
    "[col for col in higgs if higgs[col].nunique()==1]"
   ]
  },
  {
   "cell_type": "code",
   "execution_count": 14,
   "metadata": {},
   "outputs": [
    {
     "data": {
      "text/plain": [
       "EventId                        250000\n",
       "DER_mass_MMC                   108338\n",
       "DER_mass_transverse_met_lep    101637\n",
       "DER_mass_vis                   100558\n",
       "DER_pt_h                       115563\n",
       "DER_deltaeta_jet_jet             7087\n",
       "DER_mass_jet_jet                68366\n",
       "DER_prodeta_jet_jet             16593\n",
       "DER_deltar_tau_lep               4692\n",
       "DER_pt_tot                      59042\n",
       "DER_sum_pt                     156098\n",
       "DER_pt_ratio_lep_tau             5931\n",
       "DER_met_phi_centrality           2829\n",
       "DER_lep_eta_centrality           1002\n",
       "PRI_tau_pt                      59639\n",
       "PRI_tau_eta                      4971\n",
       "PRI_tau_phi                      6285\n",
       "PRI_lep_pt                      61929\n",
       "PRI_lep_eta                      4987\n",
       "PRI_lep_phi                      6285\n",
       "PRI_met                         87836\n",
       "PRI_met_phi                      6285\n",
       "PRI_met_sumet                  179740\n",
       "PRI_jet_num                         4\n",
       "PRI_jet_leading_pt              86590\n",
       "PRI_jet_leading_eta              8558\n",
       "PRI_jet_leading_phi              6285\n",
       "PRI_jet_subleading_pt           42464\n",
       "PRI_jet_subleading_eta           8628\n",
       "PRI_jet_subleading_phi           6286\n",
       "PRI_jet_all_pt                 103559\n",
       "Weight                         104096\n",
       "Label                               2\n",
       "dtype: int64"
      ]
     },
     "execution_count": 14,
     "metadata": {},
     "output_type": "execute_result"
    }
   ],
   "source": [
    "higgs.nunique()"
   ]
  },
  {
   "cell_type": "code",
   "execution_count": 21,
   "metadata": {},
   "outputs": [
    {
     "data": {
      "image/png": "[encoded data removed]",
      "text/plain": [
       "<Figure size 1200x2400 with 31 Axes>"
      ]
     },
     "metadata": {},
     "output_type": "display_data"
    }
   ],
   "source": [
    "unpivot = pd.melt(higgs, higgs.describe().columns[0], higgs.describe().columns[1:])\n",
    "\n",
    "g = sns.FacetGrid(unpivot, col=\"variable\", col_wrap=4, sharex=False, sharey=False)\n",
    "g.map(sns.kdeplot, \"value\")\n",
    "\n",
    "plt.show()"
   ]
  },
  {
   "cell_type": "code",
   "execution_count": 24,
   "metadata": {},
   "outputs": [],
   "source": [
    "higgs = higgs[[\n",
    "    # 'EventId', \n",
    "    'DER_mass_MMC', \n",
    "    'DER_mass_transverse_met_lep',\n",
    "    'DER_mass_vis', 'DER_pt_h', 'DER_deltaeta_jet_jet', 'DER_mass_jet_jet',\n",
    "    'DER_prodeta_jet_jet', 'DER_deltar_tau_lep', 'DER_pt_tot', 'DER_sum_pt',\n",
    "    'DER_pt_ratio_lep_tau', 'DER_met_phi_centrality',\n",
    "    'DER_lep_eta_centrality', 'PRI_tau_pt', 'PRI_tau_eta', 'PRI_tau_phi',\n",
    "    'PRI_lep_pt', 'PRI_lep_eta', 'PRI_lep_phi', 'PRI_met', 'PRI_met_phi',\n",
    "    'PRI_met_sumet', 'PRI_jet_num', 'PRI_jet_leading_pt',\n",
    "    'PRI_jet_leading_eta', 'PRI_jet_leading_phi', 'PRI_jet_subleading_pt',\n",
    "    'PRI_jet_subleading_eta', 'PRI_jet_subleading_phi', 'PRI_jet_all_pt',\n",
    "    # 'Weight', \n",
    "    'Label']].copy()"
   ]
  },
  {
   "cell_type": "markdown",
   "metadata": {},
   "source": [
    "- `EventID` is not a feature, it is just an index (dropping it)\n"
   ]
  },
  {
   "cell_type": "markdown",
   "metadata": {},
   "source": [
    "* The `PRI_jet_num` feature is a categorical feature with 4 levels. The number of jets is a key feature for discriminating signal vs background. So it should be treated as a categorical feature."
   ]
  },
  {
   "cell_type": "code",
   "execution_count": 27,
   "metadata": {},
   "outputs": [
    {
     "data": {
      "text/plain": [
       "PRI_jet_num\n",
       "0    99913\n",
       "1    77544\n",
       "2    50379\n",
       "3    22164\n",
       "Name: count, dtype: int64"
      ]
     },
     "execution_count": 27,
     "metadata": {},
     "output_type": "execute_result"
    }
   ],
   "source": [
    "higgs['PRI_jet_num'].value_counts() # This feature is ordinal that shows the number of jets in the event"
   ]
  },
  {
   "cell_type": "markdown",
   "metadata": {},
   "source": [
    "To Treate the `undefined` values like `-999`, first we'll convert it to nan..."
   ]
  },
  {
   "cell_type": "code",
   "execution_count": 38,
   "metadata": {},
   "outputs": [],
   "source": [
    "columns_with_minus_999 = higgs.columns[higgs.eq(-999).any()]"
   ]
  },
  {
   "cell_type": "code",
   "execution_count": 39,
   "metadata": {},
   "outputs": [
    {
     "data": {
      "text/plain": [
       "Index(['DER_deltaeta_jet_jet', 'DER_mass_jet_jet', 'DER_prodeta_jet_jet',\n",
       "       'DER_lep_eta_centrality', 'PRI_jet_leading_pt', 'PRI_jet_leading_eta',\n",
       "       'PRI_jet_leading_phi', 'PRI_jet_subleading_pt',\n",
       "       'PRI_jet_subleading_eta', 'PRI_jet_subleading_phi'],\n",
       "      dtype='object')"
      ]
     },
     "execution_count": 39,
     "metadata": {},
     "output_type": "execute_result"
    }
   ],
   "source": [
    "columns_with_minus_999"
   ]
  },
  {
   "cell_type": "code",
   "execution_count": 43,
   "metadata": {},
   "outputs": [],
   "source": [
    "# replace -999.0 with NaN\n",
    "higgs[columns_with_minus_999] = higgs[columns_with_minus_999].replace(-999.0, np.nan)"
   ]
  },
  {
   "cell_type": "code",
   "execution_count": 48,
   "metadata": {},
   "outputs": [
    {
     "data": {
      "text/plain": [
       "PRI_jet_subleading_pt          70.9828\n",
       "DER_lep_eta_centrality         70.9828\n",
       "PRI_jet_subleading_phi         70.9828\n",
       "DER_deltaeta_jet_jet           70.9828\n",
       "DER_mass_jet_jet               70.9828\n",
       "DER_prodeta_jet_jet            70.9828\n",
       "PRI_jet_subleading_eta         70.9828\n",
       "PRI_jet_leading_eta            39.9652\n",
       "PRI_jet_leading_pt             39.9652\n",
       "PRI_jet_leading_phi            39.9652\n",
       "DER_mass_MMC                   15.2456\n",
       "PRI_lep_phi                     0.0000\n",
       "PRI_jet_all_pt                  0.0000\n",
       "PRI_jet_num                     0.0000\n",
       "PRI_met_sumet                   0.0000\n",
       "PRI_met_phi                     0.0000\n",
       "PRI_met                         0.0000\n",
       "PRI_tau_phi                     0.0000\n",
       "PRI_lep_eta                     0.0000\n",
       "PRI_lep_pt                      0.0000\n",
       "DER_mass_transverse_met_lep     0.0000\n",
       "PRI_tau_eta                     0.0000\n",
       "PRI_tau_pt                      0.0000\n",
       "DER_met_phi_centrality          0.0000\n",
       "DER_pt_ratio_lep_tau            0.0000\n",
       "DER_sum_pt                      0.0000\n",
       "DER_pt_tot                      0.0000\n",
       "DER_deltar_tau_lep              0.0000\n",
       "DER_pt_h                        0.0000\n",
       "DER_mass_vis                    0.0000\n",
       "Label                           0.0000\n",
       "dtype: float64"
      ]
     },
     "execution_count": 48,
     "metadata": {},
     "output_type": "execute_result"
    }
   ],
   "source": [
    "null_val = higgs.isnull().sum(axis=0) * 100 / higgs.shape[0]\n",
    "null_val.sort_values(ascending=False)   "
   ]
  },
  {
   "cell_type": "code",
   "execution_count": 49,
   "metadata": {},
   "outputs": [
    {
     "data": {
      "text/plain": [
       "array(['DER_deltaeta_jet_jet', 'DER_mass_jet_jet', 'DER_prodeta_jet_jet',\n",
       "       'DER_lep_eta_centrality', 'PRI_jet_subleading_pt',\n",
       "       'PRI_jet_subleading_eta', 'PRI_jet_subleading_phi'], dtype=object)"
      ]
     },
     "execution_count": 49,
     "metadata": {},
     "output_type": "execute_result"
    }
   ],
   "source": [
    "null_val[null_val > 50].index.values"
   ]
  },
  {
   "cell_type": "markdown",
   "metadata": {},
   "source": [
    "Will drop columns with more than 50% nan values..."
   ]
  },
  {
   "cell_type": "code",
   "execution_count": 51,
   "metadata": {},
   "outputs": [],
   "source": [
    "columns_above_50_percent_null = null_val[null_val > 50].index.tolist()\n",
    "higgs.drop(columns_above_50_percent_null, axis=1, inplace=True)"
   ]
  },
  {
   "cell_type": "code",
   "execution_count": 52,
   "metadata": {},
   "outputs": [
    {
     "data": {
      "text/plain": [
       "(250000, 24)"
      ]
     },
     "execution_count": 52,
     "metadata": {},
     "output_type": "execute_result"
    }
   ],
   "source": [
    "higgs.shape"
   ]
  },
  {
   "cell_type": "code",
   "execution_count": 61,
   "metadata": {},
   "outputs": [
    {
     "data": {
      "text/plain": [
       "DER_mass_MMC           15.2456\n",
       "PRI_jet_leading_pt     39.9652\n",
       "PRI_jet_leading_eta    39.9652\n",
       "PRI_jet_leading_phi    39.9652\n",
       "dtype: float64"
      ]
     },
     "execution_count": 61,
     "metadata": {},
     "output_type": "execute_result"
    }
   ],
   "source": [
    "null_val = null_val[null_val > 0]\n",
    "null_val"
   ]
  },
  {
   "cell_type": "code",
   "execution_count": 63,
   "metadata": {},
   "outputs": [
    {
     "data": {
      "text/plain": [
       "(250000, 24)"
      ]
     },
     "execution_count": 63,
     "metadata": {},
     "output_type": "execute_result"
    }
   ],
   "source": [
    "higgs.shape"
   ]
  },
  {
   "cell_type": "code",
   "execution_count": 64,
   "metadata": {},
   "outputs": [],
   "source": [
    "# We will remove the rows with NAN values present in all undef value columns \n",
    "higgs_copy = higgs.copy()\n",
    "higgs_copy = higgs_copy[higgs_copy[null_val.index.tolist()].isna().sum(axis=1) == 0] "
   ]
  },
  {
   "cell_type": "code",
   "execution_count": 65,
   "metadata": {},
   "outputs": [
    {
     "data": {
      "text/plain": [
       "(138096, 24)"
      ]
     },
     "execution_count": 65,
     "metadata": {},
     "output_type": "execute_result"
    }
   ],
   "source": [
    "higgs_copy.shape "
   ]
  },
  {
   "cell_type": "markdown",
   "metadata": {},
   "source": [
    "+ IF we use this technique we loose 55% of the data... `we can't afford that`..."
   ]
  },
  {
   "cell_type": "code",
   "execution_count": 66,
   "metadata": {},
   "outputs": [
    {
     "data": {
      "text/plain": [
       "(250000, 24)"
      ]
     },
     "execution_count": 66,
     "metadata": {},
     "output_type": "execute_result"
    }
   ],
   "source": [
    "higgs.shape"
   ]
  },
  {
   "cell_type": "markdown",
   "metadata": {},
   "source": [
    "* For remaining columns with null values ... we will use knn imputer to fill the null values..."
   ]
  },
  {
   "cell_type": "code",
   "execution_count": 67,
   "metadata": {},
   "outputs": [],
   "source": [
    "# we will use knn imputer to impute the missing values for numerical columns\n",
    "from sklearn.impute import KNNImputer\n",
    "\n",
    "imputer = KNNImputer(n_neighbors=5, weights=\"uniform\")"
   ]
  },
  {
   "cell_type": "code",
   "execution_count": 68,
   "metadata": {},
   "outputs": [],
   "source": [
    "higgs[null_val.index.tolist()] = imputer.fit_transform(higgs[null_val.index.tolist()])"
   ]
  },
  {
   "cell_type": "code",
   "execution_count": 69,
   "metadata": {},
   "outputs": [
    {
     "data": {
      "text/plain": [
       "DER_mass_MMC                   0.0\n",
       "DER_mass_transverse_met_lep    0.0\n",
       "PRI_jet_all_pt                 0.0\n",
       "PRI_jet_leading_phi            0.0\n",
       "PRI_jet_leading_eta            0.0\n",
       "PRI_jet_leading_pt             0.0\n",
       "PRI_jet_num                    0.0\n",
       "PRI_met_sumet                  0.0\n",
       "PRI_met_phi                    0.0\n",
       "PRI_met                        0.0\n",
       "PRI_lep_phi                    0.0\n",
       "PRI_lep_eta                    0.0\n",
       "PRI_lep_pt                     0.0\n",
       "PRI_tau_phi                    0.0\n",
       "PRI_tau_eta                    0.0\n",
       "PRI_tau_pt                     0.0\n",
       "DER_met_phi_centrality         0.0\n",
       "DER_pt_ratio_lep_tau           0.0\n",
       "DER_sum_pt                     0.0\n",
       "DER_pt_tot                     0.0\n",
       "DER_deltar_tau_lep             0.0\n",
       "DER_pt_h                       0.0\n",
       "DER_mass_vis                   0.0\n",
       "Label                          0.0\n",
       "dtype: float64"
      ]
     },
     "execution_count": 69,
     "metadata": {},
     "output_type": "execute_result"
    }
   ],
   "source": [
    "null_val = higgs.isnull().sum(axis=0) * 100 / higgs.shape[0]\n",
    "null_val.sort_values(ascending=False)   "
   ]
  },
  {
   "cell_type": "code",
   "execution_count": 71,
   "metadata": {},
   "outputs": [
    {
     "data": {
      "text/plain": [
       "(250000, 24)"
      ]
     },
     "execution_count": 71,
     "metadata": {},
     "output_type": "execute_result"
    }
   ],
   "source": [
    "higgs.shape"
   ]
  },
  {
   "cell_type": "code",
   "execution_count": 70,
   "metadata": {},
   "outputs": [],
   "source": [
    "higgs.to_csv('../Dataset/higgs_imputed.csv', index=False)"
   ]
  },
  {
   "cell_type": "markdown",
   "metadata": {},
   "source": [
    "### Checkpoint 1 ... "
   ]
  },
  {
   "cell_type": "code",
   "execution_count": 2,
   "metadata": {},
   "outputs": [
    {
     "data": {
      "text/plain": [
       "(250000, 24)"
      ]
     },
     "execution_count": 2,
     "metadata": {},
     "output_type": "execute_result"
    }
   ],
   "source": [
    "higgs = pd.read_csv('../Dataset/higgs_imputed.csv')\n",
    "higgs.shape"
   ]
  },
  {
   "cell_type": "markdown",
   "metadata": {},
   "source": [
    "## EDA"
   ]
  },
  {
   "cell_type": "markdown",
   "metadata": {},
   "source": [
    "* The goal is to generate plots that provide insight into:\n",
    "\n",
    "    - Separation between signal and background\n",
    "    - Relationship between PRI and DER features\n",
    "    - Physics behind signal vs. background characteristics"
   ]
  },
  {
   "cell_type": "code",
   "execution_count": 7,
   "metadata": {},
   "outputs": [
    {
     "data": {
      "text/plain": [
       "Text(0, 0.5, 'Frequency')"
      ]
     },
     "execution_count": 7,
     "metadata": {},
     "output_type": "execute_result"
    },
    {
     "data": {
      "image/png": "[encoded data removed]",
      "text/plain": [
       "<Figure size 1000x600 with 1 Axes>"
      ]
     },
     "metadata": {},
     "output_type": "display_data"
    }
   ],
   "source": [
    "# 1. Histogram of DER_mass_MMC by Label\n",
    "plt.figure(figsize=(10, 6))\n",
    "plt.hist(higgs[higgs['Label']=='s']['DER_mass_MMC'].clip(lower=0, upper=200), bins=20, alpha=0.5, label='Signal')\n",
    "plt.hist(higgs[higgs['Label']=='b']['DER_mass_MMC'].clip(lower=0, upper=200), bins=20, alpha=0.5, label='Background')\n",
    "plt.legend()\n",
    "plt.xlabel('DER_mass_MMC'); plt.ylabel('Frequency')"
   ]
  },
  {
   "cell_type": "markdown",
   "metadata": {},
   "source": [
    "This shows the distribution of the reconstructed Higgs mass for signal vs background. Potentially useful to see separation."
   ]
  },
  {
   "cell_type": "code",
   "execution_count": 8,
   "metadata": {},
   "outputs": [
    {
     "data": {
      "text/plain": [
       "<Axes: xlabel='PRI_tau_pt', ylabel='DER_pt_tot'>"
      ]
     },
     "execution_count": 8,
     "metadata": {},
     "output_type": "execute_result"
    },
    {
     "data": {
      "image/png": "[encoded data removed]",
      "text/plain": [
       "<Figure size 640x480 with 1 Axes>"
      ]
     },
     "metadata": {},
     "output_type": "display_data"
    }
   ],
   "source": [
    "# 2. Scatter plot of DER_pt_tot vs PRI_tau_pt by Label \n",
    "ax = sns.scatterplot(data=higgs, x='PRI_tau_pt', y='DER_pt_tot', hue='Label')\n",
    "ax.set(xlim=(0, 200), ylim=(0, 500))"
   ]
  },
  {
   "cell_type": "markdown",
   "metadata": {},
   "source": [
    "Shows if total transverse momentum separates signal from background when compared to tau pt."
   ]
  },
  {
   "cell_type": "code",
   "execution_count": 10,
   "metadata": {},
   "outputs": [
    {
     "data": {
      "text/plain": [
       "<Axes: xlabel='PRI_jet_num', ylabel='count'>"
      ]
     },
     "execution_count": 10,
     "metadata": {},
     "output_type": "execute_result"
    },
    {
     "data": {
      "image/png": "[encoded data removed]",
      "text/plain": [
       "<Figure size 640x480 with 1 Axes>"
      ]
     },
     "metadata": {},
     "output_type": "display_data"
    }
   ],
   "source": [
    "# 3. Bar plot of PRI_jet_num by Label\n",
    "sns.countplot(data=higgs, x='PRI_jet_num', hue='Label')"
   ]
  },
  {
   "cell_type": "markdown",
   "metadata": {},
   "source": [
    "Shows whether jet multiplicity differs between signal and background."
   ]
  },
  {
   "cell_type": "code",
   "execution_count": 14,
   "metadata": {},
   "outputs": [
    {
     "data": {
      "text/plain": [
       "<seaborn.axisgrid.PairGrid at 0x25b51737b20>"
      ]
     },
     "execution_count": 14,
     "metadata": {},
     "output_type": "execute_result"
    },
    {
     "data": {
      "image/png": "[encoded data removed]",
      "text/plain": [
       "<Figure size 808.875x750 with 12 Axes>"
      ]
     },
     "metadata": {},
     "output_type": "display_data"
    }
   ],
   "source": [
    "# 4. Grid of density plots\n",
    "features = ['DER_mass_MMC', 'PRI_tau_pt', 'PRI_met',\"Label\"] \n",
    "sns.pairplot(higgs[features], kind='kde', hue='Label')"
   ]
  },
  {
   "cell_type": "markdown",
   "metadata": {},
   "source": [
    "Grid of plots showing the pairwise relationships between PRI and DER features, conditioned on Label."
   ]
  },
  {
   "cell_type": "markdown",
   "metadata": {},
   "source": [
    "* Clearly there are some outliers in the dataset ... "
   ]
  },
  {
   "cell_type": "code",
   "execution_count": 5,
   "metadata": {},
   "outputs": [
    {
     "data": {
      "text/html": [
       "<div>\n",
       "<style scoped>\n",
       "    .dataframe tbody tr th:only-of-type {\n",
       "        vertical-align: middle;\n",
       "    }\n",
       "\n",
       "    .dataframe tbody tr th {\n",
       "        vertical-align: top;\n",
       "    }\n",
       "\n",
       "    .dataframe thead th {\n",
       "        text-align: right;\n",
       "    }\n",
       "</style>\n",
       "<table border=\"1\" class=\"dataframe\">\n",
       "  <thead>\n",
       "    <tr style=\"text-align: right;\">\n",
       "      <th></th>\n",
       "      <th>count</th>\n",
       "      <th>unique</th>\n",
       "      <th>top</th>\n",
       "      <th>freq</th>\n",
       "      <th>mean</th>\n",
       "      <th>std</th>\n",
       "      <th>min</th>\n",
       "      <th>25%</th>\n",
       "      <th>50%</th>\n",
       "      <th>75%</th>\n",
       "      <th>max</th>\n",
       "    </tr>\n",
       "  </thead>\n",
       "  <tbody>\n",
       "    <tr>\n",
       "      <th>DER_mass_MMC</th>\n",
       "      <td>250000.0</td>\n",
       "      <td>NaN</td>\n",
       "      <td>NaN</td>\n",
       "      <td>NaN</td>\n",
       "      <td>121.869125</td>\n",
       "      <td>53.06764</td>\n",
       "      <td>9.044</td>\n",
       "      <td>95.21375</td>\n",
       "      <td>117.5195</td>\n",
       "      <td>132.08125</td>\n",
       "      <td>1192.026</td>\n",
       "    </tr>\n",
       "    <tr>\n",
       "      <th>DER_mass_transverse_met_lep</th>\n",
       "      <td>250000.0</td>\n",
       "      <td>NaN</td>\n",
       "      <td>NaN</td>\n",
       "      <td>NaN</td>\n",
       "      <td>49.239819</td>\n",
       "      <td>35.344886</td>\n",
       "      <td>0.0</td>\n",
       "      <td>19.241</td>\n",
       "      <td>46.524</td>\n",
       "      <td>73.598</td>\n",
       "      <td>690.075</td>\n",
       "    </tr>\n",
       "    <tr>\n",
       "      <th>DER_mass_vis</th>\n",
       "      <td>250000.0</td>\n",
       "      <td>NaN</td>\n",
       "      <td>NaN</td>\n",
       "      <td>NaN</td>\n",
       "      <td>81.181982</td>\n",
       "      <td>40.828691</td>\n",
       "      <td>6.329</td>\n",
       "      <td>59.38875</td>\n",
       "      <td>73.752</td>\n",
       "      <td>92.259</td>\n",
       "      <td>1349.351</td>\n",
       "    </tr>\n",
       "    <tr>\n",
       "      <th>DER_pt_h</th>\n",
       "      <td>250000.0</td>\n",
       "      <td>NaN</td>\n",
       "      <td>NaN</td>\n",
       "      <td>NaN</td>\n",
       "      <td>57.895962</td>\n",
       "      <td>63.655682</td>\n",
       "      <td>0.0</td>\n",
       "      <td>14.06875</td>\n",
       "      <td>38.4675</td>\n",
       "      <td>79.169</td>\n",
       "      <td>2834.999</td>\n",
       "    </tr>\n",
       "    <tr>\n",
       "      <th>DER_deltar_tau_lep</th>\n",
       "      <td>250000.0</td>\n",
       "      <td>NaN</td>\n",
       "      <td>NaN</td>\n",
       "      <td>NaN</td>\n",
       "      <td>2.3731</td>\n",
       "      <td>0.782911</td>\n",
       "      <td>0.208</td>\n",
       "      <td>1.81</td>\n",
       "      <td>2.4915</td>\n",
       "      <td>2.961</td>\n",
       "      <td>5.684</td>\n",
       "    </tr>\n",
       "    <tr>\n",
       "      <th>DER_pt_tot</th>\n",
       "      <td>250000.0</td>\n",
       "      <td>NaN</td>\n",
       "      <td>NaN</td>\n",
       "      <td>NaN</td>\n",
       "      <td>18.917332</td>\n",
       "      <td>22.273494</td>\n",
       "      <td>0.0</td>\n",
       "      <td>2.841</td>\n",
       "      <td>12.3155</td>\n",
       "      <td>27.591</td>\n",
       "      <td>2834.999</td>\n",
       "    </tr>\n",
       "    <tr>\n",
       "      <th>DER_sum_pt</th>\n",
       "      <td>250000.0</td>\n",
       "      <td>NaN</td>\n",
       "      <td>NaN</td>\n",
       "      <td>NaN</td>\n",
       "      <td>158.432217</td>\n",
       "      <td>115.706115</td>\n",
       "      <td>46.104</td>\n",
       "      <td>77.55</td>\n",
       "      <td>120.6645</td>\n",
       "      <td>200.47825</td>\n",
       "      <td>1852.462</td>\n",
       "    </tr>\n",
       "    <tr>\n",
       "      <th>DER_pt_ratio_lep_tau</th>\n",
       "      <td>250000.0</td>\n",
       "      <td>NaN</td>\n",
       "      <td>NaN</td>\n",
       "      <td>NaN</td>\n",
       "      <td>1.437609</td>\n",
       "      <td>0.844743</td>\n",
       "      <td>0.047</td>\n",
       "      <td>0.883</td>\n",
       "      <td>1.28</td>\n",
       "      <td>1.777</td>\n",
       "      <td>19.773</td>\n",
       "    </tr>\n",
       "    <tr>\n",
       "      <th>DER_met_phi_centrality</th>\n",
       "      <td>250000.0</td>\n",
       "      <td>NaN</td>\n",
       "      <td>NaN</td>\n",
       "      <td>NaN</td>\n",
       "      <td>-0.128305</td>\n",
       "      <td>1.193585</td>\n",
       "      <td>-1.414</td>\n",
       "      <td>-1.371</td>\n",
       "      <td>-0.356</td>\n",
       "      <td>1.225</td>\n",
       "      <td>1.414</td>\n",
       "    </tr>\n",
       "    <tr>\n",
       "      <th>PRI_tau_pt</th>\n",
       "      <td>250000.0</td>\n",
       "      <td>NaN</td>\n",
       "      <td>NaN</td>\n",
       "      <td>NaN</td>\n",
       "      <td>38.707419</td>\n",
       "      <td>22.412081</td>\n",
       "      <td>20.0</td>\n",
       "      <td>24.59175</td>\n",
       "      <td>31.804</td>\n",
       "      <td>45.017</td>\n",
       "      <td>764.408</td>\n",
       "    </tr>\n",
       "    <tr>\n",
       "      <th>PRI_tau_eta</th>\n",
       "      <td>250000.0</td>\n",
       "      <td>NaN</td>\n",
       "      <td>NaN</td>\n",
       "      <td>NaN</td>\n",
       "      <td>-0.010973</td>\n",
       "      <td>1.214079</td>\n",
       "      <td>-2.499</td>\n",
       "      <td>-0.925</td>\n",
       "      <td>-0.023</td>\n",
       "      <td>0.898</td>\n",
       "      <td>2.497</td>\n",
       "    </tr>\n",
       "    <tr>\n",
       "      <th>PRI_tau_phi</th>\n",
       "      <td>250000.0</td>\n",
       "      <td>NaN</td>\n",
       "      <td>NaN</td>\n",
       "      <td>NaN</td>\n",
       "      <td>-0.008171</td>\n",
       "      <td>1.816763</td>\n",
       "      <td>-3.142</td>\n",
       "      <td>-1.575</td>\n",
       "      <td>-0.033</td>\n",
       "      <td>1.565</td>\n",
       "      <td>3.142</td>\n",
       "    </tr>\n",
       "    <tr>\n",
       "      <th>PRI_lep_pt</th>\n",
       "      <td>250000.0</td>\n",
       "      <td>NaN</td>\n",
       "      <td>NaN</td>\n",
       "      <td>NaN</td>\n",
       "      <td>46.660207</td>\n",
       "      <td>22.064922</td>\n",
       "      <td>26.0</td>\n",
       "      <td>32.375</td>\n",
       "      <td>40.516</td>\n",
       "      <td>53.39</td>\n",
       "      <td>560.271</td>\n",
       "    </tr>\n",
       "    <tr>\n",
       "      <th>PRI_lep_eta</th>\n",
       "      <td>250000.0</td>\n",
       "      <td>NaN</td>\n",
       "      <td>NaN</td>\n",
       "      <td>NaN</td>\n",
       "      <td>-0.019507</td>\n",
       "      <td>1.264982</td>\n",
       "      <td>-2.505</td>\n",
       "      <td>-1.014</td>\n",
       "      <td>-0.045</td>\n",
       "      <td>0.959</td>\n",
       "      <td>2.503</td>\n",
       "    </tr>\n",
       "    <tr>\n",
       "      <th>PRI_lep_phi</th>\n",
       "      <td>250000.0</td>\n",
       "      <td>NaN</td>\n",
       "      <td>NaN</td>\n",
       "      <td>NaN</td>\n",
       "      <td>0.043543</td>\n",
       "      <td>1.816611</td>\n",
       "      <td>-3.142</td>\n",
       "      <td>-1.522</td>\n",
       "      <td>0.086</td>\n",
       "      <td>1.618</td>\n",
       "      <td>3.142</td>\n",
       "    </tr>\n",
       "    <tr>\n",
       "      <th>PRI_met</th>\n",
       "      <td>250000.0</td>\n",
       "      <td>NaN</td>\n",
       "      <td>NaN</td>\n",
       "      <td>NaN</td>\n",
       "      <td>41.717235</td>\n",
       "      <td>32.894693</td>\n",
       "      <td>0.109</td>\n",
       "      <td>21.398</td>\n",
       "      <td>34.802</td>\n",
       "      <td>51.895</td>\n",
       "      <td>2842.617</td>\n",
       "    </tr>\n",
       "    <tr>\n",
       "      <th>PRI_met_phi</th>\n",
       "      <td>250000.0</td>\n",
       "      <td>NaN</td>\n",
       "      <td>NaN</td>\n",
       "      <td>NaN</td>\n",
       "      <td>-0.010119</td>\n",
       "      <td>1.812223</td>\n",
       "      <td>-3.142</td>\n",
       "      <td>-1.575</td>\n",
       "      <td>-0.024</td>\n",
       "      <td>1.561</td>\n",
       "      <td>3.142</td>\n",
       "    </tr>\n",
       "    <tr>\n",
       "      <th>PRI_met_sumet</th>\n",
       "      <td>250000.0</td>\n",
       "      <td>NaN</td>\n",
       "      <td>NaN</td>\n",
       "      <td>NaN</td>\n",
       "      <td>209.797178</td>\n",
       "      <td>126.499506</td>\n",
       "      <td>13.678</td>\n",
       "      <td>123.0175</td>\n",
       "      <td>179.739</td>\n",
       "      <td>263.37925</td>\n",
       "      <td>2003.976</td>\n",
       "    </tr>\n",
       "    <tr>\n",
       "      <th>PRI_jet_num</th>\n",
       "      <td>250000.0</td>\n",
       "      <td>NaN</td>\n",
       "      <td>NaN</td>\n",
       "      <td>NaN</td>\n",
       "      <td>0.979176</td>\n",
       "      <td>0.977426</td>\n",
       "      <td>0.0</td>\n",
       "      <td>0.0</td>\n",
       "      <td>1.0</td>\n",
       "      <td>2.0</td>\n",
       "      <td>3.0</td>\n",
       "    </tr>\n",
       "    <tr>\n",
       "      <th>PRI_jet_leading_pt</th>\n",
       "      <td>250000.0</td>\n",
       "      <td>NaN</td>\n",
       "      <td>NaN</td>\n",
       "      <td>NaN</td>\n",
       "      <td>84.916635</td>\n",
       "      <td>49.371198</td>\n",
       "      <td>30.0</td>\n",
       "      <td>53.684</td>\n",
       "      <td>78.01</td>\n",
       "      <td>97.179</td>\n",
       "      <td>1120.573</td>\n",
       "    </tr>\n",
       "    <tr>\n",
       "      <th>PRI_jet_leading_eta</th>\n",
       "      <td>250000.0</td>\n",
       "      <td>NaN</td>\n",
       "      <td>NaN</td>\n",
       "      <td>NaN</td>\n",
       "      <td>-0.005442</td>\n",
       "      <td>1.44744</td>\n",
       "      <td>-4.499</td>\n",
       "      <td>-0.834</td>\n",
       "      <td>-0.003275</td>\n",
       "      <td>0.815</td>\n",
       "      <td>4.499</td>\n",
       "    </tr>\n",
       "    <tr>\n",
       "      <th>PRI_jet_leading_phi</th>\n",
       "      <td>250000.0</td>\n",
       "      <td>NaN</td>\n",
       "      <td>NaN</td>\n",
       "      <td>NaN</td>\n",
       "      <td>-0.013109</td>\n",
       "      <td>1.4722</td>\n",
       "      <td>-3.142</td>\n",
       "      <td>-0.9458</td>\n",
       "      <td>-0.012393</td>\n",
       "      <td>0.91065</td>\n",
       "      <td>3.141</td>\n",
       "    </tr>\n",
       "    <tr>\n",
       "      <th>PRI_jet_all_pt</th>\n",
       "      <td>250000.0</td>\n",
       "      <td>NaN</td>\n",
       "      <td>NaN</td>\n",
       "      <td>NaN</td>\n",
       "      <td>73.064591</td>\n",
       "      <td>98.015662</td>\n",
       "      <td>0.0</td>\n",
       "      <td>-0.0</td>\n",
       "      <td>40.5125</td>\n",
       "      <td>109.93375</td>\n",
       "      <td>1633.433</td>\n",
       "    </tr>\n",
       "    <tr>\n",
       "      <th>Label</th>\n",
       "      <td>250000</td>\n",
       "      <td>2</td>\n",
       "      <td>b</td>\n",
       "      <td>164333</td>\n",
       "      <td>NaN</td>\n",
       "      <td>NaN</td>\n",
       "      <td>NaN</td>\n",
       "      <td>NaN</td>\n",
       "      <td>NaN</td>\n",
       "      <td>NaN</td>\n",
       "      <td>NaN</td>\n",
       "    </tr>\n",
       "  </tbody>\n",
       "</table>\n",
       "</div>"
      ],
      "text/plain": [
       "                                count unique  top    freq        mean  \\\n",
       "DER_mass_MMC                 250000.0    NaN  NaN     NaN  121.869125   \n",
       "DER_mass_transverse_met_lep  250000.0    NaN  NaN     NaN   49.239819   \n",
       "DER_mass_vis                 250000.0    NaN  NaN     NaN   81.181982   \n",
       "DER_pt_h                     250000.0    NaN  NaN     NaN   57.895962   \n",
       "DER_deltar_tau_lep           250000.0    NaN  NaN     NaN      2.3731   \n",
       "DER_pt_tot                   250000.0    NaN  NaN     NaN   18.917332   \n",
       "DER_sum_pt                   250000.0    NaN  NaN     NaN  158.432217   \n",
       "DER_pt_ratio_lep_tau         250000.0    NaN  NaN     NaN    1.437609   \n",
       "DER_met_phi_centrality       250000.0    NaN  NaN     NaN   -0.128305   \n",
       "PRI_tau_pt                   250000.0    NaN  NaN     NaN   38.707419   \n",
       "PRI_tau_eta                  250000.0    NaN  NaN     NaN   -0.010973   \n",
       "PRI_tau_phi                  250000.0    NaN  NaN     NaN   -0.008171   \n",
       "PRI_lep_pt                   250000.0    NaN  NaN     NaN   46.660207   \n",
       "PRI_lep_eta                  250000.0    NaN  NaN     NaN   -0.019507   \n",
       "PRI_lep_phi                  250000.0    NaN  NaN     NaN    0.043543   \n",
       "PRI_met                      250000.0    NaN  NaN     NaN   41.717235   \n",
       "PRI_met_phi                  250000.0    NaN  NaN     NaN   -0.010119   \n",
       "PRI_met_sumet                250000.0    NaN  NaN     NaN  209.797178   \n",
       "PRI_jet_num                  250000.0    NaN  NaN     NaN    0.979176   \n",
       "PRI_jet_leading_pt           250000.0    NaN  NaN     NaN   84.916635   \n",
       "PRI_jet_leading_eta          250000.0    NaN  NaN     NaN   -0.005442   \n",
       "PRI_jet_leading_phi          250000.0    NaN  NaN     NaN   -0.013109   \n",
       "PRI_jet_all_pt               250000.0    NaN  NaN     NaN   73.064591   \n",
       "Label                          250000      2    b  164333         NaN   \n",
       "\n",
       "                                    std     min       25%       50%  \\\n",
       "DER_mass_MMC                   53.06764   9.044  95.21375  117.5195   \n",
       "DER_mass_transverse_met_lep   35.344886     0.0    19.241    46.524   \n",
       "DER_mass_vis                  40.828691   6.329  59.38875    73.752   \n",
       "DER_pt_h                      63.655682     0.0  14.06875   38.4675   \n",
       "DER_deltar_tau_lep             0.782911   0.208      1.81    2.4915   \n",
       "DER_pt_tot                    22.273494     0.0     2.841   12.3155   \n",
       "DER_sum_pt                   115.706115  46.104     77.55  120.6645   \n",
       "DER_pt_ratio_lep_tau           0.844743   0.047     0.883      1.28   \n",
       "DER_met_phi_centrality         1.193585  -1.414    -1.371    -0.356   \n",
       "PRI_tau_pt                    22.412081    20.0  24.59175    31.804   \n",
       "PRI_tau_eta                    1.214079  -2.499    -0.925    -0.023   \n",
       "PRI_tau_phi                    1.816763  -3.142    -1.575    -0.033   \n",
       "PRI_lep_pt                    22.064922    26.0    32.375    40.516   \n",
       "PRI_lep_eta                    1.264982  -2.505    -1.014    -0.045   \n",
       "PRI_lep_phi                    1.816611  -3.142    -1.522     0.086   \n",
       "PRI_met                       32.894693   0.109    21.398    34.802   \n",
       "PRI_met_phi                    1.812223  -3.142    -1.575    -0.024   \n",
       "PRI_met_sumet                126.499506  13.678  123.0175   179.739   \n",
       "PRI_jet_num                    0.977426     0.0       0.0       1.0   \n",
       "PRI_jet_leading_pt            49.371198    30.0    53.684     78.01   \n",
       "PRI_jet_leading_eta             1.44744  -4.499    -0.834 -0.003275   \n",
       "PRI_jet_leading_phi              1.4722  -3.142   -0.9458 -0.012393   \n",
       "PRI_jet_all_pt                98.015662     0.0      -0.0   40.5125   \n",
       "Label                               NaN     NaN       NaN       NaN   \n",
       "\n",
       "                                   75%       max  \n",
       "DER_mass_MMC                 132.08125  1192.026  \n",
       "DER_mass_transverse_met_lep     73.598   690.075  \n",
       "DER_mass_vis                    92.259  1349.351  \n",
       "DER_pt_h                        79.169  2834.999  \n",
       "DER_deltar_tau_lep               2.961     5.684  \n",
       "DER_pt_tot                      27.591  2834.999  \n",
       "DER_sum_pt                   200.47825  1852.462  \n",
       "DER_pt_ratio_lep_tau             1.777    19.773  \n",
       "DER_met_phi_centrality           1.225     1.414  \n",
       "PRI_tau_pt                      45.017   764.408  \n",
       "PRI_tau_eta                      0.898     2.497  \n",
       "PRI_tau_phi                      1.565     3.142  \n",
       "PRI_lep_pt                       53.39   560.271  \n",
       "PRI_lep_eta                      0.959     2.503  \n",
       "PRI_lep_phi                      1.618     3.142  \n",
       "PRI_met                         51.895  2842.617  \n",
       "PRI_met_phi                      1.561     3.142  \n",
       "PRI_met_sumet                263.37925  2003.976  \n",
       "PRI_jet_num                        2.0       3.0  \n",
       "PRI_jet_leading_pt              97.179  1120.573  \n",
       "PRI_jet_leading_eta              0.815     4.499  \n",
       "PRI_jet_leading_phi            0.91065     3.141  \n",
       "PRI_jet_all_pt               109.93375  1633.433  \n",
       "Label                              NaN       NaN  "
      ]
     },
     "execution_count": 5,
     "metadata": {},
     "output_type": "execute_result"
    }
   ],
   "source": [
    "higgs.describe(include='all').T"
   ]
  },
  {
   "cell_type": "markdown",
   "metadata": {},
   "source": [
    "### Splitting the data:"
   ]
  },
  {
   "cell_type": "code",
   "execution_count": 3,
   "metadata": {},
   "outputs": [],
   "source": [
    "X_train, X_test, y_train, y_test = train_test_split(higgs.drop('Label', axis=1), higgs['Label'], test_size=0.2, shuffle=True,stratify=higgs[\"Label\"], random_state=42)"
   ]
  },
  {
   "cell_type": "code",
   "execution_count": 4,
   "metadata": {},
   "outputs": [
    {
     "data": {
      "text/plain": [
       "((50000, 24), (200000, 24))"
      ]
     },
     "execution_count": 4,
     "metadata": {},
     "output_type": "execute_result"
    }
   ],
   "source": [
    "data_train = pd.concat([X_train, y_train], axis=1)\n",
    "data_test = pd.concat([X_test, y_test], axis=1)\n",
    "data_test.shape, data_train.shape"
   ]
  },
  {
   "cell_type": "code",
   "execution_count": 5,
   "metadata": {},
   "outputs": [],
   "source": [
    "#separating numerical and categorical features\n",
    "num_features = data_train.select_dtypes(include = ['float64', 'int64']).columns\n",
    "cat_features = data_train.select_dtypes(include = ['object']).columns"
   ]
  },
  {
   "cell_type": "code",
   "execution_count": 6,
   "metadata": {},
   "outputs": [
    {
     "data": {
      "text/plain": [
       "Index(['DER_mass_MMC', 'DER_mass_transverse_met_lep', 'DER_mass_vis',\n",
       "       'DER_pt_h', 'DER_deltar_tau_lep', 'DER_pt_tot', 'DER_sum_pt',\n",
       "       'DER_pt_ratio_lep_tau', 'DER_met_phi_centrality', 'PRI_tau_pt',\n",
       "       'PRI_tau_eta', 'PRI_tau_phi', 'PRI_lep_pt', 'PRI_lep_eta',\n",
       "       'PRI_lep_phi', 'PRI_met', 'PRI_met_phi', 'PRI_met_sumet', 'PRI_jet_num',\n",
       "       'PRI_jet_leading_pt', 'PRI_jet_leading_eta', 'PRI_jet_leading_phi',\n",
       "       'PRI_jet_all_pt'],\n",
       "      dtype='object')"
      ]
     },
     "execution_count": 6,
     "metadata": {},
     "output_type": "execute_result"
    }
   ],
   "source": [
    "num_features"
   ]
  },
  {
   "cell_type": "code",
   "execution_count": 7,
   "metadata": {},
   "outputs": [
    {
     "data": {
      "text/plain": [
       "Index(['Label'], dtype='object')"
      ]
     },
     "execution_count": 7,
     "metadata": {},
     "output_type": "execute_result"
    }
   ],
   "source": [
    "cat_features"
   ]
  },
  {
   "cell_type": "markdown",
   "metadata": {},
   "source": [
    "#### IQR technique"
   ]
  },
  {
   "cell_type": "code",
   "execution_count": 9,
   "metadata": {},
   "outputs": [],
   "source": [
    "#outlier removal using IQR on train data ...\n",
    "for i in num_features:\n",
    "    q1 = data_train[i].quantile(0.25)\n",
    "    q3 = data_train[i].quantile(0.75)\n",
    "    iqr = q3 - q1\n",
    "    data_train = data_train[(data_train[i] >= q1 - 1.5*iqr) & (data_train[i] <= q3 + 1.5*iqr)]"
   ]
  },
  {
   "cell_type": "code",
   "execution_count": 10,
   "metadata": {},
   "outputs": [],
   "source": [
    "X = data_train.drop('Label', axis=1)\n",
    "y = data_train['Label']"
   ]
  },
  {
   "cell_type": "markdown",
   "metadata": {},
   "source": [
    "#### Scaling Features"
   ]
  },
  {
   "cell_type": "code",
   "execution_count": 11,
   "metadata": {},
   "outputs": [],
   "source": [
    "from sklearn.preprocessing import StandardScaler\n",
    "scaler = StandardScaler()\n",
    "X = scaler.fit_transform(X)"
   ]
  },
  {
   "cell_type": "code",
   "execution_count": 12,
   "metadata": {},
   "outputs": [],
   "source": [
    "y.replace({'s':1, 'b':0}, inplace=True)"
   ]
  },
  {
   "cell_type": "markdown",
   "metadata": {},
   "source": [
    "### Modelling "
   ]
  },
  {
   "cell_type": "code",
   "execution_count": 26,
   "metadata": {},
   "outputs": [
    {
     "data": {
      "text/plain": [
       "(101528, 23)"
      ]
     },
     "execution_count": 26,
     "metadata": {},
     "output_type": "execute_result"
    }
   ],
   "source": [
    "X.shape"
   ]
  },
  {
   "cell_type": "code",
   "execution_count": 38,
   "metadata": {},
   "outputs": [],
   "source": [
    "from keras.models import Sequential\n",
    "from keras.layers import Dense, Dropout\n",
    "\n",
    "# Initialising the ANN\n",
    "classifier = Sequential()\n",
    "\n",
    "# Adding the input layer and the hidden layers\n",
    "classifier.add(Dense(23, activation = 'relu', input_dim = 23))\n",
    "classifier.add(Dense(100, activation = 'tanh' ))\n",
    "classifier.add(Dense(200, activation = 'relu', kernel_regularizer='l2'))\n",
    "classifier.add(Dense(50, activation = 'tanh', kernel_regularizer='l2'))\n",
    "\n",
    "# Adding the output layer\n",
    "classifier.add(Dense(1, activation = 'sigmoid'))"
   ]
  },
  {
   "cell_type": "code",
   "execution_count": 39,
   "metadata": {},
   "outputs": [
    {
     "name": "stdout",
     "output_type": "stream",
     "text": [
      "Model: \"sequential_2\"\n",
      "_________________________________________________________________\n",
      " Layer (type)                Output Shape              Param #   \n",
      "=================================================================\n",
      " dense_7 (Dense)             (None, 23)                552       \n",
      "                                                                 \n",
      " dense_8 (Dense)             (None, 100)               2400      \n",
      "                                                                 \n",
      " dense_9 (Dense)             (None, 200)               20200     \n",
      "                                                                 \n",
      " dense_10 (Dense)            (None, 50)                10050     \n",
      "                                                                 \n",
      " dense_11 (Dense)            (None, 1)                 51        \n",
      "                                                                 \n",
      "=================================================================\n",
      "Total params: 33253 (129.89 KB)\n",
      "Trainable params: 33253 (129.89 KB)\n",
      "Non-trainable params: 0 (0.00 Byte)\n",
      "_________________________________________________________________\n"
     ]
    }
   ],
   "source": [
    "classifier.summary()"
   ]
  },
  {
   "cell_type": "code",
   "execution_count": 40,
   "metadata": {},
   "outputs": [],
   "source": [
    "import tensorflow as tf\n",
    "tensorboard_callback = tf.keras.callbacks.TensorBoard(log_dir=\"logs\")"
   ]
  },
  {
   "cell_type": "code",
   "execution_count": 41,
   "metadata": {},
   "outputs": [],
   "source": [
    "classifier.compile(optimizer = 'adam', \n",
    "                   loss = 'binary_crossentropy', \n",
    "                   metrics = ['accuracy',\"Precision\",\"Recall\",\"AUC\"])"
   ]
  },
  {
   "cell_type": "code",
   "execution_count": 42,
   "metadata": {},
   "outputs": [
    {
     "name": "stdout",
     "output_type": "stream",
     "text": [
      "Epoch 1/100\n"
     ]
    },
    {
     "name": "stdout",
     "output_type": "stream",
     "text": [
      "3173/3173 [==============================] - 11s 3ms/step - loss: 0.4812 - accuracy: 0.8030 - precision: 0.7144 - recall: 0.6254 - auc: 0.8611\n",
      "Epoch 2/100\n",
      "3173/3173 [==============================] - 10s 3ms/step - loss: 0.4104 - accuracy: 0.8156 - precision: 0.7341 - recall: 0.6512 - auc: 0.8762\n",
      "Epoch 3/100\n",
      "3173/3173 [==============================] - 11s 4ms/step - loss: 0.4048 - accuracy: 0.8179 - precision: 0.7360 - recall: 0.6594 - auc: 0.8791\n",
      "Epoch 4/100\n",
      "3173/3173 [==============================] - 11s 3ms/step - loss: 0.4020 - accuracy: 0.8181 - precision: 0.7371 - recall: 0.6581 - auc: 0.8804\n",
      "Epoch 5/100\n",
      "3173/3173 [==============================] - 13s 4ms/step - loss: 0.4000 - accuracy: 0.8205 - precision: 0.7401 - recall: 0.6639 - auc: 0.8814\n",
      "Epoch 6/100\n",
      "3173/3173 [==============================] - 19s 6ms/step - loss: 0.3989 - accuracy: 0.8207 - precision: 0.7384 - recall: 0.6682 - auc: 0.8820\n",
      "Epoch 7/100\n",
      "3173/3173 [==============================] - 17s 5ms/step - loss: 0.3980 - accuracy: 0.8209 - precision: 0.7396 - recall: 0.6672 - auc: 0.8824\n",
      "Epoch 8/100\n",
      "3173/3173 [==============================] - 17s 5ms/step - loss: 0.3971 - accuracy: 0.8209 - precision: 0.7413 - recall: 0.6639 - auc: 0.8829\n",
      "Epoch 9/100\n",
      "3173/3173 [==============================] - 18s 6ms/step - loss: 0.3964 - accuracy: 0.8212 - precision: 0.7406 - recall: 0.6667 - auc: 0.8833\n",
      "Epoch 10/100\n",
      "3173/3173 [==============================] - 17s 5ms/step - loss: 0.3956 - accuracy: 0.8206 - precision: 0.7418 - recall: 0.6615 - auc: 0.8837\n",
      "Epoch 11/100\n",
      "3173/3173 [==============================] - 18s 6ms/step - loss: 0.3954 - accuracy: 0.8213 - precision: 0.7411 - recall: 0.6665 - auc: 0.8838\n",
      "Epoch 12/100\n",
      "3173/3173 [==============================] - 18s 6ms/step - loss: 0.3950 - accuracy: 0.8210 - precision: 0.7440 - recall: 0.6593 - auc: 0.8840\n",
      "Epoch 13/100\n",
      "3173/3173 [==============================] - 19s 6ms/step - loss: 0.3944 - accuracy: 0.8214 - precision: 0.7474 - recall: 0.6555 - auc: 0.8843\n",
      "Epoch 14/100\n",
      "3173/3173 [==============================] - 19s 6ms/step - loss: 0.3939 - accuracy: 0.8218 - precision: 0.7452 - recall: 0.6613 - auc: 0.8846\n",
      "Epoch 15/100\n",
      "3173/3173 [==============================] - 19s 6ms/step - loss: 0.3938 - accuracy: 0.8214 - precision: 0.7394 - recall: 0.6697 - auc: 0.8847\n",
      "Epoch 16/100\n",
      "3173/3173 [==============================] - 20s 6ms/step - loss: 0.3933 - accuracy: 0.8226 - precision: 0.7429 - recall: 0.6693 - auc: 0.8850\n",
      "Epoch 17/100\n",
      "3173/3173 [==============================] - 19s 6ms/step - loss: 0.3935 - accuracy: 0.8221 - precision: 0.7409 - recall: 0.6704 - auc: 0.8849\n",
      "Epoch 18/100\n",
      "3173/3173 [==============================] - 14s 4ms/step - loss: 0.3930 - accuracy: 0.8227 - precision: 0.7434 - recall: 0.6689 - auc: 0.8852\n",
      "Epoch 19/100\n",
      "3173/3173 [==============================] - 13s 4ms/step - loss: 0.3926 - accuracy: 0.8228 - precision: 0.7430 - recall: 0.6701 - auc: 0.8854\n",
      "Epoch 20/100\n",
      "3173/3173 [==============================] - 13s 4ms/step - loss: 0.3928 - accuracy: 0.8230 - precision: 0.7435 - recall: 0.6699 - auc: 0.8852\n",
      "Epoch 21/100\n",
      "3173/3173 [==============================] - 13s 4ms/step - loss: 0.3923 - accuracy: 0.8233 - precision: 0.7437 - recall: 0.6713 - auc: 0.8856\n",
      "Epoch 22/100\n",
      "3173/3173 [==============================] - 19s 6ms/step - loss: 0.3918 - accuracy: 0.8229 - precision: 0.7438 - recall: 0.6690 - auc: 0.8859\n",
      "Epoch 23/100\n",
      "3173/3173 [==============================] - 21s 7ms/step - loss: 0.3916 - accuracy: 0.8235 - precision: 0.7443 - recall: 0.6709 - auc: 0.8861\n",
      "Epoch 24/100\n",
      "3173/3173 [==============================] - 23s 7ms/step - loss: 0.3912 - accuracy: 0.8229 - precision: 0.7438 - recall: 0.6691 - auc: 0.8863\n",
      "Epoch 25/100\n",
      "3173/3173 [==============================] - 22s 7ms/step - loss: 0.3908 - accuracy: 0.8239 - precision: 0.7483 - recall: 0.6658 - auc: 0.8867\n",
      "Epoch 26/100\n",
      "3173/3173 [==============================] - 23s 7ms/step - loss: 0.3910 - accuracy: 0.8235 - precision: 0.7436 - recall: 0.6721 - auc: 0.8864\n",
      "Epoch 27/100\n",
      "3173/3173 [==============================] - 27s 9ms/step - loss: 0.3905 - accuracy: 0.8243 - precision: 0.7457 - recall: 0.6721 - auc: 0.8867\n",
      "Epoch 28/100\n",
      "3173/3173 [==============================] - 37s 12ms/step - loss: 0.3903 - accuracy: 0.8243 - precision: 0.7447 - recall: 0.6742 - auc: 0.8869\n",
      "Epoch 29/100\n",
      "3173/3173 [==============================] - 24s 8ms/step - loss: 0.3900 - accuracy: 0.8245 - precision: 0.7464 - recall: 0.6722 - auc: 0.8871\n",
      "Epoch 30/100\n",
      "3173/3173 [==============================] - 20s 6ms/step - loss: 0.3898 - accuracy: 0.8245 - precision: 0.7454 - recall: 0.6739 - auc: 0.8872\n",
      "Epoch 31/100\n",
      "3173/3173 [==============================] - 20s 6ms/step - loss: 0.3900 - accuracy: 0.8240 - precision: 0.7432 - recall: 0.6754 - auc: 0.8871\n",
      "Epoch 32/100\n",
      "3173/3173 [==============================] - 20s 6ms/step - loss: 0.3894 - accuracy: 0.8246 - precision: 0.7449 - recall: 0.6755 - auc: 0.8875\n",
      "Epoch 33/100\n",
      "3173/3173 [==============================] - 20s 6ms/step - loss: 0.3888 - accuracy: 0.8240 - precision: 0.7446 - recall: 0.6727 - auc: 0.8879\n",
      "Epoch 34/100\n",
      "3173/3173 [==============================] - 19s 6ms/step - loss: 0.3888 - accuracy: 0.8251 - precision: 0.7471 - recall: 0.6736 - auc: 0.8880\n",
      "Epoch 35/100\n",
      "3173/3173 [==============================] - 18s 6ms/step - loss: 0.3893 - accuracy: 0.8244 - precision: 0.7449 - recall: 0.6743 - auc: 0.8876\n",
      "Epoch 36/100\n",
      "3173/3173 [==============================] - 17s 5ms/step - loss: 0.3887 - accuracy: 0.8255 - precision: 0.7466 - recall: 0.6761 - auc: 0.8880\n",
      "Epoch 37/100\n",
      "3173/3173 [==============================] - 19s 6ms/step - loss: 0.3885 - accuracy: 0.8252 - precision: 0.7455 - recall: 0.6768 - auc: 0.8882\n",
      "Epoch 38/100\n",
      "3173/3173 [==============================] - 22s 7ms/step - loss: 0.3882 - accuracy: 0.8255 - precision: 0.7462 - recall: 0.6772 - auc: 0.8884\n",
      "Epoch 39/100\n",
      "3173/3173 [==============================] - 20s 6ms/step - loss: 0.3882 - accuracy: 0.8258 - precision: 0.7462 - recall: 0.6788 - auc: 0.8883\n",
      "Epoch 40/100\n",
      "3173/3173 [==============================] - 18s 6ms/step - loss: 0.3875 - accuracy: 0.8256 - precision: 0.7460 - recall: 0.6781 - auc: 0.8888\n",
      "Epoch 41/100\n",
      "3173/3173 [==============================] - 18s 6ms/step - loss: 0.3876 - accuracy: 0.8254 - precision: 0.7451 - recall: 0.6788 - auc: 0.8887\n",
      "Epoch 42/100\n",
      "3173/3173 [==============================] - 20s 6ms/step - loss: 0.3874 - accuracy: 0.8251 - precision: 0.7440 - recall: 0.6795 - auc: 0.8890\n",
      "Epoch 43/100\n",
      "3173/3173 [==============================] - 23s 7ms/step - loss: 0.3874 - accuracy: 0.8259 - precision: 0.7478 - recall: 0.6760 - auc: 0.8889\n",
      "Epoch 44/100\n",
      "3173/3173 [==============================] - 21s 7ms/step - loss: 0.3867 - accuracy: 0.8252 - precision: 0.7447 - recall: 0.6785 - auc: 0.8894\n",
      "Epoch 45/100\n",
      "3173/3173 [==============================] - 21s 7ms/step - loss: 0.3869 - accuracy: 0.8261 - precision: 0.7472 - recall: 0.6784 - auc: 0.8892\n",
      "Epoch 46/100\n",
      "3173/3173 [==============================] - 20s 6ms/step - loss: 0.3865 - accuracy: 0.8253 - precision: 0.7452 - recall: 0.6783 - auc: 0.8895\n",
      "Epoch 47/100\n",
      "3173/3173 [==============================] - 21s 7ms/step - loss: 0.3865 - accuracy: 0.8270 - precision: 0.7480 - recall: 0.6811 - auc: 0.8896\n",
      "Epoch 48/100\n",
      "3173/3173 [==============================] - 23s 7ms/step - loss: 0.3861 - accuracy: 0.8262 - precision: 0.7473 - recall: 0.6784 - auc: 0.8899\n",
      "Epoch 49/100\n",
      "3173/3173 [==============================] - 21s 6ms/step - loss: 0.3860 - accuracy: 0.8268 - precision: 0.7479 - recall: 0.6802 - auc: 0.8899\n",
      "Epoch 50/100\n",
      "3173/3173 [==============================] - 22s 7ms/step - loss: 0.3859 - accuracy: 0.8270 - precision: 0.7483 - recall: 0.6807 - auc: 0.8900\n",
      "Epoch 51/100\n",
      "3173/3173 [==============================] - 24s 8ms/step - loss: 0.3856 - accuracy: 0.8270 - precision: 0.7489 - recall: 0.6792 - auc: 0.8902\n",
      "Epoch 52/100\n",
      "3173/3173 [==============================] - 31s 10ms/step - loss: 0.3850 - accuracy: 0.8272 - precision: 0.7472 - recall: 0.6835 - auc: 0.8906\n",
      "Epoch 53/100\n",
      "3173/3173 [==============================] - 32s 10ms/step - loss: 0.3851 - accuracy: 0.8272 - precision: 0.7480 - recall: 0.6818 - auc: 0.8906\n",
      "Epoch 54/100\n",
      "3173/3173 [==============================] - 32s 10ms/step - loss: 0.3850 - accuracy: 0.8265 - precision: 0.7459 - recall: 0.6823 - auc: 0.8906\n",
      "Epoch 55/100\n",
      "3173/3173 [==============================] - 32s 10ms/step - loss: 0.3848 - accuracy: 0.8272 - precision: 0.7450 - recall: 0.6875 - auc: 0.8908\n",
      "Epoch 56/100\n",
      "3173/3173 [==============================] - 18s 6ms/step - loss: 0.3843 - accuracy: 0.8280 - precision: 0.7485 - recall: 0.6848 - auc: 0.8911\n",
      "Epoch 57/100\n",
      "1712/3173 [===============>..............] - ETA: 6s - loss: 0.3844 - accuracy: 0.8273 - precision: 0.7445 - recall: 0.6847 - auc: 0.8907"
     ]
    },
    {
     "ename": "KeyboardInterrupt",
     "evalue": "",
     "output_type": "error",
     "traceback": [
      "\u001b[1;31m---------------------------------------------------------------------------\u001b[0m",
      "\u001b[1;31mKeyboardInterrupt\u001b[0m                         Traceback (most recent call last)",
      "\u001b[1;32mz:\\TMLC MGP\\Project 6\\notebooks\\baseline_my_version.ipynb Cell 75\u001b[0m line \u001b[0;36m1\n\u001b[1;32m----> <a href='vscode-notebook-cell:/z%3A/TMLC%20MGP/Project%206/notebooks/baseline_my_version.ipynb#Y142sZmlsZQ%3D%3D?line=0'>1</a>\u001b[0m classifier\u001b[39m.\u001b[39;49mfit(X, y, epochs \u001b[39m=\u001b[39;49m \u001b[39m100\u001b[39;49m, callbacks\u001b[39m=\u001b[39;49m[tensorboard_callback])\n",
      "File \u001b[1;32mp:\\Anaconda\\envs\\jupy\\lib\\site-packages\\keras\\src\\utils\\traceback_utils.py:65\u001b[0m, in \u001b[0;36mfilter_traceback.<locals>.error_handler\u001b[1;34m(*args, **kwargs)\u001b[0m\n\u001b[0;32m     63\u001b[0m filtered_tb \u001b[39m=\u001b[39m \u001b[39mNone\u001b[39;00m\n\u001b[0;32m     64\u001b[0m \u001b[39mtry\u001b[39;00m:\n\u001b[1;32m---> 65\u001b[0m     \u001b[39mreturn\u001b[39;00m fn(\u001b[39m*\u001b[39margs, \u001b[39m*\u001b[39m\u001b[39m*\u001b[39mkwargs)\n\u001b[0;32m     66\u001b[0m \u001b[39mexcept\u001b[39;00m \u001b[39mException\u001b[39;00m \u001b[39mas\u001b[39;00m e:\n\u001b[0;32m     67\u001b[0m     filtered_tb \u001b[39m=\u001b[39m _process_traceback_frames(e\u001b[39m.\u001b[39m__traceback__)\n",
      "File \u001b[1;32mp:\\Anaconda\\envs\\jupy\\lib\\site-packages\\keras\\src\\engine\\training.py:1783\u001b[0m, in \u001b[0;36mModel.fit\u001b[1;34m(self, x, y, batch_size, epochs, verbose, callbacks, validation_split, validation_data, shuffle, class_weight, sample_weight, initial_epoch, steps_per_epoch, validation_steps, validation_batch_size, validation_freq, max_queue_size, workers, use_multiprocessing)\u001b[0m\n\u001b[0;32m   1775\u001b[0m \u001b[39mwith\u001b[39;00m tf\u001b[39m.\u001b[39mprofiler\u001b[39m.\u001b[39mexperimental\u001b[39m.\u001b[39mTrace(\n\u001b[0;32m   1776\u001b[0m     \u001b[39m\"\u001b[39m\u001b[39mtrain\u001b[39m\u001b[39m\"\u001b[39m,\n\u001b[0;32m   1777\u001b[0m     epoch_num\u001b[39m=\u001b[39mepoch,\n\u001b[1;32m   (...)\u001b[0m\n\u001b[0;32m   1780\u001b[0m     _r\u001b[39m=\u001b[39m\u001b[39m1\u001b[39m,\n\u001b[0;32m   1781\u001b[0m ):\n\u001b[0;32m   1782\u001b[0m     callbacks\u001b[39m.\u001b[39mon_train_batch_begin(step)\n\u001b[1;32m-> 1783\u001b[0m     tmp_logs \u001b[39m=\u001b[39m \u001b[39mself\u001b[39;49m\u001b[39m.\u001b[39;49mtrain_function(iterator)\n\u001b[0;32m   1784\u001b[0m     \u001b[39mif\u001b[39;00m data_handler\u001b[39m.\u001b[39mshould_sync:\n\u001b[0;32m   1785\u001b[0m         context\u001b[39m.\u001b[39masync_wait()\n",
      "File \u001b[1;32mp:\\Anaconda\\envs\\jupy\\lib\\site-packages\\tensorflow\\python\\util\\traceback_utils.py:150\u001b[0m, in \u001b[0;36mfilter_traceback.<locals>.error_handler\u001b[1;34m(*args, **kwargs)\u001b[0m\n\u001b[0;32m    148\u001b[0m filtered_tb \u001b[39m=\u001b[39m \u001b[39mNone\u001b[39;00m\n\u001b[0;32m    149\u001b[0m \u001b[39mtry\u001b[39;00m:\n\u001b[1;32m--> 150\u001b[0m   \u001b[39mreturn\u001b[39;00m fn(\u001b[39m*\u001b[39margs, \u001b[39m*\u001b[39m\u001b[39m*\u001b[39mkwargs)\n\u001b[0;32m    151\u001b[0m \u001b[39mexcept\u001b[39;00m \u001b[39mException\u001b[39;00m \u001b[39mas\u001b[39;00m e:\n\u001b[0;32m    152\u001b[0m   filtered_tb \u001b[39m=\u001b[39m _process_traceback_frames(e\u001b[39m.\u001b[39m__traceback__)\n",
      "File \u001b[1;32mp:\\Anaconda\\envs\\jupy\\lib\\site-packages\\tensorflow\\python\\eager\\polymorphic_function\\polymorphic_function.py:831\u001b[0m, in \u001b[0;36mFunction.__call__\u001b[1;34m(self, *args, **kwds)\u001b[0m\n\u001b[0;32m    828\u001b[0m compiler \u001b[39m=\u001b[39m \u001b[39m\"\u001b[39m\u001b[39mxla\u001b[39m\u001b[39m\"\u001b[39m \u001b[39mif\u001b[39;00m \u001b[39mself\u001b[39m\u001b[39m.\u001b[39m_jit_compile \u001b[39melse\u001b[39;00m \u001b[39m\"\u001b[39m\u001b[39mnonXla\u001b[39m\u001b[39m\"\u001b[39m\n\u001b[0;32m    830\u001b[0m \u001b[39mwith\u001b[39;00m OptionalXlaContext(\u001b[39mself\u001b[39m\u001b[39m.\u001b[39m_jit_compile):\n\u001b[1;32m--> 831\u001b[0m   result \u001b[39m=\u001b[39m \u001b[39mself\u001b[39m\u001b[39m.\u001b[39m_call(\u001b[39m*\u001b[39margs, \u001b[39m*\u001b[39m\u001b[39m*\u001b[39mkwds)\n\u001b[0;32m    833\u001b[0m new_tracing_count \u001b[39m=\u001b[39m \u001b[39mself\u001b[39m\u001b[39m.\u001b[39mexperimental_get_tracing_count()\n\u001b[0;32m    834\u001b[0m without_tracing \u001b[39m=\u001b[39m (tracing_count \u001b[39m==\u001b[39m new_tracing_count)\n",
      "File \u001b[1;32mp:\\Anaconda\\envs\\jupy\\lib\\site-packages\\tensorflow\\python\\eager\\polymorphic_function\\polymorphic_function.py:867\u001b[0m, in \u001b[0;36mFunction._call\u001b[1;34m(self, *args, **kwds)\u001b[0m\n\u001b[0;32m    864\u001b[0m   \u001b[39mself\u001b[39m\u001b[39m.\u001b[39m_lock\u001b[39m.\u001b[39mrelease()\n\u001b[0;32m    865\u001b[0m   \u001b[39m# In this case we have created variables on the first call, so we run the\u001b[39;00m\n\u001b[0;32m    866\u001b[0m   \u001b[39m# defunned version which is guaranteed to never create variables.\u001b[39;00m\n\u001b[1;32m--> 867\u001b[0m   \u001b[39mreturn\u001b[39;00m tracing_compilation\u001b[39m.\u001b[39;49mcall_function(\n\u001b[0;32m    868\u001b[0m       args, kwds, \u001b[39mself\u001b[39;49m\u001b[39m.\u001b[39;49m_no_variable_creation_config\n\u001b[0;32m    869\u001b[0m   )\n\u001b[0;32m    870\u001b[0m \u001b[39melif\u001b[39;00m \u001b[39mself\u001b[39m\u001b[39m.\u001b[39m_variable_creation_config \u001b[39mis\u001b[39;00m \u001b[39mnot\u001b[39;00m \u001b[39mNone\u001b[39;00m:\n\u001b[0;32m    871\u001b[0m   \u001b[39m# Release the lock early so that multiple threads can perform the call\u001b[39;00m\n\u001b[0;32m    872\u001b[0m   \u001b[39m# in parallel.\u001b[39;00m\n\u001b[0;32m    873\u001b[0m   \u001b[39mself\u001b[39m\u001b[39m.\u001b[39m_lock\u001b[39m.\u001b[39mrelease()\n",
      "File \u001b[1;32mp:\\Anaconda\\envs\\jupy\\lib\\site-packages\\tensorflow\\python\\eager\\polymorphic_function\\tracing_compilation.py:139\u001b[0m, in \u001b[0;36mcall_function\u001b[1;34m(args, kwargs, tracing_options)\u001b[0m\n\u001b[0;32m    137\u001b[0m bound_args \u001b[39m=\u001b[39m function\u001b[39m.\u001b[39mfunction_type\u001b[39m.\u001b[39mbind(\u001b[39m*\u001b[39margs, \u001b[39m*\u001b[39m\u001b[39m*\u001b[39mkwargs)\n\u001b[0;32m    138\u001b[0m flat_inputs \u001b[39m=\u001b[39m function\u001b[39m.\u001b[39mfunction_type\u001b[39m.\u001b[39munpack_inputs(bound_args)\n\u001b[1;32m--> 139\u001b[0m \u001b[39mreturn\u001b[39;00m function\u001b[39m.\u001b[39;49m_call_flat(  \u001b[39m# pylint: disable=protected-access\u001b[39;49;00m\n\u001b[0;32m    140\u001b[0m     flat_inputs, captured_inputs\u001b[39m=\u001b[39;49mfunction\u001b[39m.\u001b[39;49mcaptured_inputs\n\u001b[0;32m    141\u001b[0m )\n",
      "File \u001b[1;32mp:\\Anaconda\\envs\\jupy\\lib\\site-packages\\tensorflow\\python\\eager\\polymorphic_function\\concrete_function.py:1264\u001b[0m, in \u001b[0;36mConcreteFunction._call_flat\u001b[1;34m(self, tensor_inputs, captured_inputs)\u001b[0m\n\u001b[0;32m   1260\u001b[0m possible_gradient_type \u001b[39m=\u001b[39m gradients_util\u001b[39m.\u001b[39mPossibleTapeGradientTypes(args)\n\u001b[0;32m   1261\u001b[0m \u001b[39mif\u001b[39;00m (possible_gradient_type \u001b[39m==\u001b[39m gradients_util\u001b[39m.\u001b[39mPOSSIBLE_GRADIENT_TYPES_NONE\n\u001b[0;32m   1262\u001b[0m     \u001b[39mand\u001b[39;00m executing_eagerly):\n\u001b[0;32m   1263\u001b[0m   \u001b[39m# No tape is watching; skip to running the function.\u001b[39;00m\n\u001b[1;32m-> 1264\u001b[0m   \u001b[39mreturn\u001b[39;00m \u001b[39mself\u001b[39;49m\u001b[39m.\u001b[39;49m_inference_function\u001b[39m.\u001b[39;49mflat_call(args)\n\u001b[0;32m   1265\u001b[0m forward_backward \u001b[39m=\u001b[39m \u001b[39mself\u001b[39m\u001b[39m.\u001b[39m_select_forward_and_backward_functions(\n\u001b[0;32m   1266\u001b[0m     args,\n\u001b[0;32m   1267\u001b[0m     possible_gradient_type,\n\u001b[0;32m   1268\u001b[0m     executing_eagerly)\n\u001b[0;32m   1269\u001b[0m forward_function, args_with_tangents \u001b[39m=\u001b[39m forward_backward\u001b[39m.\u001b[39mforward()\n",
      "File \u001b[1;32mp:\\Anaconda\\envs\\jupy\\lib\\site-packages\\tensorflow\\python\\eager\\polymorphic_function\\atomic_function.py:217\u001b[0m, in \u001b[0;36mAtomicFunction.flat_call\u001b[1;34m(self, args)\u001b[0m\n\u001b[0;32m    215\u001b[0m \u001b[39mdef\u001b[39;00m \u001b[39mflat_call\u001b[39m(\u001b[39mself\u001b[39m, args: Sequence[core\u001b[39m.\u001b[39mTensor]) \u001b[39m-\u001b[39m\u001b[39m>\u001b[39m Any:\n\u001b[0;32m    216\u001b[0m \u001b[39m  \u001b[39m\u001b[39m\"\"\"Calls with tensor inputs and returns the structured output.\"\"\"\u001b[39;00m\n\u001b[1;32m--> 217\u001b[0m   flat_outputs \u001b[39m=\u001b[39m \u001b[39mself\u001b[39;49m(\u001b[39m*\u001b[39;49margs)\n\u001b[0;32m    218\u001b[0m   \u001b[39mreturn\u001b[39;00m \u001b[39mself\u001b[39m\u001b[39m.\u001b[39mfunction_type\u001b[39m.\u001b[39mpack_output(flat_outputs)\n",
      "File \u001b[1;32mp:\\Anaconda\\envs\\jupy\\lib\\site-packages\\tensorflow\\python\\eager\\polymorphic_function\\atomic_function.py:252\u001b[0m, in \u001b[0;36mAtomicFunction.__call__\u001b[1;34m(self, *args)\u001b[0m\n\u001b[0;32m    250\u001b[0m \u001b[39mwith\u001b[39;00m record\u001b[39m.\u001b[39mstop_recording():\n\u001b[0;32m    251\u001b[0m   \u001b[39mif\u001b[39;00m \u001b[39mself\u001b[39m\u001b[39m.\u001b[39m_bound_context\u001b[39m.\u001b[39mexecuting_eagerly():\n\u001b[1;32m--> 252\u001b[0m     outputs \u001b[39m=\u001b[39m \u001b[39mself\u001b[39;49m\u001b[39m.\u001b[39;49m_bound_context\u001b[39m.\u001b[39;49mcall_function(\n\u001b[0;32m    253\u001b[0m         \u001b[39mself\u001b[39;49m\u001b[39m.\u001b[39;49mname,\n\u001b[0;32m    254\u001b[0m         \u001b[39mlist\u001b[39;49m(args),\n\u001b[0;32m    255\u001b[0m         \u001b[39mlen\u001b[39;49m(\u001b[39mself\u001b[39;49m\u001b[39m.\u001b[39;49mfunction_type\u001b[39m.\u001b[39;49mflat_outputs),\n\u001b[0;32m    256\u001b[0m     )\n\u001b[0;32m    257\u001b[0m   \u001b[39melse\u001b[39;00m:\n\u001b[0;32m    258\u001b[0m     outputs \u001b[39m=\u001b[39m make_call_op_in_graph(\n\u001b[0;32m    259\u001b[0m         \u001b[39mself\u001b[39m,\n\u001b[0;32m    260\u001b[0m         \u001b[39mlist\u001b[39m(args),\n\u001b[0;32m    261\u001b[0m         \u001b[39mself\u001b[39m\u001b[39m.\u001b[39m_bound_context\u001b[39m.\u001b[39mfunction_call_options\u001b[39m.\u001b[39mas_attrs(),\n\u001b[0;32m    262\u001b[0m     )\n",
      "File \u001b[1;32mp:\\Anaconda\\envs\\jupy\\lib\\site-packages\\tensorflow\\python\\eager\\context.py:1479\u001b[0m, in \u001b[0;36mContext.call_function\u001b[1;34m(self, name, tensor_inputs, num_outputs)\u001b[0m\n\u001b[0;32m   1477\u001b[0m cancellation_context \u001b[39m=\u001b[39m cancellation\u001b[39m.\u001b[39mcontext()\n\u001b[0;32m   1478\u001b[0m \u001b[39mif\u001b[39;00m cancellation_context \u001b[39mis\u001b[39;00m \u001b[39mNone\u001b[39;00m:\n\u001b[1;32m-> 1479\u001b[0m   outputs \u001b[39m=\u001b[39m execute\u001b[39m.\u001b[39;49mexecute(\n\u001b[0;32m   1480\u001b[0m       name\u001b[39m.\u001b[39;49mdecode(\u001b[39m\"\u001b[39;49m\u001b[39mutf-8\u001b[39;49m\u001b[39m\"\u001b[39;49m),\n\u001b[0;32m   1481\u001b[0m       num_outputs\u001b[39m=\u001b[39;49mnum_outputs,\n\u001b[0;32m   1482\u001b[0m       inputs\u001b[39m=\u001b[39;49mtensor_inputs,\n\u001b[0;32m   1483\u001b[0m       attrs\u001b[39m=\u001b[39;49mattrs,\n\u001b[0;32m   1484\u001b[0m       ctx\u001b[39m=\u001b[39;49m\u001b[39mself\u001b[39;49m,\n\u001b[0;32m   1485\u001b[0m   )\n\u001b[0;32m   1486\u001b[0m \u001b[39melse\u001b[39;00m:\n\u001b[0;32m   1487\u001b[0m   outputs \u001b[39m=\u001b[39m execute\u001b[39m.\u001b[39mexecute_with_cancellation(\n\u001b[0;32m   1488\u001b[0m       name\u001b[39m.\u001b[39mdecode(\u001b[39m\"\u001b[39m\u001b[39mutf-8\u001b[39m\u001b[39m\"\u001b[39m),\n\u001b[0;32m   1489\u001b[0m       num_outputs\u001b[39m=\u001b[39mnum_outputs,\n\u001b[1;32m   (...)\u001b[0m\n\u001b[0;32m   1493\u001b[0m       cancellation_manager\u001b[39m=\u001b[39mcancellation_context,\n\u001b[0;32m   1494\u001b[0m   )\n",
      "File \u001b[1;32mp:\\Anaconda\\envs\\jupy\\lib\\site-packages\\tensorflow\\python\\eager\\execute.py:60\u001b[0m, in \u001b[0;36mquick_execute\u001b[1;34m(op_name, num_outputs, inputs, attrs, ctx, name)\u001b[0m\n\u001b[0;32m     53\u001b[0m   \u001b[39m# Convert any objects of type core_types.Tensor to Tensor.\u001b[39;00m\n\u001b[0;32m     54\u001b[0m   inputs \u001b[39m=\u001b[39m [\n\u001b[0;32m     55\u001b[0m       tensor_conversion_registry\u001b[39m.\u001b[39mconvert(t)\n\u001b[0;32m     56\u001b[0m       \u001b[39mif\u001b[39;00m \u001b[39misinstance\u001b[39m(t, core_types\u001b[39m.\u001b[39mTensor)\n\u001b[0;32m     57\u001b[0m       \u001b[39melse\u001b[39;00m t\n\u001b[0;32m     58\u001b[0m       \u001b[39mfor\u001b[39;00m t \u001b[39min\u001b[39;00m inputs\n\u001b[0;32m     59\u001b[0m   ]\n\u001b[1;32m---> 60\u001b[0m   tensors \u001b[39m=\u001b[39m pywrap_tfe\u001b[39m.\u001b[39;49mTFE_Py_Execute(ctx\u001b[39m.\u001b[39;49m_handle, device_name, op_name,\n\u001b[0;32m     61\u001b[0m                                       inputs, attrs, num_outputs)\n\u001b[0;32m     62\u001b[0m \u001b[39mexcept\u001b[39;00m core\u001b[39m.\u001b[39m_NotOkStatusException \u001b[39mas\u001b[39;00m e:\n\u001b[0;32m     63\u001b[0m   \u001b[39mif\u001b[39;00m name \u001b[39mis\u001b[39;00m \u001b[39mnot\u001b[39;00m \u001b[39mNone\u001b[39;00m:\n",
      "\u001b[1;31mKeyboardInterrupt\u001b[0m: "
     ]
    }
   ],
   "source": [
    "classifier.fit(X, y, epochs = 100, callbacks=[tensorboard_callback])"
   ]
  },
  {
   "cell_type": "code",
   "execution_count": 45,
   "metadata": {},
   "outputs": [],
   "source": [
    "y_test.replace({'s':1, 'b':0}, inplace=True)"
   ]
  },
  {
   "cell_type": "code",
   "execution_count": 47,
   "metadata": {},
   "outputs": [
    {
     "name": "stdout",
     "output_type": "stream",
     "text": [
      "2344/2344 [==============================] - 3s 1ms/step\n"
     ]
    }
   ],
   "source": [
    "y_pred = classifier.predict(X_test)"
   ]
  },
  {
   "cell_type": "code",
   "execution_count": 51,
   "metadata": {},
   "outputs": [
    {
     "name": "stdout",
     "output_type": "stream",
     "text": [
      "              precision    recall  f1-score   support\n",
      "\n",
      "           0       0.66      0.97      0.79     49555\n",
      "           1       0.37      0.03      0.06     25445\n",
      "\n",
      "    accuracy                           0.65     75000\n",
      "   macro avg       0.52      0.50      0.42     75000\n",
      "weighted avg       0.56      0.65      0.54     75000\n",
      "\n"
     ]
    }
   ],
   "source": [
    "from sklearn.metrics import classification_report, confusion_matrix, precision_score\n",
    "print(classification_report(y_test, y_pred.round()))\n"
   ]
  },
  {
   "cell_type": "code",
   "execution_count": 50,
   "metadata": {},
   "outputs": [
    {
     "data": {
      "text/plain": [
       "<Axes: >"
      ]
     },
     "execution_count": 50,
     "metadata": {},
     "output_type": "execute_result"
    },
    {
     "data": {
      "image/png": "[encoded data removed]",
      "text/plain": [
       "<Figure size 640x480 with 2 Axes>"
      ]
     },
     "metadata": {},
     "output_type": "display_data"
    }
   ],
   "source": [
    "#plot confusion matrix\n",
    "cm = confusion_matrix(y_test, y_pred.round())\n",
    "sns.heatmap(cm, annot=True, fmt='d')\n"
   ]
  },
  {
   "cell_type": "code",
   "execution_count": 52,
   "metadata": {},
   "outputs": [
    {
     "data": {
      "text/plain": [
       "0.3702451394759087"
      ]
     },
     "execution_count": 52,
     "metadata": {},
     "output_type": "execute_result"
    }
   ],
   "source": [
    "# precision score\n",
    "precision_score(y_test, y_pred.round())"
   ]
  },
  {
   "cell_type": "markdown",
   "metadata": {},
   "source": [
    "* Above basic model got 74 presicion on train and 0.37 prescision on test data..."
   ]
  },
  {
   "cell_type": "markdown",
   "metadata": {},
   "source": [
    "Lets see if we can imporve that ... with kfold cross validation "
   ]
  },
  {
   "cell_type": "code",
   "execution_count": 36,
   "metadata": {},
   "outputs": [],
   "source": [
    "import pandas as pd\n",
    "from sklearn.model_selection import StratifiedKFold\n",
    "import optuna\n",
    "from keras.models import Sequential\n",
    "from keras.layers import Dense\n",
    "from keras.wrappers.scikit_learn import KerasClassifier\n",
    "from keras.optimizers import Adam\n",
    "from keras.metrics import Precision\n",
    "from sklearn.metrics import precision_score"
   ]
  },
  {
   "cell_type": "code",
   "execution_count": 31,
   "metadata": {},
   "outputs": [],
   "source": [
    "# Define model builder\n",
    "def create_model(learning_rate, num_layers, num_units):\n",
    "    model = Sequential()\n",
    "    for i in range(num_layers):\n",
    "        model.add(Dense(num_units, activation='relu'))\n",
    "    model.add(Dense(1, activation='sigmoid'))\n",
    "    model.compile(loss='binary_crossentropy', \n",
    "                  optimizer=Adam(learning_rate=learning_rate),\n",
    "                  metrics=[Precision()]) \n",
    "    return model"
   ]
  },
  {
   "cell_type": "code",
   "execution_count": 28,
   "metadata": {},
   "outputs": [
    {
     "data": {
      "text/plain": [
       "((86744, 23), (86744,))"
      ]
     },
     "execution_count": 28,
     "metadata": {},
     "output_type": "execute_result"
    }
   ],
   "source": [
    "X.shape, y.shape"
   ]
  },
  {
   "cell_type": "code",
   "execution_count": 38,
   "metadata": {},
   "outputs": [],
   "source": [
    "# Define objective \n",
    "def objective(trial):\n",
    "\n",
    "    # Hyperparameters\n",
    "    learning_rate = trial.suggest_loguniform('learning_rate', 1e-4, 1e-2)\n",
    "    num_layers = trial.suggest_int('num_layers', 1, 3)\n",
    "    num_units = trial.suggest_int('num_units', 8, 128)\n",
    "    \n",
    "    # Cross validation\n",
    "    kf = StratifiedKFold(n_splits=10, shuffle=True, random_state=42)\n",
    "    scores = []\n",
    "    for train_index, test_index in kf.split(X, y):\n",
    "        X_train, X_test = X[train_index], X[test_index]\n",
    "        y_train, y_test = y.iloc[train_index], y.iloc[test_index]\n",
    "\n",
    "        model = KerasClassifier(build_fn=create_model, \n",
    "                                learning_rate=learning_rate,\n",
    "                                num_layers=num_layers, \n",
    "                                num_units=num_units,\n",
    "                                verbose=0)\n",
    "        model.fit(X_train, y_train)\n",
    "        y_pred = model.predict(X_test)\n",
    "        precision = precision_score(y_test, y_pred)\n",
    "        scores.append(precision)\n",
    "    \n",
    "    return np.mean(scores)"
   ]
  },
  {
   "cell_type": "code",
   "execution_count": 39,
   "metadata": {},
   "outputs": [
    {
     "name": "stderr",
     "output_type": "stream",
     "text": [
      "[I 2023-11-04 14:59:21,108] A new study created in memory with name: no-name-64a09ff1-acfd-4aec-a744-f7902e565469\n"
     ]
    },
    {
     "name": "stdout",
     "output_type": "stream",
     "text": [
      "272/272 [==============================] - 18s 62ms/step\n",
      "272/272 [==============================] - 2s 7ms/step\n",
      "272/272 [==============================] - 2s 7ms/step\n",
      "272/272 [==============================] - 1s 3ms/step\n",
      "272/272 [==============================] - 1s 3ms/step\n",
      "272/272 [==============================] - 1s 3ms/step\n",
      "272/272 [==============================] - 1s 3ms/step\n",
      "272/272 [==============================] - 1s 3ms/step\n",
      "272/272 [==============================] - 1s 3ms/step\n",
      "272/272 [==============================] - 1s 3ms/step\n"
     ]
    },
    {
     "name": "stderr",
     "output_type": "stream",
     "text": [
      "[I 2023-11-04 15:03:06,850] Trial 0 finished with value: 0.7162142044683543 and parameters: {'learning_rate': 0.0002316208682114443, 'num_layers': 1, 'num_units': 84}. Best is trial 0 with value: 0.7162142044683543.\n"
     ]
    },
    {
     "name": "stdout",
     "output_type": "stream",
     "text": [
      "272/272 [==============================] - 1s 3ms/step\n",
      "272/272 [==============================] - 1s 3ms/step\n",
      "272/272 [==============================] - 1s 3ms/step\n",
      "272/272 [==============================] - 1s 3ms/step\n",
      "272/272 [==============================] - 1s 3ms/step\n",
      "272/272 [==============================] - 1s 3ms/step\n",
      "272/272 [==============================] - 1s 3ms/step\n",
      "272/272 [==============================] - 1s 3ms/step\n",
      "272/272 [==============================] - 1s 3ms/step\n",
      "272/272 [==============================] - 1s 3ms/step\n"
     ]
    },
    {
     "name": "stderr",
     "output_type": "stream",
     "text": [
      "[I 2023-11-04 15:04:59,766] Trial 1 finished with value: 0.7285987984036522 and parameters: {'learning_rate': 0.00479270078704621, 'num_layers': 2, 'num_units': 103}. Best is trial 0 with value: 0.7162142044683543.\n"
     ]
    },
    {
     "name": "stdout",
     "output_type": "stream",
     "text": [
      "272/272 [==============================] - 1s 2ms/step\n",
      "272/272 [==============================] - 1s 2ms/step\n",
      "272/272 [==============================] - 1s 2ms/step\n",
      "272/272 [==============================] - 1s 2ms/step\n",
      "272/272 [==============================] - 1s 3ms/step\n",
      "272/272 [==============================] - 1s 2ms/step\n",
      "272/272 [==============================] - 1s 2ms/step\n",
      "272/272 [==============================] - 1s 2ms/step\n",
      "272/272 [==============================] - 1s 2ms/step\n",
      "272/272 [==============================] - 1s 2ms/step\n"
     ]
    },
    {
     "name": "stderr",
     "output_type": "stream",
     "text": [
      "[I 2023-11-04 15:06:12,707] Trial 2 finished with value: 0.7271619480877323 and parameters: {'learning_rate': 0.0035980336566582083, 'num_layers': 3, 'num_units': 43}. Best is trial 0 with value: 0.7162142044683543.\n"
     ]
    },
    {
     "name": "stdout",
     "output_type": "stream",
     "text": [
      "272/272 [==============================] - 1s 2ms/step\n",
      "272/272 [==============================] - 0s 1ms/step\n",
      "272/272 [==============================] - 1s 2ms/step\n",
      "272/272 [==============================] - 0s 2ms/step\n",
      "272/272 [==============================] - 1s 2ms/step\n",
      "272/272 [==============================] - 0s 2ms/step\n",
      "272/272 [==============================] - 0s 1ms/step\n",
      "272/272 [==============================] - 1s 2ms/step\n",
      "272/272 [==============================] - 1s 2ms/step\n",
      "272/272 [==============================] - 1s 3ms/step\n"
     ]
    },
    {
     "name": "stderr",
     "output_type": "stream",
     "text": [
      "[I 2023-11-04 15:07:19,763] Trial 3 finished with value: 0.7245631808503957 and parameters: {'learning_rate': 0.006519894068085366, 'num_layers': 3, 'num_units': 65}. Best is trial 0 with value: 0.7162142044683543.\n"
     ]
    },
    {
     "name": "stdout",
     "output_type": "stream",
     "text": [
      "272/272 [==============================] - 1s 2ms/step\n",
      "272/272 [==============================] - 1s 3ms/step\n",
      "272/272 [==============================] - 1s 3ms/step\n",
      "272/272 [==============================] - 1s 3ms/step\n",
      "272/272 [==============================] - 1s 3ms/step\n",
      "272/272 [==============================] - 1s 3ms/step\n",
      "272/272 [==============================] - 1s 3ms/step\n",
      "272/272 [==============================] - 1s 3ms/step\n",
      "272/272 [==============================] - 1s 3ms/step\n",
      "272/272 [==============================] - 1s 3ms/step\n"
     ]
    },
    {
     "name": "stderr",
     "output_type": "stream",
     "text": [
      "[I 2023-11-04 15:08:57,470] Trial 4 finished with value: 0.7216789582388681 and parameters: {'learning_rate': 0.0003445012380342136, 'num_layers': 1, 'num_units': 92}. Best is trial 0 with value: 0.7162142044683543.\n"
     ]
    },
    {
     "name": "stdout",
     "output_type": "stream",
     "text": [
      "272/272 [==============================] - 1s 2ms/step\n",
      "272/272 [==============================] - 1s 2ms/step\n",
      "272/272 [==============================] - 1s 2ms/step\n",
      "272/272 [==============================] - 1s 2ms/step\n",
      "272/272 [==============================] - 0s 2ms/step\n",
      "272/272 [==============================] - 1s 2ms/step\n",
      "272/272 [==============================] - 1s 2ms/step\n",
      "272/272 [==============================] - 1s 2ms/step\n",
      "272/272 [==============================] - 1s 2ms/step\n",
      "272/272 [==============================] - 1s 2ms/step\n"
     ]
    },
    {
     "name": "stderr",
     "output_type": "stream",
     "text": [
      "[I 2023-11-04 15:10:10,098] Trial 5 finished with value: 0.7213639518240472 and parameters: {'learning_rate': 0.0001496062895211928, 'num_layers': 2, 'num_units': 117}. Best is trial 0 with value: 0.7162142044683543.\n"
     ]
    },
    {
     "name": "stdout",
     "output_type": "stream",
     "text": [
      "272/272 [==============================] - 0s 2ms/step\n",
      "272/272 [==============================] - 1s 2ms/step\n",
      "272/272 [==============================] - 1s 2ms/step\n",
      "272/272 [==============================] - 1s 2ms/step\n",
      "272/272 [==============================] - 1s 2ms/step\n",
      "272/272 [==============================] - 1s 2ms/step\n",
      "272/272 [==============================] - 1s 2ms/step\n",
      "272/272 [==============================] - 0s 2ms/step\n",
      "272/272 [==============================] - 0s 1ms/step\n",
      "272/272 [==============================] - 1s 2ms/step\n"
     ]
    },
    {
     "name": "stderr",
     "output_type": "stream",
     "text": [
      "[I 2023-11-04 15:11:11,072] Trial 6 finished with value: 0.7123298087291566 and parameters: {'learning_rate': 0.002361008258755826, 'num_layers': 1, 'num_units': 71}. Best is trial 6 with value: 0.7123298087291566.\n"
     ]
    },
    {
     "name": "stdout",
     "output_type": "stream",
     "text": [
      "272/272 [==============================] - 1s 2ms/step\n",
      "272/272 [==============================] - 1s 2ms/step\n",
      "272/272 [==============================] - 1s 2ms/step\n",
      "272/272 [==============================] - 1s 3ms/step\n",
      "272/272 [==============================] - 1s 3ms/step\n",
      "272/272 [==============================] - 1s 3ms/step\n",
      "272/272 [==============================] - 1s 3ms/step\n",
      "272/272 [==============================] - 1s 3ms/step\n",
      "272/272 [==============================] - 0s 2ms/step\n",
      "272/272 [==============================] - 0s 1ms/step\n"
     ]
    },
    {
     "name": "stderr",
     "output_type": "stream",
     "text": [
      "[I 2023-11-04 15:12:36,692] Trial 7 finished with value: 0.7042558476631262 and parameters: {'learning_rate': 0.0007105115032132633, 'num_layers': 2, 'num_units': 8}. Best is trial 7 with value: 0.7042558476631262.\n"
     ]
    },
    {
     "name": "stdout",
     "output_type": "stream",
     "text": [
      "272/272 [==============================] - 0s 2ms/step\n",
      "272/272 [==============================] - 1s 2ms/step\n",
      "272/272 [==============================] - 1s 2ms/step\n",
      "272/272 [==============================] - 1s 2ms/step\n",
      "272/272 [==============================] - 1s 3ms/step\n",
      "272/272 [==============================] - 1s 3ms/step\n",
      "272/272 [==============================] - 1s 3ms/step\n",
      "272/272 [==============================] - 1s 3ms/step\n",
      "272/272 [==============================] - 1s 3ms/step\n",
      "272/272 [==============================] - 1s 3ms/step\n"
     ]
    },
    {
     "name": "stderr",
     "output_type": "stream",
     "text": [
      "[I 2023-11-04 15:14:07,492] Trial 8 finished with value: 0.7379262007487607 and parameters: {'learning_rate': 0.009104411016477264, 'num_layers': 2, 'num_units': 85}. Best is trial 7 with value: 0.7042558476631262.\n"
     ]
    },
    {
     "name": "stdout",
     "output_type": "stream",
     "text": [
      "272/272 [==============================] - 1s 2ms/step\n",
      "272/272 [==============================] - 1s 2ms/step\n",
      "272/272 [==============================] - 1s 3ms/step\n",
      "272/272 [==============================] - 1s 3ms/step\n",
      "272/272 [==============================] - 1s 3ms/step\n",
      "272/272 [==============================] - 1s 3ms/step\n",
      "272/272 [==============================] - 1s 3ms/step\n",
      "272/272 [==============================] - 1s 2ms/step\n",
      "272/272 [==============================] - 1s 2ms/step\n",
      "272/272 [==============================] - 1s 3ms/step\n"
     ]
    },
    {
     "name": "stderr",
     "output_type": "stream",
     "text": [
      "[I 2023-11-04 15:15:26,381] Trial 9 finished with value: 0.7163267412030266 and parameters: {'learning_rate': 0.007559425828898494, 'num_layers': 1, 'num_units': 54}. Best is trial 7 with value: 0.7042558476631262.\n"
     ]
    },
    {
     "name": "stdout",
     "output_type": "stream",
     "text": [
      "272/272 [==============================] - 1s 3ms/step\n",
      "272/272 [==============================] - 1s 3ms/step\n",
      "272/272 [==============================] - 1s 3ms/step\n",
      "272/272 [==============================] - 1s 3ms/step\n",
      "272/272 [==============================] - 1s 3ms/step\n",
      "272/272 [==============================] - 1s 4ms/step\n",
      "272/272 [==============================] - 1s 3ms/step\n",
      "272/272 [==============================] - 1s 3ms/step\n",
      "272/272 [==============================] - 1s 3ms/step\n",
      "272/272 [==============================] - 1s 3ms/step\n"
     ]
    },
    {
     "name": "stderr",
     "output_type": "stream",
     "text": [
      "[I 2023-11-04 15:17:17,727] Trial 10 finished with value: 0.7079030267325207 and parameters: {'learning_rate': 0.0007933940981352638, 'num_layers': 3, 'num_units': 8}. Best is trial 7 with value: 0.7042558476631262.\n"
     ]
    },
    {
     "name": "stdout",
     "output_type": "stream",
     "text": [
      "272/272 [==============================] - 1s 3ms/step\n",
      "272/272 [==============================] - 1s 2ms/step\n",
      "272/272 [==============================] - 1s 3ms/step\n",
      "272/272 [==============================] - 1s 3ms/step\n",
      "272/272 [==============================] - 1s 2ms/step\n",
      "272/272 [==============================] - 1s 2ms/step\n",
      "272/272 [==============================] - 1s 3ms/step\n",
      "272/272 [==============================] - 1s 3ms/step\n",
      "272/272 [==============================] - 1s 3ms/step\n",
      "272/272 [==============================] - 1s 3ms/step\n"
     ]
    },
    {
     "name": "stderr",
     "output_type": "stream",
     "text": [
      "[I 2023-11-04 15:19:03,894] Trial 11 finished with value: 0.715429857911581 and parameters: {'learning_rate': 0.0007755598493319336, 'num_layers': 3, 'num_units': 11}. Best is trial 7 with value: 0.7042558476631262.\n"
     ]
    },
    {
     "name": "stdout",
     "output_type": "stream",
     "text": [
      "272/272 [==============================] - 1s 3ms/step\n",
      "272/272 [==============================] - 1s 3ms/step\n",
      "272/272 [==============================] - 1s 3ms/step\n",
      "272/272 [==============================] - 1s 3ms/step\n",
      "272/272 [==============================] - 1s 3ms/step\n",
      "272/272 [==============================] - 1s 3ms/step\n",
      "272/272 [==============================] - 1s 3ms/step\n",
      "272/272 [==============================] - 1s 3ms/step\n",
      "272/272 [==============================] - 1s 3ms/step\n",
      "272/272 [==============================] - 1s 3ms/step\n"
     ]
    },
    {
     "name": "stderr",
     "output_type": "stream",
     "text": [
      "[I 2023-11-04 15:20:48,707] Trial 12 finished with value: 0.7098982558995868 and parameters: {'learning_rate': 0.0009123760881150437, 'num_layers': 3, 'num_units': 8}. Best is trial 7 with value: 0.7042558476631262.\n"
     ]
    },
    {
     "name": "stdout",
     "output_type": "stream",
     "text": [
      "272/272 [==============================] - 1s 3ms/step\n",
      "272/272 [==============================] - 1s 3ms/step\n",
      "272/272 [==============================] - 1s 3ms/step\n",
      "272/272 [==============================] - 1s 3ms/step\n",
      "272/272 [==============================] - 1s 3ms/step\n",
      "272/272 [==============================] - 1s 3ms/step\n",
      "272/272 [==============================] - 1s 3ms/step\n",
      "272/272 [==============================] - 1s 3ms/step\n",
      "272/272 [==============================] - 1s 3ms/step\n",
      "272/272 [==============================] - 1s 3ms/step\n"
     ]
    },
    {
     "name": "stderr",
     "output_type": "stream",
     "text": [
      "[I 2023-11-04 15:22:30,727] Trial 13 finished with value: 0.729850831488244 and parameters: {'learning_rate': 0.0016428645300409948, 'num_layers': 2, 'num_units': 29}. Best is trial 7 with value: 0.7042558476631262.\n"
     ]
    },
    {
     "name": "stdout",
     "output_type": "stream",
     "text": [
      "272/272 [==============================] - 1s 3ms/step\n",
      "272/272 [==============================] - 1s 3ms/step\n",
      "272/272 [==============================] - 1s 3ms/step\n",
      "272/272 [==============================] - 1s 3ms/step\n",
      "272/272 [==============================] - 1s 3ms/step\n",
      "272/272 [==============================] - 1s 3ms/step\n",
      "272/272 [==============================] - 1s 3ms/step\n",
      "272/272 [==============================] - 1s 3ms/step\n",
      "272/272 [==============================] - 1s 3ms/step\n",
      "272/272 [==============================] - 1s 3ms/step\n"
     ]
    },
    {
     "name": "stderr",
     "output_type": "stream",
     "text": [
      "[I 2023-11-04 15:24:13,383] Trial 14 finished with value: 0.7091298064495414 and parameters: {'learning_rate': 0.00046864447307780365, 'num_layers': 2, 'num_units': 26}. Best is trial 7 with value: 0.7042558476631262.\n"
     ]
    },
    {
     "name": "stdout",
     "output_type": "stream",
     "text": [
      "272/272 [==============================] - 1s 3ms/step\n",
      "272/272 [==============================] - 1s 3ms/step\n",
      "272/272 [==============================] - 1s 3ms/step\n",
      "272/272 [==============================] - 1s 3ms/step\n",
      "272/272 [==============================] - 1s 3ms/step\n",
      "272/272 [==============================] - 1s 3ms/step\n",
      "272/272 [==============================] - 1s 3ms/step\n",
      "272/272 [==============================] - 1s 3ms/step\n",
      "272/272 [==============================] - 1s 3ms/step\n",
      "272/272 [==============================] - 1s 3ms/step\n"
     ]
    },
    {
     "name": "stderr",
     "output_type": "stream",
     "text": [
      "[I 2023-11-04 15:25:59,721] Trial 15 finished with value: 0.7157525857551668 and parameters: {'learning_rate': 0.0013516828350816214, 'num_layers': 3, 'num_units': 26}. Best is trial 7 with value: 0.7042558476631262.\n"
     ]
    },
    {
     "name": "stdout",
     "output_type": "stream",
     "text": [
      "272/272 [==============================] - 1s 3ms/step\n",
      "272/272 [==============================] - 1s 3ms/step\n",
      "272/272 [==============================] - 1s 3ms/step\n",
      "272/272 [==============================] - 1s 3ms/step\n",
      "272/272 [==============================] - 1s 3ms/step\n",
      "272/272 [==============================] - 1s 3ms/step\n",
      "272/272 [==============================] - 1s 3ms/step\n",
      "272/272 [==============================] - 1s 3ms/step\n",
      "272/272 [==============================] - 1s 3ms/step\n",
      "272/272 [==============================] - 1s 3ms/step\n"
     ]
    },
    {
     "name": "stderr",
     "output_type": "stream",
     "text": [
      "[I 2023-11-04 15:27:40,967] Trial 16 finished with value: 0.7257969702225854 and parameters: {'learning_rate': 0.0006205907169563305, 'num_layers': 2, 'num_units': 44}. Best is trial 7 with value: 0.7042558476631262.\n"
     ]
    },
    {
     "name": "stdout",
     "output_type": "stream",
     "text": [
      "272/272 [==============================] - 1s 3ms/step\n",
      "272/272 [==============================] - 1s 3ms/step\n",
      "272/272 [==============================] - 1s 3ms/step\n",
      "272/272 [==============================] - 1s 3ms/step\n",
      "272/272 [==============================] - 1s 3ms/step\n",
      "272/272 [==============================] - 1s 3ms/step\n",
      "272/272 [==============================] - 1s 3ms/step\n",
      "272/272 [==============================] - 1s 3ms/step\n",
      "272/272 [==============================] - 1s 3ms/step\n",
      "272/272 [==============================] - 1s 3ms/step\n"
     ]
    },
    {
     "name": "stderr",
     "output_type": "stream",
     "text": [
      "[I 2023-11-04 15:29:29,786] Trial 17 finished with value: 0.7134244465762488 and parameters: {'learning_rate': 0.0011405795203610711, 'num_layers': 3, 'num_units': 18}. Best is trial 7 with value: 0.7042558476631262.\n"
     ]
    },
    {
     "name": "stdout",
     "output_type": "stream",
     "text": [
      "272/272 [==============================] - 1s 3ms/step\n",
      "272/272 [==============================] - 1s 3ms/step\n",
      "272/272 [==============================] - 1s 3ms/step\n",
      "272/272 [==============================] - 1s 3ms/step\n",
      "272/272 [==============================] - 1s 3ms/step\n",
      "272/272 [==============================] - 1s 3ms/step\n",
      "272/272 [==============================] - 1s 3ms/step\n",
      "272/272 [==============================] - 1s 3ms/step\n",
      "272/272 [==============================] - 1s 3ms/step\n",
      "272/272 [==============================] - 1s 3ms/step\n"
     ]
    },
    {
     "name": "stderr",
     "output_type": "stream",
     "text": [
      "[I 2023-11-04 15:31:11,747] Trial 18 finished with value: 0.7139834676147284 and parameters: {'learning_rate': 0.0004090636710215892, 'num_layers': 2, 'num_units': 39}. Best is trial 7 with value: 0.7042558476631262.\n"
     ]
    },
    {
     "name": "stdout",
     "output_type": "stream",
     "text": [
      "272/272 [==============================] - 1s 3ms/step\n",
      "272/272 [==============================] - 1s 2ms/step\n",
      "272/272 [==============================] - 1s 3ms/step\n",
      "272/272 [==============================] - 1s 3ms/step\n",
      "272/272 [==============================] - 1s 3ms/step\n",
      "272/272 [==============================] - 1s 3ms/step\n",
      "272/272 [==============================] - 1s 3ms/step\n",
      "272/272 [==============================] - 1s 3ms/step\n",
      "272/272 [==============================] - 1s 2ms/step\n",
      "272/272 [==============================] - 1s 3ms/step\n"
     ]
    },
    {
     "name": "stderr",
     "output_type": "stream",
     "text": [
      "[I 2023-11-04 15:32:58,691] Trial 19 finished with value: 0.7253202879727739 and parameters: {'learning_rate': 0.0006590633858673898, 'num_layers': 3, 'num_units': 58}. Best is trial 7 with value: 0.7042558476631262.\n"
     ]
    },
    {
     "name": "stdout",
     "output_type": "stream",
     "text": [
      "272/272 [==============================] - 1s 3ms/step\n",
      "272/272 [==============================] - 1s 3ms/step\n",
      "272/272 [==============================] - 1s 3ms/step\n",
      "272/272 [==============================] - 1s 3ms/step\n",
      "272/272 [==============================] - 1s 3ms/step\n",
      "272/272 [==============================] - 1s 3ms/step\n",
      "272/272 [==============================] - 1s 3ms/step\n",
      "272/272 [==============================] - 1s 3ms/step\n",
      "272/272 [==============================] - 1s 3ms/step\n",
      "272/272 [==============================] - 1s 2ms/step\n"
     ]
    },
    {
     "name": "stderr",
     "output_type": "stream",
     "text": [
      "[I 2023-11-04 15:34:46,208] Trial 20 finished with value: 0.7375348557788178 and parameters: {'learning_rate': 0.0020470472440623447, 'num_layers': 2, 'num_units': 128}. Best is trial 7 with value: 0.7042558476631262.\n"
     ]
    },
    {
     "name": "stdout",
     "output_type": "stream",
     "text": [
      "272/272 [==============================] - 1s 3ms/step\n",
      "272/272 [==============================] - 1s 3ms/step\n",
      "272/272 [==============================] - 1s 3ms/step\n",
      "272/272 [==============================] - 1s 3ms/step\n",
      "272/272 [==============================] - 1s 2ms/step\n",
      "272/272 [==============================] - 1s 3ms/step\n",
      "272/272 [==============================] - 1s 3ms/step\n",
      "272/272 [==============================] - 1s 3ms/step\n",
      "272/272 [==============================] - 1s 3ms/step\n",
      "272/272 [==============================] - 1s 3ms/step\n"
     ]
    },
    {
     "name": "stderr",
     "output_type": "stream",
     "text": [
      "[I 2023-11-04 15:36:29,451] Trial 21 finished with value: 0.7148044063216623 and parameters: {'learning_rate': 0.000440319188355048, 'num_layers': 2, 'num_units': 24}. Best is trial 7 with value: 0.7042558476631262.\n"
     ]
    },
    {
     "name": "stdout",
     "output_type": "stream",
     "text": [
      "272/272 [==============================] - 1s 3ms/step\n",
      "272/272 [==============================] - 1s 3ms/step\n",
      "272/272 [==============================] - 1s 3ms/step\n",
      "272/272 [==============================] - 1s 3ms/step\n",
      "272/272 [==============================] - 1s 3ms/step\n",
      "272/272 [==============================] - 1s 3ms/step\n",
      "272/272 [==============================] - 1s 2ms/step\n",
      "272/272 [==============================] - 1s 3ms/step\n",
      "272/272 [==============================] - 1s 3ms/step\n",
      "272/272 [==============================] - 1s 2ms/step\n"
     ]
    },
    {
     "name": "stderr",
     "output_type": "stream",
     "text": [
      "[I 2023-11-04 15:38:12,798] Trial 22 finished with value: 0.717276654617254 and parameters: {'learning_rate': 0.0010453286642899643, 'num_layers': 2, 'num_units': 15}. Best is trial 7 with value: 0.7042558476631262.\n"
     ]
    },
    {
     "name": "stdout",
     "output_type": "stream",
     "text": [
      "272/272 [==============================] - 1s 3ms/step\n",
      "272/272 [==============================] - 1s 3ms/step\n",
      "272/272 [==============================] - 1s 3ms/step\n",
      "272/272 [==============================] - 1s 3ms/step\n",
      "272/272 [==============================] - 1s 3ms/step\n",
      "272/272 [==============================] - 1s 3ms/step\n",
      "272/272 [==============================] - 1s 3ms/step\n",
      "272/272 [==============================] - 1s 3ms/step\n",
      "272/272 [==============================] - 1s 3ms/step\n",
      "272/272 [==============================] - 1s 3ms/step\n"
     ]
    },
    {
     "name": "stderr",
     "output_type": "stream",
     "text": [
      "[I 2023-11-04 15:39:55,083] Trial 23 finished with value: 0.7224198852645844 and parameters: {'learning_rate': 0.000552455355877629, 'num_layers': 2, 'num_units': 33}. Best is trial 7 with value: 0.7042558476631262.\n"
     ]
    },
    {
     "name": "stdout",
     "output_type": "stream",
     "text": [
      "272/272 [==============================] - 1s 3ms/step\n",
      "272/272 [==============================] - 1s 3ms/step\n",
      "272/272 [==============================] - 1s 2ms/step\n",
      "272/272 [==============================] - 1s 2ms/step\n",
      "272/272 [==============================] - 1s 3ms/step\n",
      "272/272 [==============================] - 1s 3ms/step\n",
      "272/272 [==============================] - 1s 3ms/step\n",
      "272/272 [==============================] - 1s 3ms/step\n",
      "272/272 [==============================] - 1s 3ms/step\n",
      "272/272 [==============================] - 1s 3ms/step\n"
     ]
    },
    {
     "name": "stderr",
     "output_type": "stream",
     "text": [
      "[I 2023-11-04 15:41:32,969] Trial 24 finished with value: 0.6771655796285752 and parameters: {'learning_rate': 0.0002824834898316976, 'num_layers': 2, 'num_units': 8}. Best is trial 24 with value: 0.6771655796285752.\n"
     ]
    },
    {
     "name": "stdout",
     "output_type": "stream",
     "text": [
      "272/272 [==============================] - 1s 3ms/step\n",
      "272/272 [==============================] - 1s 3ms/step\n",
      "272/272 [==============================] - 1s 3ms/step\n",
      "272/272 [==============================] - 1s 3ms/step\n",
      "272/272 [==============================] - 1s 3ms/step\n",
      "272/272 [==============================] - 1s 3ms/step\n",
      "272/272 [==============================] - 1s 3ms/step\n",
      "272/272 [==============================] - 1s 3ms/step\n",
      "272/272 [==============================] - 1s 3ms/step\n",
      "272/272 [==============================] - 1s 3ms/step\n"
     ]
    },
    {
     "name": "stderr",
     "output_type": "stream",
     "text": [
      "[I 2023-11-04 15:43:06,241] Trial 25 finished with value: 0.6819891927899311 and parameters: {'learning_rate': 0.0002815997904721564, 'num_layers': 1, 'num_units': 8}. Best is trial 24 with value: 0.6771655796285752.\n"
     ]
    },
    {
     "name": "stdout",
     "output_type": "stream",
     "text": [
      "272/272 [==============================] - 1s 3ms/step\n",
      "272/272 [==============================] - 1s 3ms/step\n",
      "272/272 [==============================] - 1s 3ms/step\n",
      "272/272 [==============================] - 1s 3ms/step\n",
      "272/272 [==============================] - 1s 3ms/step\n",
      "272/272 [==============================] - 1s 3ms/step\n",
      "272/272 [==============================] - 1s 2ms/step\n",
      "272/272 [==============================] - 1s 3ms/step\n",
      "272/272 [==============================] - 1s 3ms/step\n",
      "272/272 [==============================] - 1s 3ms/step\n"
     ]
    },
    {
     "name": "stderr",
     "output_type": "stream",
     "text": [
      "[I 2023-11-04 15:44:41,622] Trial 26 finished with value: 0.7020177158642615 and parameters: {'learning_rate': 0.0002934664194834027, 'num_layers': 1, 'num_units': 19}. Best is trial 24 with value: 0.6771655796285752.\n"
     ]
    },
    {
     "name": "stdout",
     "output_type": "stream",
     "text": [
      "272/272 [==============================] - 1s 3ms/step\n",
      "272/272 [==============================] - 1s 3ms/step\n",
      "272/272 [==============================] - 1s 3ms/step\n",
      "272/272 [==============================] - 1s 3ms/step\n",
      "272/272 [==============================] - 1s 3ms/step\n",
      "272/272 [==============================] - 1s 3ms/step\n",
      "272/272 [==============================] - 1s 3ms/step\n",
      "272/272 [==============================] - 1s 3ms/step\n",
      "272/272 [==============================] - 1s 3ms/step\n",
      "272/272 [==============================] - 1s 3ms/step\n"
     ]
    },
    {
     "name": "stderr",
     "output_type": "stream",
     "text": [
      "[I 2023-11-04 15:46:20,625] Trial 27 finished with value: 0.6804676022099658 and parameters: {'learning_rate': 0.00010723643261022405, 'num_layers': 1, 'num_units': 19}. Best is trial 24 with value: 0.6771655796285752.\n"
     ]
    },
    {
     "name": "stdout",
     "output_type": "stream",
     "text": [
      "272/272 [==============================] - 1s 3ms/step\n",
      "272/272 [==============================] - 1s 3ms/step\n",
      "272/272 [==============================] - 1s 3ms/step\n",
      "272/272 [==============================] - 1s 3ms/step\n",
      "272/272 [==============================] - 1s 3ms/step\n",
      "272/272 [==============================] - 1s 2ms/step\n",
      "272/272 [==============================] - 1s 3ms/step\n",
      "272/272 [==============================] - 1s 3ms/step\n",
      "272/272 [==============================] - 1s 3ms/step\n",
      "272/272 [==============================] - 1s 3ms/step\n"
     ]
    },
    {
     "name": "stderr",
     "output_type": "stream",
     "text": [
      "[I 2023-11-04 15:47:59,327] Trial 28 finished with value: 0.695491882129612 and parameters: {'learning_rate': 0.00010008701715834895, 'num_layers': 1, 'num_units': 35}. Best is trial 24 with value: 0.6771655796285752.\n"
     ]
    },
    {
     "name": "stdout",
     "output_type": "stream",
     "text": [
      "272/272 [==============================] - 1s 3ms/step\n",
      "272/272 [==============================] - 1s 3ms/step\n",
      "272/272 [==============================] - 1s 3ms/step\n",
      "272/272 [==============================] - 1s 3ms/step\n",
      "272/272 [==============================] - 1s 3ms/step\n",
      "272/272 [==============================] - 1s 3ms/step\n",
      "272/272 [==============================] - 1s 3ms/step\n",
      "272/272 [==============================] - 1s 3ms/step\n",
      "272/272 [==============================] - 1s 3ms/step\n",
      "272/272 [==============================] - 1s 3ms/step\n"
     ]
    },
    {
     "name": "stderr",
     "output_type": "stream",
     "text": [
      "[I 2023-11-04 15:49:36,479] Trial 29 finished with value: 0.7145774644571947 and parameters: {'learning_rate': 0.00021817223895562892, 'num_layers': 1, 'num_units': 47}. Best is trial 24 with value: 0.6771655796285752.\n"
     ]
    },
    {
     "name": "stdout",
     "output_type": "stream",
     "text": [
      "272/272 [==============================] - 1s 3ms/step\n",
      "272/272 [==============================] - 1s 2ms/step\n",
      "272/272 [==============================] - 1s 3ms/step\n",
      "272/272 [==============================] - 1s 3ms/step\n",
      "272/272 [==============================] - 1s 3ms/step\n",
      "272/272 [==============================] - 1s 3ms/step\n",
      "272/272 [==============================] - 1s 3ms/step\n",
      "272/272 [==============================] - 1s 3ms/step\n",
      "272/272 [==============================] - 1s 3ms/step\n",
      "272/272 [==============================] - 1s 3ms/step\n"
     ]
    },
    {
     "name": "stderr",
     "output_type": "stream",
     "text": [
      "[I 2023-11-04 15:51:11,649] Trial 30 finished with value: 0.6980150574572012 and parameters: {'learning_rate': 0.00021525240828729552, 'num_layers': 1, 'num_units': 20}. Best is trial 24 with value: 0.6771655796285752.\n"
     ]
    },
    {
     "name": "stdout",
     "output_type": "stream",
     "text": [
      "272/272 [==============================] - 1s 3ms/step\n",
      "272/272 [==============================] - 1s 3ms/step\n",
      "272/272 [==============================] - 1s 3ms/step\n",
      "272/272 [==============================] - 1s 3ms/step\n",
      "272/272 [==============================] - 1s 3ms/step\n",
      "272/272 [==============================] - 1s 3ms/step\n",
      "272/272 [==============================] - 1s 3ms/step\n",
      "272/272 [==============================] - 1s 3ms/step\n",
      "272/272 [==============================] - 1s 3ms/step\n",
      "272/272 [==============================] - 1s 3ms/step\n"
     ]
    },
    {
     "name": "stderr",
     "output_type": "stream",
     "text": [
      "[I 2023-11-04 15:52:47,038] Trial 31 finished with value: 0.6915525700154277 and parameters: {'learning_rate': 0.00010590719359235717, 'num_layers': 1, 'num_units': 32}. Best is trial 24 with value: 0.6771655796285752.\n"
     ]
    },
    {
     "name": "stdout",
     "output_type": "stream",
     "text": [
      "272/272 [==============================] - 1s 3ms/step\n",
      "272/272 [==============================] - 1s 3ms/step\n",
      "272/272 [==============================] - 1s 3ms/step\n",
      "272/272 [==============================] - 1s 3ms/step\n",
      "272/272 [==============================] - 0s 1ms/step\n",
      "272/272 [==============================] - 1s 2ms/step\n",
      "272/272 [==============================] - 0s 2ms/step\n",
      "272/272 [==============================] - 0s 2ms/step\n",
      "272/272 [==============================] - 0s 2ms/step\n",
      "272/272 [==============================] - 0s 2ms/step\n"
     ]
    },
    {
     "name": "stderr",
     "output_type": "stream",
     "text": [
      "[I 2023-11-04 15:53:58,871] Trial 32 finished with value: 0.6733543830991086 and parameters: {'learning_rate': 0.00011137993409774285, 'num_layers': 1, 'num_units': 16}. Best is trial 32 with value: 0.6733543830991086.\n"
     ]
    },
    {
     "name": "stdout",
     "output_type": "stream",
     "text": [
      "272/272 [==============================] - 1s 2ms/step\n",
      "272/272 [==============================] - 0s 1ms/step\n",
      "272/272 [==============================] - 0s 1ms/step\n",
      "272/272 [==============================] - 0s 1ms/step\n",
      "272/272 [==============================] - 0s 2ms/step\n",
      "272/272 [==============================] - 0s 1ms/step\n",
      "272/272 [==============================] - 0s 1ms/step\n",
      "272/272 [==============================] - 0s 1ms/step\n",
      "272/272 [==============================] - 1s 2ms/step\n",
      "272/272 [==============================] - 0s 2ms/step\n"
     ]
    },
    {
     "name": "stderr",
     "output_type": "stream",
     "text": [
      "[I 2023-11-04 15:54:52,438] Trial 33 finished with value: 0.6835910335195322 and parameters: {'learning_rate': 0.0001496726937449985, 'num_layers': 1, 'num_units': 16}. Best is trial 32 with value: 0.6733543830991086.\n"
     ]
    },
    {
     "name": "stdout",
     "output_type": "stream",
     "text": [
      "272/272 [==============================] - 0s 2ms/step\n",
      "272/272 [==============================] - 1s 2ms/step\n",
      "272/272 [==============================] - 0s 1ms/step\n",
      "272/272 [==============================] - 1s 2ms/step\n",
      "272/272 [==============================] - 0s 2ms/step\n",
      "272/272 [==============================] - 1s 2ms/step\n",
      "272/272 [==============================] - 0s 2ms/step\n",
      "272/272 [==============================] - 1s 2ms/step\n",
      "272/272 [==============================] - 0s 2ms/step\n",
      "272/272 [==============================] - 0s 2ms/step\n"
     ]
    },
    {
     "name": "stderr",
     "output_type": "stream",
     "text": [
      "[I 2023-11-04 15:55:48,508] Trial 34 finished with value: 0.7017038543129508 and parameters: {'learning_rate': 0.0002756172274652847, 'num_layers': 1, 'num_units': 22}. Best is trial 32 with value: 0.6733543830991086.\n"
     ]
    },
    {
     "name": "stdout",
     "output_type": "stream",
     "text": [
      "272/272 [==============================] - 1s 2ms/step\n",
      "272/272 [==============================] - 0s 1ms/step\n",
      "272/272 [==============================] - 1s 2ms/step\n",
      "272/272 [==============================] - 0s 2ms/step\n",
      "272/272 [==============================] - 1s 2ms/step\n",
      "272/272 [==============================] - 0s 1ms/step\n",
      "272/272 [==============================] - 0s 2ms/step\n",
      "272/272 [==============================] - 0s 2ms/step\n",
      "272/272 [==============================] - 0s 2ms/step\n",
      "272/272 [==============================] - 0s 2ms/step\n"
     ]
    },
    {
     "name": "stderr",
     "output_type": "stream",
     "text": [
      "[I 2023-11-04 15:56:42,963] Trial 35 finished with value: 0.6759602506355792 and parameters: {'learning_rate': 0.00016240366158948598, 'num_layers': 1, 'num_units': 14}. Best is trial 32 with value: 0.6733543830991086.\n"
     ]
    },
    {
     "name": "stdout",
     "output_type": "stream",
     "text": [
      "272/272 [==============================] - 0s 2ms/step\n",
      "272/272 [==============================] - 0s 2ms/step\n",
      "272/272 [==============================] - 0s 1ms/step\n",
      "272/272 [==============================] - 0s 2ms/step\n",
      "272/272 [==============================] - 0s 2ms/step\n",
      "272/272 [==============================] - 0s 1ms/step\n",
      "272/272 [==============================] - 0s 2ms/step\n",
      "272/272 [==============================] - 0s 2ms/step\n",
      "272/272 [==============================] - 0s 1ms/step\n",
      "272/272 [==============================] - 1s 2ms/step\n"
     ]
    },
    {
     "name": "stderr",
     "output_type": "stream",
     "text": [
      "[I 2023-11-04 15:57:37,740] Trial 36 finished with value: 0.7121577788341918 and parameters: {'learning_rate': 0.00015045028235384936, 'num_layers': 1, 'num_units': 74}. Best is trial 32 with value: 0.6733543830991086.\n"
     ]
    },
    {
     "name": "stdout",
     "output_type": "stream",
     "text": [
      "272/272 [==============================] - 0s 2ms/step\n",
      "272/272 [==============================] - 0s 2ms/step\n",
      "272/272 [==============================] - 0s 1ms/step\n",
      "272/272 [==============================] - 1s 2ms/step\n",
      "272/272 [==============================] - 0s 1ms/step\n",
      "272/272 [==============================] - 1s 2ms/step\n",
      "272/272 [==============================] - 0s 2ms/step\n",
      "272/272 [==============================] - 1s 2ms/step\n",
      "272/272 [==============================] - 0s 2ms/step\n",
      "272/272 [==============================] - 0s 1ms/step\n"
     ]
    },
    {
     "name": "stderr",
     "output_type": "stream",
     "text": [
      "[I 2023-11-04 15:58:34,222] Trial 37 finished with value: 0.7112541067975626 and parameters: {'learning_rate': 0.0001900778473802868, 'num_layers': 1, 'num_units': 52}. Best is trial 32 with value: 0.6733543830991086.\n"
     ]
    },
    {
     "name": "stdout",
     "output_type": "stream",
     "text": [
      "272/272 [==============================] - 0s 2ms/step\n",
      "272/272 [==============================] - 0s 2ms/step\n",
      "272/272 [==============================] - 0s 2ms/step\n",
      "272/272 [==============================] - 0s 2ms/step\n",
      "272/272 [==============================] - 1s 2ms/step\n",
      "272/272 [==============================] - 0s 1ms/step\n",
      "272/272 [==============================] - 1s 2ms/step\n",
      "272/272 [==============================] - 0s 1ms/step\n",
      "272/272 [==============================] - 1s 2ms/step\n",
      "272/272 [==============================] - 1s 2ms/step\n"
     ]
    },
    {
     "name": "stderr",
     "output_type": "stream",
     "text": [
      "[I 2023-11-04 15:59:29,840] Trial 38 finished with value: 0.7128923243175307 and parameters: {'learning_rate': 0.00012805145819527036, 'num_layers': 1, 'num_units': 102}. Best is trial 32 with value: 0.6733543830991086.\n"
     ]
    },
    {
     "name": "stdout",
     "output_type": "stream",
     "text": [
      "272/272 [==============================] - 0s 2ms/step\n",
      "272/272 [==============================] - 0s 2ms/step\n",
      "272/272 [==============================] - 1s 2ms/step\n",
      "272/272 [==============================] - 0s 1ms/step\n",
      "272/272 [==============================] - 1s 2ms/step\n",
      "272/272 [==============================] - 0s 2ms/step\n",
      "272/272 [==============================] - 0s 1ms/step\n",
      "272/272 [==============================] - 1s 2ms/step\n",
      "272/272 [==============================] - 1s 2ms/step\n",
      "272/272 [==============================] - 0s 1ms/step\n"
     ]
    },
    {
     "name": "stderr",
     "output_type": "stream",
     "text": [
      "[I 2023-11-04 16:00:25,979] Trial 39 finished with value: 0.7054605070562198 and parameters: {'learning_rate': 0.00018871847278391214, 'num_layers': 1, 'num_units': 38}. Best is trial 32 with value: 0.6733543830991086.\n"
     ]
    },
    {
     "name": "stdout",
     "output_type": "stream",
     "text": [
      "Best trial:\n",
      "[0.6733543830991086]\n",
      "Precision score: 0.6733543830991086\n"
     ]
    }
   ],
   "source": [
    "# Optimize    \n",
    "study = optuna.create_study()\n",
    "study.optimize(objective, n_trials=40)\n",
    "\n",
    "print('Best trial:')\n",
    "trial = study.best_trial\n",
    "print(trial.values)\n",
    "print('Precision score: {}'.format(trial.value))\n"
   ]
  },
  {
   "cell_type": "markdown",
   "metadata": {},
   "source": [
    "* opt_param = {'learning_rate': 0.00018871847278391214, 'num_layers': 1, 'num_units': 38} took 1 hr to train | Precision score on val : 0.6733543830991086 \n"
   ]
  },
  {
   "cell_type": "code",
   "execution_count": 45,
   "metadata": {},
   "outputs": [
    {
     "name": "stdout",
     "output_type": "stream",
     "text": [
      "Model: \"sequential_419\"\n",
      "_________________________________________________________________\n",
      " Layer (type)                Output Shape              Param #   \n",
      "=================================================================\n",
      " dense_1156 (Dense)          (None, 38)                912       \n",
      "                                                                 \n",
      " dense_1157 (Dense)          (None, 1)                 39        \n",
      "                                                                 \n",
      "=================================================================\n",
      "Total params: 951\n",
      "Trainable params: 951\n",
      "Non-trainable params: 0\n",
      "_________________________________________________________________\n"
     ]
    }
   ],
   "source": [
    "# Building the model with best parameters\n",
    "opt_model = Sequential()\n",
    "\n",
    "opt_model.add(Dense(38, activation = 'relu', input_dim = 23))\n",
    "opt_model.add(Dense(1, activation = 'sigmoid'))\n",
    "\n",
    "optimizer = Adam(learning_rate=0.000189)\n",
    "\n",
    "opt_model.compile(loss='binary_crossentropy', \n",
    "              optimizer=optimizer,\n",
    "              metrics=[Precision(), \"accuracy\", \"Recall\", \"AUC\"])\n",
    "\n",
    "# Print model summary\n",
    "opt_model.summary()"
   ]
  },
  {
   "cell_type": "code",
   "execution_count": 46,
   "metadata": {},
   "outputs": [
    {
     "name": "stdout",
     "output_type": "stream",
     "text": [
      "Epoch 1/20\n",
      "2711/2711 [==============================] - 7s 2ms/step - loss: 0.4638 - precision_414: 0.6403 - accuracy: 0.7736 - recall: 0.5077 - auc: 0.8160\n",
      "Epoch 2/20\n",
      "2711/2711 [==============================] - 7s 2ms/step - loss: 0.4101 - precision_414: 0.7164 - accuracy: 0.8114 - recall: 0.5833 - auc: 0.8626\n",
      "Epoch 3/20\n",
      "2711/2711 [==============================] - 6s 2ms/step - loss: 0.4026 - precision_414: 0.7212 - accuracy: 0.8150 - recall: 0.5945 - auc: 0.8682\n",
      "Epoch 4/20\n",
      "2711/2711 [==============================] - 7s 2ms/step - loss: 0.3992 - precision_414: 0.7241 - accuracy: 0.8168 - recall: 0.5996 - auc: 0.8707\n",
      "Epoch 5/20\n",
      "2711/2711 [==============================] - 7s 2ms/step - loss: 0.3973 - precision_414: 0.7224 - accuracy: 0.8170 - recall: 0.6036 - auc: 0.8721\n",
      "Epoch 6/20\n",
      "2711/2711 [==============================] - 7s 2ms/step - loss: 0.3960 - precision_414: 0.7234 - accuracy: 0.8178 - recall: 0.6061 - auc: 0.8730\n",
      "Epoch 7/20\n",
      "2711/2711 [==============================] - 7s 2ms/step - loss: 0.3950 - precision_414: 0.7237 - accuracy: 0.8185 - recall: 0.6095 - auc: 0.8738\n",
      "Epoch 8/20\n",
      "2711/2711 [==============================] - 7s 2ms/step - loss: 0.3942 - precision_414: 0.7245 - accuracy: 0.8189 - recall: 0.6104 - auc: 0.8743\n",
      "Epoch 9/20\n",
      "2711/2711 [==============================] - 7s 3ms/step - loss: 0.3935 - precision_414: 0.7243 - accuracy: 0.8192 - recall: 0.6125 - auc: 0.8748\n",
      "Epoch 10/20\n",
      "2711/2711 [==============================] - 7s 3ms/step - loss: 0.3930 - precision_414: 0.7245 - accuracy: 0.8192 - recall: 0.6123 - auc: 0.8751\n",
      "Epoch 11/20\n",
      "2711/2711 [==============================] - 7s 3ms/step - loss: 0.3925 - precision_414: 0.7256 - accuracy: 0.8198 - recall: 0.6131 - auc: 0.8755\n",
      "Epoch 12/20\n",
      "2711/2711 [==============================] - 7s 3ms/step - loss: 0.3921 - precision_414: 0.7262 - accuracy: 0.8205 - recall: 0.6160 - auc: 0.8758\n",
      "Epoch 13/20\n",
      "2711/2711 [==============================] - 8s 3ms/step - loss: 0.3918 - precision_414: 0.7267 - accuracy: 0.8204 - recall: 0.6146 - auc: 0.8760\n",
      "Epoch 14/20\n",
      "2711/2711 [==============================] - 7s 3ms/step - loss: 0.3915 - precision_414: 0.7259 - accuracy: 0.8202 - recall: 0.6150 - auc: 0.8762\n",
      "Epoch 15/20\n",
      "2711/2711 [==============================] - 8s 3ms/step - loss: 0.3911 - precision_414: 0.7261 - accuracy: 0.8205 - recall: 0.6161 - auc: 0.8765\n",
      "Epoch 16/20\n",
      "2711/2711 [==============================] - 8s 3ms/step - loss: 0.3908 - precision_414: 0.7273 - accuracy: 0.8211 - recall: 0.6170 - auc: 0.8767\n",
      "Epoch 17/20\n",
      "2711/2711 [==============================] - 8s 3ms/step - loss: 0.3904 - precision_414: 0.7286 - accuracy: 0.8213 - recall: 0.6157 - auc: 0.8770\n",
      "Epoch 18/20\n",
      "2711/2711 [==============================] - 8s 3ms/step - loss: 0.3903 - precision_414: 0.7285 - accuracy: 0.8214 - recall: 0.6165 - auc: 0.8770\n",
      "Epoch 19/20\n",
      "2711/2711 [==============================] - 8s 3ms/step - loss: 0.3901 - precision_414: 0.7284 - accuracy: 0.8212 - recall: 0.6157 - auc: 0.8772\n",
      "Epoch 20/20\n",
      "2711/2711 [==============================] - 7s 3ms/step - loss: 0.3898 - precision_414: 0.7291 - accuracy: 0.8213 - recall: 0.6146 - auc: 0.8774\n"
     ]
    },
    {
     "data": {
      "text/plain": [
       "<keras.callbacks.History at 0x1c394f47d30>"
      ]
     },
     "execution_count": 46,
     "metadata": {},
     "output_type": "execute_result"
    }
   ],
   "source": [
    "# Train model \n",
    "opt_model.fit(X,y, epochs=20)"
   ]
  },
  {
   "cell_type": "code",
   "execution_count": 48,
   "metadata": {},
   "outputs": [
    {
     "name": "stdout",
     "output_type": "stream",
     "text": [
      "1563/1563 [==============================] - 3s 2ms/step - loss: 9.8564 - precision_414: 0.5419 - accuracy: 0.6833 - recall: 0.4904 - auc: 0.6528\n"
     ]
    },
    {
     "data": {
      "text/plain": [
       "[9.85641098022461,\n",
       " 0.5418897271156311,\n",
       " 0.6833199858665466,\n",
       " 0.490398645401001,\n",
       " 0.6527560353279114]"
      ]
     },
     "execution_count": 48,
     "metadata": {},
     "output_type": "execute_result"
    }
   ],
   "source": [
    "opt_model.evaluate(data_test.drop('Label', axis=1), data_test['Label'].replace({'s':1, 'b':0}))"
   ]
  },
  {
   "cell_type": "code",
   "execution_count": 60,
   "metadata": {},
   "outputs": [
    {
     "name": "stdout",
     "output_type": "stream",
     "text": [
      "1563/1563 [==============================] - 4s 3ms/step - loss: 9.8564 - precision_414: 0.5419 - accuracy: 0.6833 - recall: 0.4904 - auc: 0.6528\n"
     ]
    }
   ],
   "source": [
    "loss, precision, accuracy, recall, auc = opt_model.evaluate(data_test.drop('Label', axis=1), data_test['Label'].replace({'s':1, 'b':0}))"
   ]
  },
  {
   "cell_type": "code",
   "execution_count": 67,
   "metadata": {},
   "outputs": [
    {
     "name": "stdout",
     "output_type": "stream",
     "text": [
      "1563/1563 [==============================] - 2s 1ms/step\n"
     ]
    }
   ],
   "source": [
    "from sklearn.metrics import classification_report\n",
    "classification_report = classification_report(data_test['Label'].replace({'s':1, 'b':0}), opt_model.predict(data_test.drop('Label', axis=1)).round())"
   ]
  },
  {
   "cell_type": "code",
   "execution_count": 69,
   "metadata": {},
   "outputs": [
    {
     "name": "stdout",
     "output_type": "stream",
     "text": [
      "              precision    recall  f1-score   support\n",
      "\n",
      "           0       0.75      0.78      0.76     32867\n",
      "           1       0.54      0.49      0.51     17133\n",
      "\n",
      "    accuracy                           0.68     50000\n",
      "   macro avg       0.64      0.64      0.64     50000\n",
      "weighted avg       0.68      0.68      0.68     50000\n",
      "\n"
     ]
    }
   ],
   "source": [
    "print(classification_report)"
   ]
  },
  {
   "cell_type": "markdown",
   "metadata": {},
   "source": [
    "---"
   ]
  },
  {
   "cell_type": "code",
   "execution_count": 50,
   "metadata": {},
   "outputs": [],
   "source": [
    "import joblib\n",
    "import pickle"
   ]
  },
  {
   "cell_type": "code",
   "execution_count": 52,
   "metadata": {},
   "outputs": [],
   "source": [
    "# joblib.dump(opt_model, '../model/tunned_model_joblib.joblib')\n",
    "# pickle.dump(opt_model, open('../model/tunned_model_pkl.pkl', 'wb'))\n",
    "# Can't save keras model with joblib or pickle \n",
    "\n",
    "opt_model.save('../model/tunned_model_h5.h5')"
   ]
  },
  {
   "cell_type": "code",
   "execution_count": 59,
   "metadata": {},
   "outputs": [
    {
     "name": "stdout",
     "output_type": "stream",
     "text": [
      "1563/1563 [==============================] - 2s 1ms/step\n"
     ]
    },
    {
     "data": {
      "text/plain": [
       "0.5418897129958078"
      ]
     },
     "execution_count": 59,
     "metadata": {},
     "output_type": "execute_result"
    }
   ],
   "source": [
    "import keras\n",
    "mod = keras.models.load_model('../model/tunned_model_h5.h5')\n",
    "y_pred = mod.predict(data_test.drop('Label', axis=1))\n",
    "precision_score(data_test['Label'].replace({'s':1, 'b':0}), y_pred.round())"
   ]
  },
  {
   "cell_type": "markdown",
   "metadata": {},
   "source": [
    "### This the best model we got so far...\n",
    "\n",
    "* We can train model for more epochs to get better results...\n",
    "* We can go for ML models like XGBoost, etc\n",
    "* More tunning can be done using keras tunner.\n"
   ]
  },
  {
   "cell_type": "markdown",
   "metadata": {},
   "source": [
    "---"
   ]
  },
  {
   "cell_type": "markdown",
   "metadata": {},
   "source": [
    "## We'll also try pycaret AutoML for better results..."
   ]
  },
  {
   "cell_type": "markdown",
   "metadata": {},
   "source": [
    "[Pycaret Docs](https://pycaret.gitbook.io/docs/get-started/functions/optimize)"
   ]
  },
  {
   "cell_type": "code",
   "execution_count": 64,
   "metadata": {},
   "outputs": [
    {
     "name": "stdout",
     "output_type": "stream",
     "text": [
      "Requirement already satisfied: scikit-learn in p:\\anaconda\\envs\\jupy\\lib\\site-packages (1.2.2)"
     ]
    },
    {
     "name": "stderr",
     "output_type": "stream",
     "text": [
      "ERROR: Could not install packages due to an OSError: [WinError 5] Access is denied: 'C:\\\\Users\\\\maxxk\\\\AppData\\\\Roaming\\\\Python\\\\Python310\\\\site-packages\\\\~cipy.libs\\\\libopenblas-802f9ed1179cb9c9b03d67ff79f48187.dll'\n",
      "Consider using the `--user` option or check the permissions.\n",
      "\n"
     ]
    },
    {
     "name": "stdout",
     "output_type": "stream",
     "text": [
      "\n",
      "Collecting scikit-learn\n",
      "  Obtaining dependency information for scikit-learn from https://files.pythonhosted.org/packages/69/8a/cf17d6443f5f537e099be81535a56ab68a473f9393fbffda38cd19899fc8/scikit_learn-1.3.2-cp310-cp310-win_amd64.whl.metadata\n",
      "  Downloading scikit_learn-1.3.2-cp310-cp310-win_amd64.whl.metadata (11 kB)\n",
      "Requirement already satisfied: scipy in c:\\users\\maxxk\\appdata\\roaming\\python\\python310\\site-packages (1.10.1)\n",
      "Collecting scipy\n",
      "  Obtaining dependency information for scipy from https://files.pythonhosted.org/packages/3a/98/3041681b3a0fef0f59033861a05d846aa1d284b07b531ce35b1b97cc2e93/scipy-1.11.3-cp310-cp310-win_amd64.whl.metadata\n",
      "  Downloading scipy-1.11.3-cp310-cp310-win_amd64.whl.metadata (60 kB)\n",
      "     ---------------------------------------- 0.0/60.4 kB ? eta -:--:--\n",
      "     ---------------------------------------- 60.4/60.4 kB 3.1 MB/s eta 0:00:00\n",
      "Requirement already satisfied: matplotlib in c:\\users\\maxxk\\appdata\\roaming\\python\\python310\\site-packages (3.7.3)\n",
      "Collecting matplotlib\n",
      "  Obtaining dependency information for matplotlib from https://files.pythonhosted.org/packages/96/96/117ba44070780fea0874279e5bf84816d2b62c3b151b6fcfc738022f55f4/matplotlib-3.8.1-cp310-cp310-win_amd64.whl.metadata\n",
      "  Downloading matplotlib-3.8.1-cp310-cp310-win_amd64.whl.metadata (5.9 kB)\n",
      "Requirement already satisfied: numpy<2.0,>=1.17.3 in p:\\anaconda\\envs\\jupy\\lib\\site-packages (from scikit-learn) (1.23.5)\n",
      "Requirement already satisfied: joblib>=1.1.1 in c:\\users\\maxxk\\appdata\\roaming\\python\\python310\\site-packages (from scikit-learn) (1.3.2)\n",
      "Requirement already satisfied: threadpoolctl>=2.0.0 in c:\\users\\maxxk\\appdata\\roaming\\python\\python310\\site-packages (from scikit-learn) (3.2.0)\n",
      "Requirement already satisfied: contourpy>=1.0.1 in c:\\users\\maxxk\\appdata\\roaming\\python\\python310\\site-packages (from matplotlib) (1.1.0)\n",
      "Requirement already satisfied: cycler>=0.10 in c:\\users\\maxxk\\appdata\\roaming\\python\\python310\\site-packages (from matplotlib) (0.11.0)\n",
      "Requirement already satisfied: fonttools>=4.22.0 in c:\\users\\maxxk\\appdata\\roaming\\python\\python310\\site-packages (from matplotlib) (4.42.1)\n",
      "Requirement already satisfied: kiwisolver>=1.3.1 in c:\\users\\maxxk\\appdata\\roaming\\python\\python310\\site-packages (from matplotlib) (1.4.5)\n",
      "Requirement already satisfied: packaging>=20.0 in c:\\users\\maxxk\\appdata\\roaming\\python\\python310\\site-packages (from matplotlib) (23.1)\n",
      "Requirement already satisfied: pillow>=8 in c:\\users\\maxxk\\appdata\\roaming\\python\\python310\\site-packages (from matplotlib) (9.5.0)\n",
      "Requirement already satisfied: pyparsing>=2.3.1 in c:\\users\\maxxk\\appdata\\roaming\\python\\python310\\site-packages (from matplotlib) (3.1.1)\n",
      "Requirement already satisfied: python-dateutil>=2.7 in c:\\users\\maxxk\\appdata\\roaming\\python\\python310\\site-packages (from matplotlib) (2.8.2)\n",
      "Requirement already satisfied: six>=1.5 in c:\\users\\maxxk\\appdata\\roaming\\python\\python310\\site-packages (from python-dateutil>=2.7->matplotlib) (1.16.0)\n",
      "Downloading scikit_learn-1.3.2-cp310-cp310-win_amd64.whl (9.3 MB)\n",
      "   ---------------------------------------- 0.0/9.3 MB ? eta -:--:--\n",
      "   - -------------------------------------- 0.2/9.3 MB 7.6 MB/s eta 0:00:02\n",
      "   -- ------------------------------------- 0.5/9.3 MB 6.7 MB/s eta 0:00:02\n",
      "   --- ------------------------------------ 0.8/9.3 MB 6.3 MB/s eta 0:00:02\n",
      "   ---- ----------------------------------- 1.1/9.3 MB 6.3 MB/s eta 0:00:02\n",
      "   ----- ---------------------------------- 1.4/9.3 MB 6.1 MB/s eta 0:00:02\n",
      "   ------ --------------------------------- 1.5/9.3 MB 5.5 MB/s eta 0:00:02\n",
      "   -------- ------------------------------- 1.9/9.3 MB 5.8 MB/s eta 0:00:02\n",
      "   --------- ------------------------------ 2.1/9.3 MB 5.6 MB/s eta 0:00:02\n",
      "   ---------- ----------------------------- 2.4/9.3 MB 5.8 MB/s eta 0:00:02\n",
      "   ----------- ---------------------------- 2.6/9.3 MB 5.7 MB/s eta 0:00:02\n",
      "   ------------ --------------------------- 2.9/9.3 MB 5.8 MB/s eta 0:00:02\n",
      "   ------------- -------------------------- 3.2/9.3 MB 5.8 MB/s eta 0:00:02\n",
      "   -------------- ------------------------- 3.3/9.3 MB 5.7 MB/s eta 0:00:02\n",
      "   --------------- ------------------------ 3.7/9.3 MB 5.7 MB/s eta 0:00:01\n",
      "   ---------------- ----------------------- 3.9/9.3 MB 5.7 MB/s eta 0:00:01\n",
      "   ----------------- ---------------------- 4.1/9.3 MB 5.7 MB/s eta 0:00:01\n",
      "   ------------------ --------------------- 4.4/9.3 MB 5.7 MB/s eta 0:00:01\n",
      "   ------------------- -------------------- 4.6/9.3 MB 5.6 MB/s eta 0:00:01\n",
      "   --------------------- ------------------ 4.9/9.3 MB 5.7 MB/s eta 0:00:01\n",
      "   --------------------- ------------------ 5.1/9.3 MB 5.7 MB/s eta 0:00:01\n",
      "   ---------------------- ----------------- 5.3/9.3 MB 5.6 MB/s eta 0:00:01\n",
      "   ----------------------- ---------------- 5.4/9.3 MB 5.6 MB/s eta 0:00:01\n",
      "   ------------------------ --------------- 5.7/9.3 MB 5.4 MB/s eta 0:00:01\n",
      "   ------------------------- -------------- 5.9/9.3 MB 5.5 MB/s eta 0:00:01\n",
      "   -------------------------- ------------- 6.2/9.3 MB 5.5 MB/s eta 0:00:01\n",
      "   --------------------------- ------------ 6.5/9.3 MB 5.5 MB/s eta 0:00:01\n",
      "   ---------------------------- ----------- 6.7/9.3 MB 5.5 MB/s eta 0:00:01\n",
      "   ----------------------------- ---------- 6.9/9.3 MB 5.5 MB/s eta 0:00:01\n",
      "   ------------------------------ --------- 7.1/9.3 MB 5.4 MB/s eta 0:00:01\n",
      "   ------------------------------- -------- 7.4/9.3 MB 5.4 MB/s eta 0:00:01\n",
      "   -------------------------------- ------- 7.6/9.3 MB 5.4 MB/s eta 0:00:01\n",
      "   --------------------------------- ------ 7.8/9.3 MB 5.4 MB/s eta 0:00:01\n",
      "   ---------------------------------- ----- 8.0/9.3 MB 5.4 MB/s eta 0:00:01\n",
      "   ----------------------------------- ---- 8.2/9.3 MB 5.4 MB/s eta 0:00:01\n",
      "   ------------------------------------ --- 8.5/9.3 MB 5.4 MB/s eta 0:00:01\n",
      "   ------------------------------------- -- 8.7/9.3 MB 5.3 MB/s eta 0:00:01\n",
      "   -------------------------------------- - 8.9/9.3 MB 5.3 MB/s eta 0:00:01\n",
      "   ---------------------------------------  9.1/9.3 MB 5.4 MB/s eta 0:00:01\n",
      "   ---------------------------------------  9.2/9.3 MB 5.3 MB/s eta 0:00:01\n",
      "   ---------------------------------------- 9.3/9.3 MB 5.1 MB/s eta 0:00:00\n",
      "Downloading scipy-1.11.3-cp310-cp310-win_amd64.whl (44.1 MB)\n",
      "   ---------------------------------------- 0.0/44.1 MB ? eta -:--:--\n",
      "   ---------------------------------------- 0.3/44.1 MB 6.3 MB/s eta 0:00:07\n",
      "    --------------------------------------- 0.6/44.1 MB 6.2 MB/s eta 0:00:08\n",
      "    --------------------------------------- 0.8/44.1 MB 6.2 MB/s eta 0:00:07\n",
      "    --------------------------------------- 1.0/44.1 MB 5.8 MB/s eta 0:00:08\n",
      "   - -------------------------------------- 1.3/44.1 MB 5.9 MB/s eta 0:00:08\n",
      "   - -------------------------------------- 1.6/44.1 MB 6.0 MB/s eta 0:00:08\n",
      "   - -------------------------------------- 1.9/44.1 MB 5.7 MB/s eta 0:00:08\n",
      "   - -------------------------------------- 2.2/44.1 MB 6.0 MB/s eta 0:00:08\n",
      "   -- ------------------------------------- 2.4/44.1 MB 6.0 MB/s eta 0:00:07\n",
      "   -- ------------------------------------- 2.7/44.1 MB 5.7 MB/s eta 0:00:08\n",
      "   -- ------------------------------------- 2.9/44.1 MB 5.6 MB/s eta 0:00:08\n",
      "   -- ------------------------------------- 3.1/44.1 MB 5.6 MB/s eta 0:00:08\n",
      "   --- ------------------------------------ 3.4/44.1 MB 5.6 MB/s eta 0:00:08\n",
      "   --- ------------------------------------ 3.6/44.1 MB 5.6 MB/s eta 0:00:08\n",
      "   --- ------------------------------------ 3.9/44.1 MB 5.7 MB/s eta 0:00:08\n",
      "   --- ------------------------------------ 4.1/44.1 MB 5.6 MB/s eta 0:00:08\n",
      "   --- ------------------------------------ 4.4/44.1 MB 5.6 MB/s eta 0:00:08\n",
      "   ---- ----------------------------------- 4.7/44.1 MB 5.5 MB/s eta 0:00:08\n",
      "   ---- ----------------------------------- 4.9/44.1 MB 5.5 MB/s eta 0:00:08\n",
      "   ---- ----------------------------------- 5.2/44.1 MB 5.5 MB/s eta 0:00:08\n",
      "   ---- ----------------------------------- 5.4/44.1 MB 5.4 MB/s eta 0:00:08\n",
      "   ----- ---------------------------------- 5.7/44.1 MB 5.4 MB/s eta 0:00:08\n",
      "   ----- ---------------------------------- 5.9/44.1 MB 5.4 MB/s eta 0:00:08\n",
      "   ----- ---------------------------------- 6.2/44.1 MB 5.4 MB/s eta 0:00:08\n",
      "   ----- ---------------------------------- 6.4/44.1 MB 5.4 MB/s eta 0:00:08\n",
      "   ----- ---------------------------------- 6.5/44.1 MB 5.3 MB/s eta 0:00:08\n",
      "   ------ --------------------------------- 6.8/44.1 MB 5.3 MB/s eta 0:00:08\n",
      "   ------ --------------------------------- 7.0/44.1 MB 5.3 MB/s eta 0:00:07\n",
      "   ------ --------------------------------- 7.2/44.1 MB 5.3 MB/s eta 0:00:07\n",
      "   ------ --------------------------------- 7.4/44.1 MB 5.3 MB/s eta 0:00:07\n",
      "   ------ --------------------------------- 7.7/44.1 MB 5.3 MB/s eta 0:00:07\n",
      "   ------- -------------------------------- 8.0/44.1 MB 5.3 MB/s eta 0:00:07\n",
      "   ------- -------------------------------- 8.2/44.1 MB 5.3 MB/s eta 0:00:07\n",
      "   ------- -------------------------------- 8.4/44.1 MB 5.3 MB/s eta 0:00:07\n",
      "   ------- -------------------------------- 8.6/44.1 MB 5.3 MB/s eta 0:00:07\n",
      "   -------- ------------------------------- 8.9/44.1 MB 5.3 MB/s eta 0:00:07\n",
      "   -------- ------------------------------- 9.2/44.1 MB 5.3 MB/s eta 0:00:07\n",
      "   -------- ------------------------------- 9.4/44.1 MB 5.3 MB/s eta 0:00:07\n",
      "   -------- ------------------------------- 9.7/44.1 MB 5.3 MB/s eta 0:00:07\n",
      "   -------- ------------------------------- 9.9/44.1 MB 5.2 MB/s eta 0:00:07\n",
      "   --------- ------------------------------ 10.2/44.1 MB 5.2 MB/s eta 0:00:07\n",
      "   --------- ------------------------------ 10.4/44.1 MB 5.3 MB/s eta 0:00:07\n",
      "   --------- ------------------------------ 10.6/44.1 MB 5.2 MB/s eta 0:00:07\n",
      "   --------- ------------------------------ 10.9/44.1 MB 5.2 MB/s eta 0:00:07\n",
      "   ---------- ----------------------------- 11.0/44.1 MB 5.2 MB/s eta 0:00:07\n",
      "   ---------- ----------------------------- 11.3/44.1 MB 5.2 MB/s eta 0:00:07\n",
      "   ---------- ----------------------------- 11.5/44.1 MB 5.1 MB/s eta 0:00:07\n",
      "   ---------- ----------------------------- 11.8/44.1 MB 5.2 MB/s eta 0:00:07\n",
      "   ---------- ----------------------------- 12.0/44.1 MB 5.1 MB/s eta 0:00:07\n",
      "   ----------- ---------------------------- 12.3/44.1 MB 5.1 MB/s eta 0:00:07\n",
      "   ----------- ---------------------------- 12.5/44.1 MB 5.1 MB/s eta 0:00:07\n",
      "   ----------- ---------------------------- 12.8/44.1 MB 5.1 MB/s eta 0:00:07\n",
      "   ----------- ---------------------------- 13.0/44.1 MB 5.1 MB/s eta 0:00:07\n",
      "   ----------- ---------------------------- 13.2/44.1 MB 5.1 MB/s eta 0:00:07\n",
      "   ------------ --------------------------- 13.5/44.1 MB 5.1 MB/s eta 0:00:06\n",
      "   ------------ --------------------------- 13.7/44.1 MB 5.1 MB/s eta 0:00:06\n",
      "   ------------ --------------------------- 14.0/44.1 MB 5.1 MB/s eta 0:00:06\n",
      "   ------------ --------------------------- 14.1/44.1 MB 5.1 MB/s eta 0:00:06\n",
      "   ------------- -------------------------- 14.4/44.1 MB 5.1 MB/s eta 0:00:06\n",
      "   ------------- -------------------------- 14.6/44.1 MB 5.1 MB/s eta 0:00:06\n",
      "   ------------- -------------------------- 14.8/44.1 MB 5.1 MB/s eta 0:00:06\n",
      "   ------------- -------------------------- 15.1/44.1 MB 5.1 MB/s eta 0:00:06\n",
      "   ------------- -------------------------- 15.3/44.1 MB 5.1 MB/s eta 0:00:06\n",
      "   -------------- ------------------------- 15.5/44.1 MB 5.1 MB/s eta 0:00:06\n",
      "   -------------- ------------------------- 15.7/44.1 MB 5.1 MB/s eta 0:00:06\n",
      "   -------------- ------------------------- 15.9/44.1 MB 5.0 MB/s eta 0:00:06\n",
      "   -------------- ------------------------- 16.1/44.1 MB 5.1 MB/s eta 0:00:06\n",
      "   -------------- ------------------------- 16.3/44.1 MB 5.0 MB/s eta 0:00:06\n",
      "   --------------- ------------------------ 16.6/44.1 MB 5.1 MB/s eta 0:00:06\n",
      "   --------------- ------------------------ 16.8/44.1 MB 5.1 MB/s eta 0:00:06\n",
      "   --------------- ------------------------ 17.0/44.1 MB 5.1 MB/s eta 0:00:06\n",
      "   --------------- ------------------------ 17.2/44.1 MB 5.1 MB/s eta 0:00:06\n",
      "   --------------- ------------------------ 17.4/44.1 MB 5.0 MB/s eta 0:00:06\n",
      "   ---------------- ----------------------- 17.7/44.1 MB 5.1 MB/s eta 0:00:06\n",
      "   ---------------- ----------------------- 17.9/44.1 MB 5.1 MB/s eta 0:00:06\n",
      "   ---------------- ----------------------- 18.1/44.1 MB 5.1 MB/s eta 0:00:06\n",
      "   ---------------- ----------------------- 18.3/44.1 MB 5.1 MB/s eta 0:00:06\n",
      "   ---------------- ----------------------- 18.5/44.1 MB 5.1 MB/s eta 0:00:06\n",
      "   ----------------- ---------------------- 18.8/44.1 MB 5.0 MB/s eta 0:00:06\n",
      "   ----------------- ---------------------- 19.1/44.1 MB 5.1 MB/s eta 0:00:05\n",
      "   ----------------- ---------------------- 19.4/44.1 MB 5.1 MB/s eta 0:00:05\n",
      "   ----------------- ---------------------- 19.6/44.1 MB 5.1 MB/s eta 0:00:05\n",
      "   ------------------ --------------------- 19.9/44.1 MB 5.1 MB/s eta 0:00:05\n",
      "   ------------------ --------------------- 20.1/44.1 MB 5.1 MB/s eta 0:00:05\n",
      "   ------------------ --------------------- 20.3/44.1 MB 5.1 MB/s eta 0:00:05\n",
      "   ------------------ --------------------- 20.5/44.1 MB 5.0 MB/s eta 0:00:05\n",
      "   ------------------ --------------------- 20.7/44.1 MB 5.0 MB/s eta 0:00:05\n",
      "   ------------------ --------------------- 21.0/44.1 MB 5.1 MB/s eta 0:00:05\n",
      "   ------------------- -------------------- 21.2/44.1 MB 5.1 MB/s eta 0:00:05\n",
      "   ------------------- -------------------- 21.4/44.1 MB 5.0 MB/s eta 0:00:05\n",
      "   ------------------- -------------------- 21.6/44.1 MB 5.1 MB/s eta 0:00:05\n",
      "   ------------------- -------------------- 21.8/44.1 MB 5.0 MB/s eta 0:00:05\n",
      "   ------------------- -------------------- 22.0/44.1 MB 5.1 MB/s eta 0:00:05\n",
      "   -------------------- ------------------- 22.3/44.1 MB 5.1 MB/s eta 0:00:05\n",
      "   -------------------- ------------------- 22.5/44.1 MB 5.1 MB/s eta 0:00:05\n",
      "   -------------------- ------------------- 22.8/44.1 MB 5.1 MB/s eta 0:00:05\n",
      "   -------------------- ------------------- 23.0/44.1 MB 5.1 MB/s eta 0:00:05\n",
      "   --------------------- ------------------ 23.2/44.1 MB 5.1 MB/s eta 0:00:05\n",
      "   --------------------- ------------------ 23.4/44.1 MB 5.0 MB/s eta 0:00:05\n",
      "   --------------------- ------------------ 23.7/44.1 MB 5.1 MB/s eta 0:00:05\n",
      "   --------------------- ------------------ 23.8/44.1 MB 5.1 MB/s eta 0:00:05\n",
      "   --------------------- ------------------ 24.1/44.1 MB 5.0 MB/s eta 0:00:04\n",
      "   ---------------------- ----------------- 24.4/44.1 MB 5.1 MB/s eta 0:00:04\n",
      "   ---------------------- ----------------- 24.6/44.1 MB 5.1 MB/s eta 0:00:04\n",
      "   ---------------------- ----------------- 24.9/44.1 MB 5.1 MB/s eta 0:00:04\n",
      "   ---------------------- ----------------- 25.0/44.1 MB 5.1 MB/s eta 0:00:04\n",
      "   ---------------------- ----------------- 25.3/44.1 MB 5.1 MB/s eta 0:00:04\n",
      "   ----------------------- ---------------- 25.5/44.1 MB 5.1 MB/s eta 0:00:04\n",
      "   ----------------------- ---------------- 25.8/44.1 MB 5.0 MB/s eta 0:00:04\n",
      "   ----------------------- ---------------- 26.0/44.1 MB 5.1 MB/s eta 0:00:04\n",
      "   ----------------------- ---------------- 26.3/44.1 MB 5.1 MB/s eta 0:00:04\n",
      "   ------------------------ --------------- 26.5/44.1 MB 5.1 MB/s eta 0:00:04\n",
      "   ------------------------ --------------- 26.7/44.1 MB 5.0 MB/s eta 0:00:04\n",
      "   ------------------------ --------------- 26.9/44.1 MB 5.1 MB/s eta 0:00:04\n",
      "   ------------------------ --------------- 27.2/44.1 MB 5.0 MB/s eta 0:00:04\n",
      "   ------------------------ --------------- 27.4/44.1 MB 5.1 MB/s eta 0:00:04\n",
      "   ------------------------- -------------- 27.7/44.1 MB 5.1 MB/s eta 0:00:04\n",
      "   ------------------------- -------------- 27.9/44.1 MB 5.0 MB/s eta 0:00:04\n",
      "   ------------------------- -------------- 28.2/44.1 MB 5.0 MB/s eta 0:00:04\n",
      "   ------------------------- -------------- 28.4/44.1 MB 5.1 MB/s eta 0:00:04\n",
      "   ------------------------- -------------- 28.6/44.1 MB 5.1 MB/s eta 0:00:04\n",
      "   -------------------------- ------------- 28.8/44.1 MB 5.1 MB/s eta 0:00:04\n",
      "   -------------------------- ------------- 29.0/44.1 MB 5.1 MB/s eta 0:00:03\n",
      "   -------------------------- ------------- 29.3/44.1 MB 5.0 MB/s eta 0:00:03\n",
      "   -------------------------- ------------- 29.5/44.1 MB 5.1 MB/s eta 0:00:03\n",
      "   -------------------------- ------------- 29.7/44.1 MB 5.1 MB/s eta 0:00:03\n",
      "   --------------------------- ------------ 29.9/44.1 MB 5.0 MB/s eta 0:00:03\n",
      "   --------------------------- ------------ 30.1/44.1 MB 5.1 MB/s eta 0:00:03\n",
      "   --------------------------- ------------ 30.3/44.1 MB 5.1 MB/s eta 0:00:03\n",
      "   --------------------------- ------------ 30.6/44.1 MB 5.1 MB/s eta 0:00:03\n",
      "   --------------------------- ------------ 30.8/44.1 MB 5.1 MB/s eta 0:00:03\n",
      "   ---------------------------- ----------- 31.0/44.1 MB 5.0 MB/s eta 0:00:03\n",
      "   ---------------------------- ----------- 31.2/44.1 MB 5.1 MB/s eta 0:00:03\n",
      "   ---------------------------- ----------- 31.4/44.1 MB 5.1 MB/s eta 0:00:03\n",
      "   ---------------------------- ----------- 31.6/44.1 MB 5.1 MB/s eta 0:00:03\n",
      "   ---------------------------- ----------- 31.9/44.1 MB 5.1 MB/s eta 0:00:03\n",
      "   ----------------------------- ---------- 32.1/44.1 MB 5.0 MB/s eta 0:00:03\n",
      "   ----------------------------- ---------- 32.3/44.1 MB 5.1 MB/s eta 0:00:03\n",
      "   ----------------------------- ---------- 32.5/44.1 MB 5.1 MB/s eta 0:00:03\n",
      "   ----------------------------- ---------- 32.8/44.1 MB 5.0 MB/s eta 0:00:03\n",
      "   ----------------------------- ---------- 33.0/44.1 MB 5.1 MB/s eta 0:00:03\n",
      "   ------------------------------ --------- 33.2/44.1 MB 5.0 MB/s eta 0:00:03\n",
      "   ------------------------------ --------- 33.4/44.1 MB 5.1 MB/s eta 0:00:03\n",
      "   ------------------------------ --------- 33.7/44.1 MB 5.0 MB/s eta 0:00:03\n",
      "   ------------------------------ --------- 33.9/44.1 MB 5.1 MB/s eta 0:00:03\n",
      "   ------------------------------ --------- 34.2/44.1 MB 5.1 MB/s eta 0:00:02\n",
      "   ------------------------------- -------- 34.4/44.1 MB 5.1 MB/s eta 0:00:02\n",
      "   ------------------------------- -------- 34.7/44.1 MB 5.0 MB/s eta 0:00:02\n",
      "   ------------------------------- -------- 34.9/44.1 MB 5.0 MB/s eta 0:00:02\n",
      "   ------------------------------- -------- 35.2/44.1 MB 5.0 MB/s eta 0:00:02\n",
      "   -------------------------------- ------- 35.5/44.1 MB 5.0 MB/s eta 0:00:02\n",
      "   -------------------------------- ------- 35.7/44.1 MB 5.0 MB/s eta 0:00:02\n",
      "   -------------------------------- ------- 35.9/44.1 MB 5.0 MB/s eta 0:00:02\n",
      "   -------------------------------- ------- 36.1/44.1 MB 5.1 MB/s eta 0:00:02\n",
      "   -------------------------------- ------- 36.4/44.1 MB 5.0 MB/s eta 0:00:02\n",
      "   --------------------------------- ------ 36.6/44.1 MB 5.1 MB/s eta 0:00:02\n",
      "   --------------------------------- ------ 36.9/44.1 MB 5.0 MB/s eta 0:00:02\n",
      "   --------------------------------- ------ 37.1/44.1 MB 5.1 MB/s eta 0:00:02\n",
      "   --------------------------------- ------ 37.4/44.1 MB 5.0 MB/s eta 0:00:02\n",
      "   ---------------------------------- ----- 37.6/44.1 MB 5.0 MB/s eta 0:00:02\n",
      "   ---------------------------------- ----- 37.9/44.1 MB 5.1 MB/s eta 0:00:02\n",
      "   ---------------------------------- ----- 38.1/44.1 MB 5.0 MB/s eta 0:00:02\n",
      "   ---------------------------------- ----- 38.3/44.1 MB 5.1 MB/s eta 0:00:02\n",
      "   ---------------------------------- ----- 38.5/44.1 MB 5.1 MB/s eta 0:00:02\n",
      "   ----------------------------------- ---- 38.8/44.1 MB 5.1 MB/s eta 0:00:02\n",
      "   ----------------------------------- ---- 39.0/44.1 MB 5.1 MB/s eta 0:00:02\n",
      "   ----------------------------------- ---- 39.3/44.1 MB 5.1 MB/s eta 0:00:01\n",
      "   ----------------------------------- ---- 39.6/44.1 MB 5.0 MB/s eta 0:00:01\n",
      "   ----------------------------------- ---- 39.7/44.1 MB 5.0 MB/s eta 0:00:01\n",
      "   ------------------------------------ --- 39.8/44.1 MB 4.9 MB/s eta 0:00:01\n",
      "   ------------------------------------ --- 39.8/44.1 MB 4.9 MB/s eta 0:00:01\n",
      "   ------------------------------------ --- 39.9/44.1 MB 4.7 MB/s eta 0:00:01\n",
      "   ------------------------------------ --- 40.0/44.1 MB 4.7 MB/s eta 0:00:01\n",
      "   ------------------------------------ --- 40.3/44.1 MB 4.7 MB/s eta 0:00:01\n",
      "   ------------------------------------ --- 40.5/44.1 MB 4.7 MB/s eta 0:00:01\n",
      "   ------------------------------------ --- 40.7/44.1 MB 4.7 MB/s eta 0:00:01\n",
      "   ------------------------------------- -- 41.0/44.1 MB 4.7 MB/s eta 0:00:01\n",
      "   ------------------------------------- -- 41.3/44.1 MB 4.7 MB/s eta 0:00:01\n",
      "   ------------------------------------- -- 41.5/44.1 MB 4.7 MB/s eta 0:00:01\n",
      "   ------------------------------------- -- 41.8/44.1 MB 4.7 MB/s eta 0:00:01\n",
      "   -------------------------------------- - 42.1/44.1 MB 4.7 MB/s eta 0:00:01\n",
      "   -------------------------------------- - 42.4/44.1 MB 4.7 MB/s eta 0:00:01\n",
      "   -------------------------------------- - 42.6/44.1 MB 4.8 MB/s eta 0:00:01\n",
      "   -------------------------------------- - 42.9/44.1 MB 4.8 MB/s eta 0:00:01\n",
      "   ---------------------------------------  43.2/44.1 MB 4.7 MB/s eta 0:00:01\n",
      "   ---------------------------------------  43.3/44.1 MB 4.8 MB/s eta 0:00:01\n",
      "   ---------------------------------------  43.7/44.1 MB 4.8 MB/s eta 0:00:01\n",
      "   ---------------------------------------  43.9/44.1 MB 4.8 MB/s eta 0:00:01\n",
      "   ---------------------------------------  44.1/44.1 MB 4.8 MB/s eta 0:00:01\n",
      "   ---------------------------------------  44.1/44.1 MB 4.8 MB/s eta 0:00:01\n",
      "   ---------------------------------------  44.1/44.1 MB 4.8 MB/s eta 0:00:01\n",
      "   ---------------------------------------- 44.1/44.1 MB 4.4 MB/s eta 0:00:00\n",
      "Downloading matplotlib-3.8.1-cp310-cp310-win_amd64.whl (7.6 MB)\n",
      "   ---------------------------------------- 0.0/7.6 MB ? eta -:--:--\n",
      "   - -------------------------------------- 0.3/7.6 MB 9.6 MB/s eta 0:00:01\n",
      "   -- ------------------------------------- 0.5/7.6 MB 6.4 MB/s eta 0:00:02\n",
      "   --- ------------------------------------ 0.8/7.6 MB 6.0 MB/s eta 0:00:02\n",
      "   ----- ---------------------------------- 1.0/7.6 MB 6.6 MB/s eta 0:00:01\n",
      "   ------ --------------------------------- 1.3/7.6 MB 5.9 MB/s eta 0:00:02\n",
      "   -------- ------------------------------- 1.5/7.6 MB 5.8 MB/s eta 0:00:02\n",
      "   --------- ------------------------------ 1.8/7.6 MB 5.8 MB/s eta 0:00:02\n",
      "   ---------- ----------------------------- 2.1/7.6 MB 6.0 MB/s eta 0:00:01\n",
      "   ------------ --------------------------- 2.3/7.6 MB 5.9 MB/s eta 0:00:01\n",
      "   ------------- -------------------------- 2.6/7.6 MB 5.9 MB/s eta 0:00:01\n",
      "   --------------- ------------------------ 2.9/7.6 MB 5.7 MB/s eta 0:00:01\n",
      "   ---------------- ----------------------- 3.2/7.6 MB 5.7 MB/s eta 0:00:01\n",
      "   ------------------ --------------------- 3.4/7.6 MB 5.8 MB/s eta 0:00:01\n",
      "   ------------------- -------------------- 3.7/7.6 MB 5.7 MB/s eta 0:00:01\n",
      "   -------------------- ------------------- 4.0/7.6 MB 5.7 MB/s eta 0:00:01\n",
      "   ---------------------- ----------------- 4.3/7.6 MB 5.7 MB/s eta 0:00:01\n",
      "   ----------------------- ---------------- 4.5/7.6 MB 5.7 MB/s eta 0:00:01\n",
      "   ------------------------ --------------- 4.7/7.6 MB 5.6 MB/s eta 0:00:01\n",
      "   -------------------------- ------------- 5.1/7.6 MB 5.7 MB/s eta 0:00:01\n",
      "   --------------------------- ------------ 5.3/7.6 MB 5.6 MB/s eta 0:00:01\n",
      "   ----------------------------- ---------- 5.6/7.6 MB 5.5 MB/s eta 0:00:01\n",
      "   ------------------------------ --------- 5.7/7.6 MB 5.5 MB/s eta 0:00:01\n",
      "   ------------------------------- -------- 6.0/7.6 MB 5.5 MB/s eta 0:00:01\n",
      "   -------------------------------- ------- 6.2/7.6 MB 5.5 MB/s eta 0:00:01\n",
      "   --------------------------------- ------ 6.5/7.6 MB 5.5 MB/s eta 0:00:01\n",
      "   ----------------------------------- ---- 6.7/7.6 MB 5.5 MB/s eta 0:00:01\n",
      "   ------------------------------------ --- 6.9/7.6 MB 5.4 MB/s eta 0:00:01\n",
      "   ------------------------------------- -- 7.2/7.6 MB 5.4 MB/s eta 0:00:01\n",
      "   ---------------------------------------  7.5/7.6 MB 5.4 MB/s eta 0:00:01\n",
      "   ---------------------------------------  7.6/7.6 MB 5.4 MB/s eta 0:00:01\n",
      "   ---------------------------------------- 7.6/7.6 MB 5.3 MB/s eta 0:00:00\n",
      "Installing collected packages: scipy, scikit-learn, matplotlib\n",
      "  Attempting uninstall: scipy\n",
      "    Found existing installation: scipy 1.10.1\n",
      "    Uninstalling scipy-1.10.1:\n",
      "      Successfully uninstalled scipy-1.10.1\n"
     ]
    }
   ],
   "source": [
    "# !pip install -Uqqq pycaret\n",
    "# !pip install -U scikit-learn scipy matplotlib"
   ]
  },
  {
   "cell_type": "code",
   "execution_count": 70,
   "metadata": {},
   "outputs": [
    {
     "data": {
      "text/html": [
       "<style type=\"text/css\">\n",
       "#T_d0dd2_row8_col1 {\n",
       "  background-color: lightgreen;\n",
       "}\n",
       "</style>\n",
       "<table id=\"T_d0dd2\">\n",
       "  <thead>\n",
       "    <tr>\n",
       "      <th class=\"blank level0\" >&nbsp;</th>\n",
       "      <th id=\"T_d0dd2_level0_col0\" class=\"col_heading level0 col0\" >Description</th>\n",
       "      <th id=\"T_d0dd2_level0_col1\" class=\"col_heading level0 col1\" >Value</th>\n",
       "    </tr>\n",
       "  </thead>\n",
       "  <tbody>\n",
       "    <tr>\n",
       "      <th id=\"T_d0dd2_level0_row0\" class=\"row_heading level0 row0\" >0</th>\n",
       "      <td id=\"T_d0dd2_row0_col0\" class=\"data row0 col0\" >Session id</td>\n",
       "      <td id=\"T_d0dd2_row0_col1\" class=\"data row0 col1\" >11</td>\n",
       "    </tr>\n",
       "    <tr>\n",
       "      <th id=\"T_d0dd2_level0_row1\" class=\"row_heading level0 row1\" >1</th>\n",
       "      <td id=\"T_d0dd2_row1_col0\" class=\"data row1 col0\" >Target</td>\n",
       "      <td id=\"T_d0dd2_row1_col1\" class=\"data row1 col1\" >Label</td>\n",
       "    </tr>\n",
       "    <tr>\n",
       "      <th id=\"T_d0dd2_level0_row2\" class=\"row_heading level0 row2\" >2</th>\n",
       "      <td id=\"T_d0dd2_row2_col0\" class=\"data row2 col0\" >Target type</td>\n",
       "      <td id=\"T_d0dd2_row2_col1\" class=\"data row2 col1\" >Binary</td>\n",
       "    </tr>\n",
       "    <tr>\n",
       "      <th id=\"T_d0dd2_level0_row3\" class=\"row_heading level0 row3\" >3</th>\n",
       "      <td id=\"T_d0dd2_row3_col0\" class=\"data row3 col0\" >Original data shape</td>\n",
       "      <td id=\"T_d0dd2_row3_col1\" class=\"data row3 col1\" >(86744, 24)</td>\n",
       "    </tr>\n",
       "    <tr>\n",
       "      <th id=\"T_d0dd2_level0_row4\" class=\"row_heading level0 row4\" >4</th>\n",
       "      <td id=\"T_d0dd2_row4_col0\" class=\"data row4 col0\" >Transformed data shape</td>\n",
       "      <td id=\"T_d0dd2_row4_col1\" class=\"data row4 col1\" >(86744, 24)</td>\n",
       "    </tr>\n",
       "    <tr>\n",
       "      <th id=\"T_d0dd2_level0_row5\" class=\"row_heading level0 row5\" >5</th>\n",
       "      <td id=\"T_d0dd2_row5_col0\" class=\"data row5 col0\" >Transformed train set shape</td>\n",
       "      <td id=\"T_d0dd2_row5_col1\" class=\"data row5 col1\" >(60720, 24)</td>\n",
       "    </tr>\n",
       "    <tr>\n",
       "      <th id=\"T_d0dd2_level0_row6\" class=\"row_heading level0 row6\" >6</th>\n",
       "      <td id=\"T_d0dd2_row6_col0\" class=\"data row6 col0\" >Transformed test set shape</td>\n",
       "      <td id=\"T_d0dd2_row6_col1\" class=\"data row6 col1\" >(26024, 24)</td>\n",
       "    </tr>\n",
       "    <tr>\n",
       "      <th id=\"T_d0dd2_level0_row7\" class=\"row_heading level0 row7\" >7</th>\n",
       "      <td id=\"T_d0dd2_row7_col0\" class=\"data row7 col0\" >Numeric features</td>\n",
       "      <td id=\"T_d0dd2_row7_col1\" class=\"data row7 col1\" >23</td>\n",
       "    </tr>\n",
       "    <tr>\n",
       "      <th id=\"T_d0dd2_level0_row8\" class=\"row_heading level0 row8\" >8</th>\n",
       "      <td id=\"T_d0dd2_row8_col0\" class=\"data row8 col0\" >Preprocess</td>\n",
       "      <td id=\"T_d0dd2_row8_col1\" class=\"data row8 col1\" >True</td>\n",
       "    </tr>\n",
       "    <tr>\n",
       "      <th id=\"T_d0dd2_level0_row9\" class=\"row_heading level0 row9\" >9</th>\n",
       "      <td id=\"T_d0dd2_row9_col0\" class=\"data row9 col0\" >Imputation type</td>\n",
       "      <td id=\"T_d0dd2_row9_col1\" class=\"data row9 col1\" >simple</td>\n",
       "    </tr>\n",
       "    <tr>\n",
       "      <th id=\"T_d0dd2_level0_row10\" class=\"row_heading level0 row10\" >10</th>\n",
       "      <td id=\"T_d0dd2_row10_col0\" class=\"data row10 col0\" >Numeric imputation</td>\n",
       "      <td id=\"T_d0dd2_row10_col1\" class=\"data row10 col1\" >mean</td>\n",
       "    </tr>\n",
       "    <tr>\n",
       "      <th id=\"T_d0dd2_level0_row11\" class=\"row_heading level0 row11\" >11</th>\n",
       "      <td id=\"T_d0dd2_row11_col0\" class=\"data row11 col0\" >Categorical imputation</td>\n",
       "      <td id=\"T_d0dd2_row11_col1\" class=\"data row11 col1\" >mode</td>\n",
       "    </tr>\n",
       "    <tr>\n",
       "      <th id=\"T_d0dd2_level0_row12\" class=\"row_heading level0 row12\" >12</th>\n",
       "      <td id=\"T_d0dd2_row12_col0\" class=\"data row12 col0\" >Fold Generator</td>\n",
       "      <td id=\"T_d0dd2_row12_col1\" class=\"data row12 col1\" >StratifiedKFold</td>\n",
       "    </tr>\n",
       "    <tr>\n",
       "      <th id=\"T_d0dd2_level0_row13\" class=\"row_heading level0 row13\" >13</th>\n",
       "      <td id=\"T_d0dd2_row13_col0\" class=\"data row13 col0\" >Fold Number</td>\n",
       "      <td id=\"T_d0dd2_row13_col1\" class=\"data row13 col1\" >12</td>\n",
       "    </tr>\n",
       "    <tr>\n",
       "      <th id=\"T_d0dd2_level0_row14\" class=\"row_heading level0 row14\" >14</th>\n",
       "      <td id=\"T_d0dd2_row14_col0\" class=\"data row14 col0\" >CPU Jobs</td>\n",
       "      <td id=\"T_d0dd2_row14_col1\" class=\"data row14 col1\" >-1</td>\n",
       "    </tr>\n",
       "    <tr>\n",
       "      <th id=\"T_d0dd2_level0_row15\" class=\"row_heading level0 row15\" >15</th>\n",
       "      <td id=\"T_d0dd2_row15_col0\" class=\"data row15 col0\" >Use GPU</td>\n",
       "      <td id=\"T_d0dd2_row15_col1\" class=\"data row15 col1\" >False</td>\n",
       "    </tr>\n",
       "    <tr>\n",
       "      <th id=\"T_d0dd2_level0_row16\" class=\"row_heading level0 row16\" >16</th>\n",
       "      <td id=\"T_d0dd2_row16_col0\" class=\"data row16 col0\" >Log Experiment</td>\n",
       "      <td id=\"T_d0dd2_row16_col1\" class=\"data row16 col1\" >False</td>\n",
       "    </tr>\n",
       "    <tr>\n",
       "      <th id=\"T_d0dd2_level0_row17\" class=\"row_heading level0 row17\" >17</th>\n",
       "      <td id=\"T_d0dd2_row17_col0\" class=\"data row17 col0\" >Experiment Name</td>\n",
       "      <td id=\"T_d0dd2_row17_col1\" class=\"data row17 col1\" >clf-default-name</td>\n",
       "    </tr>\n",
       "    <tr>\n",
       "      <th id=\"T_d0dd2_level0_row18\" class=\"row_heading level0 row18\" >18</th>\n",
       "      <td id=\"T_d0dd2_row18_col0\" class=\"data row18 col0\" >USI</td>\n",
       "      <td id=\"T_d0dd2_row18_col1\" class=\"data row18 col1\" >03c4</td>\n",
       "    </tr>\n",
       "  </tbody>\n",
       "</table>\n"
      ],
      "text/plain": [
       "<pandas.io.formats.style.Styler at 0x1c3a98969b0>"
      ]
     },
     "metadata": {},
     "output_type": "display_data"
    }
   ],
   "source": [
    "from pycaret.classification import * \n",
    "\n",
    "\n",
    "pycaret_automl = setup(data=data_train, target = 'Label', session_id=11, fold=12)"
   ]
  },
  {
   "cell_type": "code",
   "execution_count": 74,
   "metadata": {},
   "outputs": [
    {
     "data": {
      "text/html": [],
      "text/plain": [
       "<IPython.core.display.HTML object>"
      ]
     },
     "metadata": {},
     "output_type": "display_data"
    },
    {
     "data": {
      "text/html": [
       "<style type=\"text/css\">\n",
       "#T_c01a8 th {\n",
       "  text-align: left;\n",
       "}\n",
       "#T_c01a8_row0_col0, #T_c01a8_row0_col1, #T_c01a8_row0_col2, #T_c01a8_row0_col3, #T_c01a8_row0_col5, #T_c01a8_row0_col6, #T_c01a8_row0_col7, #T_c01a8_row1_col0, #T_c01a8_row1_col1, #T_c01a8_row1_col2, #T_c01a8_row1_col3, #T_c01a8_row1_col4, #T_c01a8_row1_col5, #T_c01a8_row1_col6, #T_c01a8_row1_col7, #T_c01a8_row2_col0, #T_c01a8_row2_col1, #T_c01a8_row2_col2, #T_c01a8_row2_col3, #T_c01a8_row2_col4, #T_c01a8_row2_col5, #T_c01a8_row2_col6, #T_c01a8_row2_col7, #T_c01a8_row3_col0, #T_c01a8_row3_col3, #T_c01a8_row3_col4, #T_c01a8_row4_col0, #T_c01a8_row4_col1, #T_c01a8_row4_col2, #T_c01a8_row4_col3, #T_c01a8_row4_col4, #T_c01a8_row4_col5, #T_c01a8_row4_col6, #T_c01a8_row4_col7, #T_c01a8_row5_col0, #T_c01a8_row5_col1, #T_c01a8_row5_col2, #T_c01a8_row5_col3, #T_c01a8_row5_col4, #T_c01a8_row5_col5, #T_c01a8_row5_col6, #T_c01a8_row5_col7, #T_c01a8_row6_col0, #T_c01a8_row6_col1, #T_c01a8_row6_col2, #T_c01a8_row6_col3, #T_c01a8_row6_col4, #T_c01a8_row6_col5, #T_c01a8_row6_col6, #T_c01a8_row6_col7, #T_c01a8_row7_col0, #T_c01a8_row7_col1, #T_c01a8_row7_col2, #T_c01a8_row7_col3, #T_c01a8_row7_col4, #T_c01a8_row7_col5, #T_c01a8_row7_col6, #T_c01a8_row7_col7, #T_c01a8_row8_col0, #T_c01a8_row8_col1, #T_c01a8_row8_col2, #T_c01a8_row8_col3, #T_c01a8_row8_col4, #T_c01a8_row8_col5, #T_c01a8_row8_col6, #T_c01a8_row8_col7, #T_c01a8_row9_col0, #T_c01a8_row9_col1, #T_c01a8_row9_col2, #T_c01a8_row9_col3, #T_c01a8_row9_col4, #T_c01a8_row9_col5, #T_c01a8_row9_col6, #T_c01a8_row9_col7, #T_c01a8_row10_col0, #T_c01a8_row10_col1, #T_c01a8_row10_col2, #T_c01a8_row10_col3, #T_c01a8_row10_col4, #T_c01a8_row10_col5, #T_c01a8_row10_col6, #T_c01a8_row10_col7, #T_c01a8_row11_col0, #T_c01a8_row11_col1, #T_c01a8_row11_col2, #T_c01a8_row11_col3, #T_c01a8_row11_col4, #T_c01a8_row11_col5, #T_c01a8_row11_col6, #T_c01a8_row11_col7, #T_c01a8_row12_col0, #T_c01a8_row12_col1, #T_c01a8_row12_col2, #T_c01a8_row12_col3, #T_c01a8_row12_col4, #T_c01a8_row12_col5, #T_c01a8_row12_col6, #T_c01a8_row12_col7, #T_c01a8_row13_col0, #T_c01a8_row13_col1, #T_c01a8_row13_col2, #T_c01a8_row13_col4, #T_c01a8_row13_col5, #T_c01a8_row13_col6, #T_c01a8_row13_col7, #T_c01a8_row14_col0, #T_c01a8_row14_col1, #T_c01a8_row14_col2, #T_c01a8_row14_col3, #T_c01a8_row14_col4, #T_c01a8_row14_col5, #T_c01a8_row14_col6, #T_c01a8_row14_col7 {\n",
       "  text-align: left;\n",
       "}\n",
       "#T_c01a8_row0_col4, #T_c01a8_row3_col1, #T_c01a8_row3_col2, #T_c01a8_row3_col5, #T_c01a8_row3_col6, #T_c01a8_row3_col7, #T_c01a8_row13_col3 {\n",
       "  text-align: left;\n",
       "  background-color: yellow;\n",
       "}\n",
       "#T_c01a8_row0_col8, #T_c01a8_row1_col8, #T_c01a8_row2_col8, #T_c01a8_row3_col8, #T_c01a8_row4_col8, #T_c01a8_row5_col8, #T_c01a8_row6_col8, #T_c01a8_row7_col8, #T_c01a8_row8_col8, #T_c01a8_row9_col8, #T_c01a8_row10_col8, #T_c01a8_row12_col8, #T_c01a8_row13_col8, #T_c01a8_row14_col8 {\n",
       "  text-align: left;\n",
       "  background-color: lightgrey;\n",
       "}\n",
       "#T_c01a8_row11_col8 {\n",
       "  text-align: left;\n",
       "  background-color: yellow;\n",
       "  background-color: lightgrey;\n",
       "}\n",
       "</style>\n",
       "<table id=\"T_c01a8\">\n",
       "  <thead>\n",
       "    <tr>\n",
       "      <th class=\"blank level0\" >&nbsp;</th>\n",
       "      <th id=\"T_c01a8_level0_col0\" class=\"col_heading level0 col0\" >Model</th>\n",
       "      <th id=\"T_c01a8_level0_col1\" class=\"col_heading level0 col1\" >Accuracy</th>\n",
       "      <th id=\"T_c01a8_level0_col2\" class=\"col_heading level0 col2\" >AUC</th>\n",
       "      <th id=\"T_c01a8_level0_col3\" class=\"col_heading level0 col3\" >Recall</th>\n",
       "      <th id=\"T_c01a8_level0_col4\" class=\"col_heading level0 col4\" >Prec.</th>\n",
       "      <th id=\"T_c01a8_level0_col5\" class=\"col_heading level0 col5\" >F1</th>\n",
       "      <th id=\"T_c01a8_level0_col6\" class=\"col_heading level0 col6\" >Kappa</th>\n",
       "      <th id=\"T_c01a8_level0_col7\" class=\"col_heading level0 col7\" >MCC</th>\n",
       "      <th id=\"T_c01a8_level0_col8\" class=\"col_heading level0 col8\" >TT (Sec)</th>\n",
       "    </tr>\n",
       "  </thead>\n",
       "  <tbody>\n",
       "    <tr>\n",
       "      <th id=\"T_c01a8_level0_row0\" class=\"row_heading level0 row0\" >et</th>\n",
       "      <td id=\"T_c01a8_row0_col0\" class=\"data row0 col0\" >Extra Trees Classifier</td>\n",
       "      <td id=\"T_c01a8_row0_col1\" class=\"data row0 col1\" >0.8176</td>\n",
       "      <td id=\"T_c01a8_row0_col2\" class=\"data row0 col2\" >0.8701</td>\n",
       "      <td id=\"T_c01a8_row0_col3\" class=\"data row0 col3\" >0.5741</td>\n",
       "      <td id=\"T_c01a8_row0_col4\" class=\"data row0 col4\" >0.7415</td>\n",
       "      <td id=\"T_c01a8_row0_col5\" class=\"data row0 col5\" >0.6471</td>\n",
       "      <td id=\"T_c01a8_row0_col6\" class=\"data row0 col6\" >0.5268</td>\n",
       "      <td id=\"T_c01a8_row0_col7\" class=\"data row0 col7\" >0.5347</td>\n",
       "      <td id=\"T_c01a8_row0_col8\" class=\"data row0 col8\" >3.5367</td>\n",
       "    </tr>\n",
       "    <tr>\n",
       "      <th id=\"T_c01a8_level0_row1\" class=\"row_heading level0 row1\" >rf</th>\n",
       "      <td id=\"T_c01a8_row1_col0\" class=\"data row1 col0\" >Random Forest Classifier</td>\n",
       "      <td id=\"T_c01a8_row1_col1\" class=\"data row1 col1\" >0.8171</td>\n",
       "      <td id=\"T_c01a8_row1_col2\" class=\"data row1 col2\" >0.8701</td>\n",
       "      <td id=\"T_c01a8_row1_col3\" class=\"data row1 col3\" >0.5826</td>\n",
       "      <td id=\"T_c01a8_row1_col4\" class=\"data row1 col4\" >0.7345</td>\n",
       "      <td id=\"T_c01a8_row1_col5\" class=\"data row1 col5\" >0.6498</td>\n",
       "      <td id=\"T_c01a8_row1_col6\" class=\"data row1 col6\" >0.5282</td>\n",
       "      <td id=\"T_c01a8_row1_col7\" class=\"data row1 col7\" >0.5347</td>\n",
       "      <td id=\"T_c01a8_row1_col8\" class=\"data row1 col8\" >10.9958</td>\n",
       "    </tr>\n",
       "    <tr>\n",
       "      <th id=\"T_c01a8_level0_row2\" class=\"row_heading level0 row2\" >gbc</th>\n",
       "      <td id=\"T_c01a8_row2_col0\" class=\"data row2 col0\" >Gradient Boosting Classifier</td>\n",
       "      <td id=\"T_c01a8_row2_col1\" class=\"data row2 col1\" >0.8180</td>\n",
       "      <td id=\"T_c01a8_row2_col2\" class=\"data row2 col2\" >0.8729</td>\n",
       "      <td id=\"T_c01a8_row2_col3\" class=\"data row2 col3\" >0.6045</td>\n",
       "      <td id=\"T_c01a8_row2_col4\" class=\"data row2 col4\" >0.7249</td>\n",
       "      <td id=\"T_c01a8_row2_col5\" class=\"data row2 col5\" >0.6592</td>\n",
       "      <td id=\"T_c01a8_row2_col6\" class=\"data row2 col6\" >0.5364</td>\n",
       "      <td id=\"T_c01a8_row2_col7\" class=\"data row2 col7\" >0.5406</td>\n",
       "      <td id=\"T_c01a8_row2_col8\" class=\"data row2 col8\" >17.3425</td>\n",
       "    </tr>\n",
       "    <tr>\n",
       "      <th id=\"T_c01a8_level0_row3\" class=\"row_heading level0 row3\" >lightgbm</th>\n",
       "      <td id=\"T_c01a8_row3_col0\" class=\"data row3 col0\" >Light Gradient Boosting Machine</td>\n",
       "      <td id=\"T_c01a8_row3_col1\" class=\"data row3 col1\" >0.8191</td>\n",
       "      <td id=\"T_c01a8_row3_col2\" class=\"data row3 col2\" >0.8768</td>\n",
       "      <td id=\"T_c01a8_row3_col3\" class=\"data row3 col3\" >0.6110</td>\n",
       "      <td id=\"T_c01a8_row3_col4\" class=\"data row3 col4\" >0.7247</td>\n",
       "      <td id=\"T_c01a8_row3_col5\" class=\"data row3 col5\" >0.6630</td>\n",
       "      <td id=\"T_c01a8_row3_col6\" class=\"data row3 col6\" >0.5406</td>\n",
       "      <td id=\"T_c01a8_row3_col7\" class=\"data row3 col7\" >0.5443</td>\n",
       "      <td id=\"T_c01a8_row3_col8\" class=\"data row3 col8\" >0.7917</td>\n",
       "    </tr>\n",
       "    <tr>\n",
       "      <th id=\"T_c01a8_level0_row4\" class=\"row_heading level0 row4\" >xgboost</th>\n",
       "      <td id=\"T_c01a8_row4_col0\" class=\"data row4 col0\" >Extreme Gradient Boosting</td>\n",
       "      <td id=\"T_c01a8_row4_col1\" class=\"data row4 col1\" >0.8138</td>\n",
       "      <td id=\"T_c01a8_row4_col2\" class=\"data row4 col2\" >0.8698</td>\n",
       "      <td id=\"T_c01a8_row4_col3\" class=\"data row4 col3\" >0.6140</td>\n",
       "      <td id=\"T_c01a8_row4_col4\" class=\"data row4 col4\" >0.7081</td>\n",
       "      <td id=\"T_c01a8_row4_col5\" class=\"data row4 col5\" >0.6576</td>\n",
       "      <td id=\"T_c01a8_row4_col6\" class=\"data row4 col6\" >0.5307</td>\n",
       "      <td id=\"T_c01a8_row4_col7\" class=\"data row4 col7\" >0.5333</td>\n",
       "      <td id=\"T_c01a8_row4_col8\" class=\"data row4 col8\" >0.8442</td>\n",
       "    </tr>\n",
       "    <tr>\n",
       "      <th id=\"T_c01a8_level0_row5\" class=\"row_heading level0 row5\" >ridge</th>\n",
       "      <td id=\"T_c01a8_row5_col0\" class=\"data row5 col0\" >Ridge Classifier</td>\n",
       "      <td id=\"T_c01a8_row5_col1\" class=\"data row5 col1\" >0.7956</td>\n",
       "      <td id=\"T_c01a8_row5_col2\" class=\"data row5 col2\" >0.0000</td>\n",
       "      <td id=\"T_c01a8_row5_col3\" class=\"data row5 col3\" >0.5176</td>\n",
       "      <td id=\"T_c01a8_row5_col4\" class=\"data row5 col4\" >0.7024</td>\n",
       "      <td id=\"T_c01a8_row5_col5\" class=\"data row5 col5\" >0.5959</td>\n",
       "      <td id=\"T_c01a8_row5_col6\" class=\"data row5 col6\" >0.4633</td>\n",
       "      <td id=\"T_c01a8_row5_col7\" class=\"data row5 col7\" >0.4731</td>\n",
       "      <td id=\"T_c01a8_row5_col8\" class=\"data row5 col8\" >0.0667</td>\n",
       "    </tr>\n",
       "    <tr>\n",
       "      <th id=\"T_c01a8_level0_row6\" class=\"row_heading level0 row6\" >ada</th>\n",
       "      <td id=\"T_c01a8_row6_col0\" class=\"data row6 col0\" >Ada Boost Classifier</td>\n",
       "      <td id=\"T_c01a8_row6_col1\" class=\"data row6 col1\" >0.8053</td>\n",
       "      <td id=\"T_c01a8_row6_col2\" class=\"data row6 col2\" >0.8573</td>\n",
       "      <td id=\"T_c01a8_row6_col3\" class=\"data row6 col3\" >0.5867</td>\n",
       "      <td id=\"T_c01a8_row6_col4\" class=\"data row6 col4\" >0.6970</td>\n",
       "      <td id=\"T_c01a8_row6_col5\" class=\"data row6 col5\" >0.6370</td>\n",
       "      <td id=\"T_c01a8_row6_col6\" class=\"data row6 col6\" >0.5053</td>\n",
       "      <td id=\"T_c01a8_row6_col7\" class=\"data row6 col7\" >0.5089</td>\n",
       "      <td id=\"T_c01a8_row6_col8\" class=\"data row6 col8\" >3.0317</td>\n",
       "    </tr>\n",
       "    <tr>\n",
       "      <th id=\"T_c01a8_level0_row7\" class=\"row_heading level0 row7\" >lda</th>\n",
       "      <td id=\"T_c01a8_row7_col0\" class=\"data row7 col0\" >Linear Discriminant Analysis</td>\n",
       "      <td id=\"T_c01a8_row7_col1\" class=\"data row7 col1\" >0.7950</td>\n",
       "      <td id=\"T_c01a8_row7_col2\" class=\"data row7 col2\" >0.8466</td>\n",
       "      <td id=\"T_c01a8_row7_col3\" class=\"data row7 col3\" >0.5482</td>\n",
       "      <td id=\"T_c01a8_row7_col4\" class=\"data row7 col4\" >0.6849</td>\n",
       "      <td id=\"T_c01a8_row7_col5\" class=\"data row7 col5\" >0.6089</td>\n",
       "      <td id=\"T_c01a8_row7_col6\" class=\"data row7 col6\" >0.4723</td>\n",
       "      <td id=\"T_c01a8_row7_col7\" class=\"data row7 col7\" >0.4777</td>\n",
       "      <td id=\"T_c01a8_row7_col8\" class=\"data row7 col8\" >0.1708</td>\n",
       "    </tr>\n",
       "    <tr>\n",
       "      <th id=\"T_c01a8_level0_row8\" class=\"row_heading level0 row8\" >lr</th>\n",
       "      <td id=\"T_c01a8_row8_col0\" class=\"data row8 col0\" >Logistic Regression</td>\n",
       "      <td id=\"T_c01a8_row8_col1\" class=\"data row8 col1\" >0.7959</td>\n",
       "      <td id=\"T_c01a8_row8_col2\" class=\"data row8 col2\" >0.8486</td>\n",
       "      <td id=\"T_c01a8_row8_col3\" class=\"data row8 col3\" >0.5686</td>\n",
       "      <td id=\"T_c01a8_row8_col4\" class=\"data row8 col4\" >0.6790</td>\n",
       "      <td id=\"T_c01a8_row8_col5\" class=\"data row8 col5\" >0.6186</td>\n",
       "      <td id=\"T_c01a8_row8_col6\" class=\"data row8 col6\" >0.4809</td>\n",
       "      <td id=\"T_c01a8_row8_col7\" class=\"data row8 col7\" >0.4846</td>\n",
       "      <td id=\"T_c01a8_row8_col8\" class=\"data row8 col8\" >2.5533</td>\n",
       "    </tr>\n",
       "    <tr>\n",
       "      <th id=\"T_c01a8_level0_row9\" class=\"row_heading level0 row9\" >knn</th>\n",
       "      <td id=\"T_c01a8_row9_col0\" class=\"data row9 col0\" >K Neighbors Classifier</td>\n",
       "      <td id=\"T_c01a8_row9_col1\" class=\"data row9 col1\" >0.7876</td>\n",
       "      <td id=\"T_c01a8_row9_col2\" class=\"data row9 col2\" >0.8118</td>\n",
       "      <td id=\"T_c01a8_row9_col3\" class=\"data row9 col3\" >0.5823</td>\n",
       "      <td id=\"T_c01a8_row9_col4\" class=\"data row9 col4\" >0.6516</td>\n",
       "      <td id=\"T_c01a8_row9_col5\" class=\"data row9 col5\" >0.6150</td>\n",
       "      <td id=\"T_c01a8_row9_col6\" class=\"data row9 col6\" >0.4690</td>\n",
       "      <td id=\"T_c01a8_row9_col7\" class=\"data row9 col7\" >0.4705</td>\n",
       "      <td id=\"T_c01a8_row9_col8\" class=\"data row9 col8\" >1.4483</td>\n",
       "    </tr>\n",
       "    <tr>\n",
       "      <th id=\"T_c01a8_level0_row10\" class=\"row_heading level0 row10\" >svm</th>\n",
       "      <td id=\"T_c01a8_row10_col0\" class=\"data row10 col0\" >SVM - Linear Kernel</td>\n",
       "      <td id=\"T_c01a8_row10_col1\" class=\"data row10 col1\" >0.7296</td>\n",
       "      <td id=\"T_c01a8_row10_col2\" class=\"data row10 col2\" >0.0000</td>\n",
       "      <td id=\"T_c01a8_row10_col3\" class=\"data row10 col3\" >0.5719</td>\n",
       "      <td id=\"T_c01a8_row10_col4\" class=\"data row10 col4\" >0.6235</td>\n",
       "      <td id=\"T_c01a8_row10_col5\" class=\"data row10 col5\" >0.5124</td>\n",
       "      <td id=\"T_c01a8_row10_col6\" class=\"data row10 col6\" >0.3486</td>\n",
       "      <td id=\"T_c01a8_row10_col7\" class=\"data row10 col7\" >0.3929</td>\n",
       "      <td id=\"T_c01a8_row10_col8\" class=\"data row10 col8\" >0.9408</td>\n",
       "    </tr>\n",
       "    <tr>\n",
       "      <th id=\"T_c01a8_level0_row11\" class=\"row_heading level0 row11\" >nb</th>\n",
       "      <td id=\"T_c01a8_row11_col0\" class=\"data row11 col0\" >Naive Bayes</td>\n",
       "      <td id=\"T_c01a8_row11_col1\" class=\"data row11 col1\" >0.7658</td>\n",
       "      <td id=\"T_c01a8_row11_col2\" class=\"data row11 col2\" >0.8311</td>\n",
       "      <td id=\"T_c01a8_row11_col3\" class=\"data row11 col3\" >0.7024</td>\n",
       "      <td id=\"T_c01a8_row11_col4\" class=\"data row11 col4\" >0.5810</td>\n",
       "      <td id=\"T_c01a8_row11_col5\" class=\"data row11 col5\" >0.6359</td>\n",
       "      <td id=\"T_c01a8_row11_col6\" class=\"data row11 col6\" >0.4656</td>\n",
       "      <td id=\"T_c01a8_row11_col7\" class=\"data row11 col7\" >0.4702</td>\n",
       "      <td id=\"T_c01a8_row11_col8\" class=\"data row11 col8\" >0.0617</td>\n",
       "    </tr>\n",
       "    <tr>\n",
       "      <th id=\"T_c01a8_level0_row12\" class=\"row_heading level0 row12\" >dt</th>\n",
       "      <td id=\"T_c01a8_row12_col0\" class=\"data row12 col0\" >Decision Tree Classifier</td>\n",
       "      <td id=\"T_c01a8_row12_col1\" class=\"data row12 col1\" >0.7406</td>\n",
       "      <td id=\"T_c01a8_row12_col2\" class=\"data row12 col2\" >0.6896</td>\n",
       "      <td id=\"T_c01a8_row12_col3\" class=\"data row12 col3\" >0.5675</td>\n",
       "      <td id=\"T_c01a8_row12_col4\" class=\"data row12 col4\" >0.5532</td>\n",
       "      <td id=\"T_c01a8_row12_col5\" class=\"data row12 col5\" >0.5603</td>\n",
       "      <td id=\"T_c01a8_row12_col6\" class=\"data row12 col6\" >0.3763</td>\n",
       "      <td id=\"T_c01a8_row12_col7\" class=\"data row12 col7\" >0.3764</td>\n",
       "      <td id=\"T_c01a8_row12_col8\" class=\"data row12 col8\" >0.8325</td>\n",
       "    </tr>\n",
       "    <tr>\n",
       "      <th id=\"T_c01a8_level0_row13\" class=\"row_heading level0 row13\" >qda</th>\n",
       "      <td id=\"T_c01a8_row13_col0\" class=\"data row13 col0\" >Quadratic Discriminant Analysis</td>\n",
       "      <td id=\"T_c01a8_row13_col1\" class=\"data row13 col1\" >0.7519</td>\n",
       "      <td id=\"T_c01a8_row13_col2\" class=\"data row13 col2\" >0.8329</td>\n",
       "      <td id=\"T_c01a8_row13_col3\" class=\"data row13 col3\" >0.7712</td>\n",
       "      <td id=\"T_c01a8_row13_col4\" class=\"data row13 col4\" >0.5532</td>\n",
       "      <td id=\"T_c01a8_row13_col5\" class=\"data row13 col5\" >0.6442</td>\n",
       "      <td id=\"T_c01a8_row13_col6\" class=\"data row13 col6\" >0.4616</td>\n",
       "      <td id=\"T_c01a8_row13_col7\" class=\"data row13 col7\" >0.4767</td>\n",
       "      <td id=\"T_c01a8_row13_col8\" class=\"data row13 col8\" >0.0842</td>\n",
       "    </tr>\n",
       "    <tr>\n",
       "      <th id=\"T_c01a8_level0_row14\" class=\"row_heading level0 row14\" >dummy</th>\n",
       "      <td id=\"T_c01a8_row14_col0\" class=\"data row14 col0\" >Dummy Classifier</td>\n",
       "      <td id=\"T_c01a8_row14_col1\" class=\"data row14 col1\" >0.7087</td>\n",
       "      <td id=\"T_c01a8_row14_col2\" class=\"data row14 col2\" >0.5000</td>\n",
       "      <td id=\"T_c01a8_row14_col3\" class=\"data row14 col3\" >0.0000</td>\n",
       "      <td id=\"T_c01a8_row14_col4\" class=\"data row14 col4\" >0.0000</td>\n",
       "      <td id=\"T_c01a8_row14_col5\" class=\"data row14 col5\" >0.0000</td>\n",
       "      <td id=\"T_c01a8_row14_col6\" class=\"data row14 col6\" >0.0000</td>\n",
       "      <td id=\"T_c01a8_row14_col7\" class=\"data row14 col7\" >0.0000</td>\n",
       "      <td id=\"T_c01a8_row14_col8\" class=\"data row14 col8\" >0.0650</td>\n",
       "    </tr>\n",
       "  </tbody>\n",
       "</table>\n"
      ],
      "text/plain": [
       "<pandas.io.formats.style.Styler at 0x1c3a96c44c0>"
      ]
     },
     "metadata": {},
     "output_type": "display_data"
    },
    {
     "data": {
      "text/html": [],
      "text/plain": [
       "<IPython.core.display.HTML object>"
      ]
     },
     "metadata": {},
     "output_type": "display_data"
    }
   ],
   "source": [
    "better_model = compare_models(sort='Precision')"
   ]
  },
  {
   "cell_type": "code",
   "execution_count": 83,
   "metadata": {},
   "outputs": [],
   "source": [
    "# predict on new data\n",
    "new_data = data_test.copy()\n",
    "new_data.drop('Label', axis = 1, inplace = True)"
   ]
  },
  {
   "cell_type": "code",
   "execution_count": 88,
   "metadata": {},
   "outputs": [
    {
     "data": {
      "text/html": [],
      "text/plain": [
       "<IPython.core.display.HTML object>"
      ]
     },
     "metadata": {},
     "output_type": "display_data"
    },
    {
     "data": {
      "text/plain": [
       "0.6151286990019261"
      ]
     },
     "execution_count": 88,
     "metadata": {},
     "output_type": "execute_result"
    }
   ],
   "source": [
    "predictions = predict_model(better_model, data = new_data)\n",
    "precision_score(predictions[\"prediction_label\"], data_test['Label'].replace({'s':1, 'b':0}))"
   ]
  },
  {
   "cell_type": "markdown",
   "metadata": {},
   "source": [
    "Little Better than Keras ..."
   ]
  },
  {
   "cell_type": "code",
   "execution_count": 89,
   "metadata": {},
   "outputs": [
    {
     "data": {
      "text/html": [],
      "text/plain": [
       "<IPython.core.display.HTML object>"
      ]
     },
     "metadata": {},
     "output_type": "display_data"
    },
    {
     "data": {
      "text/html": [
       "<style type=\"text/css\">\n",
       "#T_4b83f_row12_col0, #T_4b83f_row12_col1, #T_4b83f_row12_col2, #T_4b83f_row12_col3, #T_4b83f_row12_col4, #T_4b83f_row12_col5, #T_4b83f_row12_col6 {\n",
       "  background: yellow;\n",
       "}\n",
       "</style>\n",
       "<table id=\"T_4b83f\">\n",
       "  <thead>\n",
       "    <tr>\n",
       "      <th class=\"blank level0\" >&nbsp;</th>\n",
       "      <th id=\"T_4b83f_level0_col0\" class=\"col_heading level0 col0\" >Accuracy</th>\n",
       "      <th id=\"T_4b83f_level0_col1\" class=\"col_heading level0 col1\" >AUC</th>\n",
       "      <th id=\"T_4b83f_level0_col2\" class=\"col_heading level0 col2\" >Recall</th>\n",
       "      <th id=\"T_4b83f_level0_col3\" class=\"col_heading level0 col3\" >Prec.</th>\n",
       "      <th id=\"T_4b83f_level0_col4\" class=\"col_heading level0 col4\" >F1</th>\n",
       "      <th id=\"T_4b83f_level0_col5\" class=\"col_heading level0 col5\" >Kappa</th>\n",
       "      <th id=\"T_4b83f_level0_col6\" class=\"col_heading level0 col6\" >MCC</th>\n",
       "    </tr>\n",
       "    <tr>\n",
       "      <th class=\"index_name level0\" >Fold</th>\n",
       "      <th class=\"blank col0\" >&nbsp;</th>\n",
       "      <th class=\"blank col1\" >&nbsp;</th>\n",
       "      <th class=\"blank col2\" >&nbsp;</th>\n",
       "      <th class=\"blank col3\" >&nbsp;</th>\n",
       "      <th class=\"blank col4\" >&nbsp;</th>\n",
       "      <th class=\"blank col5\" >&nbsp;</th>\n",
       "      <th class=\"blank col6\" >&nbsp;</th>\n",
       "    </tr>\n",
       "  </thead>\n",
       "  <tbody>\n",
       "    <tr>\n",
       "      <th id=\"T_4b83f_level0_row0\" class=\"row_heading level0 row0\" >0</th>\n",
       "      <td id=\"T_4b83f_row0_col0\" class=\"data row0 col0\" >0.7818</td>\n",
       "      <td id=\"T_4b83f_row0_col1\" class=\"data row0 col1\" >0.8650</td>\n",
       "      <td id=\"T_4b83f_row0_col2\" class=\"data row0 col2\" >0.7889</td>\n",
       "      <td id=\"T_4b83f_row0_col3\" class=\"data row0 col3\" >0.5944</td>\n",
       "      <td id=\"T_4b83f_row0_col4\" class=\"data row0 col4\" >0.6779</td>\n",
       "      <td id=\"T_4b83f_row0_col5\" class=\"data row0 col5\" >0.5179</td>\n",
       "      <td id=\"T_4b83f_row0_col6\" class=\"data row0 col6\" >0.5297</td>\n",
       "    </tr>\n",
       "    <tr>\n",
       "      <th id=\"T_4b83f_level0_row1\" class=\"row_heading level0 row1\" >1</th>\n",
       "      <td id=\"T_4b83f_row1_col0\" class=\"data row1 col0\" >0.7702</td>\n",
       "      <td id=\"T_4b83f_row1_col1\" class=\"data row1 col1\" >0.8623</td>\n",
       "      <td id=\"T_4b83f_row1_col2\" class=\"data row1 col2\" >0.7957</td>\n",
       "      <td id=\"T_4b83f_row1_col3\" class=\"data row1 col3\" >0.5762</td>\n",
       "      <td id=\"T_4b83f_row1_col4\" class=\"data row1 col4\" >0.6684</td>\n",
       "      <td id=\"T_4b83f_row1_col5\" class=\"data row1 col5\" >0.4993</td>\n",
       "      <td id=\"T_4b83f_row1_col6\" class=\"data row1 col6\" >0.5145</td>\n",
       "    </tr>\n",
       "    <tr>\n",
       "      <th id=\"T_4b83f_level0_row2\" class=\"row_heading level0 row2\" >2</th>\n",
       "      <td id=\"T_4b83f_row2_col0\" class=\"data row2 col0\" >0.7844</td>\n",
       "      <td id=\"T_4b83f_row2_col1\" class=\"data row2 col1\" >0.8767</td>\n",
       "      <td id=\"T_4b83f_row2_col2\" class=\"data row2 col2\" >0.8086</td>\n",
       "      <td id=\"T_4b83f_row2_col3\" class=\"data row2 col3\" >0.5955</td>\n",
       "      <td id=\"T_4b83f_row2_col4\" class=\"data row2 col4\" >0.6859</td>\n",
       "      <td id=\"T_4b83f_row2_col5\" class=\"data row2 col5\" >0.5274</td>\n",
       "      <td id=\"T_4b83f_row2_col6\" class=\"data row2 col6\" >0.5417</td>\n",
       "    </tr>\n",
       "    <tr>\n",
       "      <th id=\"T_4b83f_level0_row3\" class=\"row_heading level0 row3\" >3</th>\n",
       "      <td id=\"T_4b83f_row3_col0\" class=\"data row3 col0\" >0.7852</td>\n",
       "      <td id=\"T_4b83f_row3_col1\" class=\"data row3 col1\" >0.8689</td>\n",
       "      <td id=\"T_4b83f_row3_col2\" class=\"data row3 col2\" >0.8053</td>\n",
       "      <td id=\"T_4b83f_row3_col3\" class=\"data row3 col3\" >0.5974</td>\n",
       "      <td id=\"T_4b83f_row3_col4\" class=\"data row3 col4\" >0.6859</td>\n",
       "      <td id=\"T_4b83f_row3_col5\" class=\"data row3 col5\" >0.5281</td>\n",
       "      <td id=\"T_4b83f_row3_col6\" class=\"data row3 col6\" >0.5417</td>\n",
       "    </tr>\n",
       "    <tr>\n",
       "      <th id=\"T_4b83f_level0_row4\" class=\"row_heading level0 row4\" >4</th>\n",
       "      <td id=\"T_4b83f_row4_col0\" class=\"data row4 col0\" >0.7769</td>\n",
       "      <td id=\"T_4b83f_row4_col1\" class=\"data row4 col1\" >0.8639</td>\n",
       "      <td id=\"T_4b83f_row4_col2\" class=\"data row4 col2\" >0.7822</td>\n",
       "      <td id=\"T_4b83f_row4_col3\" class=\"data row4 col3\" >0.5880</td>\n",
       "      <td id=\"T_4b83f_row4_col4\" class=\"data row4 col4\" >0.6713</td>\n",
       "      <td id=\"T_4b83f_row4_col5\" class=\"data row4 col5\" >0.5075</td>\n",
       "      <td id=\"T_4b83f_row4_col6\" class=\"data row4 col6\" >0.5194</td>\n",
       "    </tr>\n",
       "    <tr>\n",
       "      <th id=\"T_4b83f_level0_row5\" class=\"row_heading level0 row5\" >5</th>\n",
       "      <td id=\"T_4b83f_row5_col0\" class=\"data row5 col0\" >0.7771</td>\n",
       "      <td id=\"T_4b83f_row5_col1\" class=\"data row5 col1\" >0.8639</td>\n",
       "      <td id=\"T_4b83f_row5_col2\" class=\"data row5 col2\" >0.7849</td>\n",
       "      <td id=\"T_4b83f_row5_col3\" class=\"data row5 col3\" >0.5879</td>\n",
       "      <td id=\"T_4b83f_row5_col4\" class=\"data row5 col4\" >0.6723</td>\n",
       "      <td id=\"T_4b83f_row5_col5\" class=\"data row5 col5\" >0.5086</td>\n",
       "      <td id=\"T_4b83f_row5_col6\" class=\"data row5 col6\" >0.5208</td>\n",
       "    </tr>\n",
       "    <tr>\n",
       "      <th id=\"T_4b83f_level0_row6\" class=\"row_heading level0 row6\" >6</th>\n",
       "      <td id=\"T_4b83f_row6_col0\" class=\"data row6 col0\" >0.7830</td>\n",
       "      <td id=\"T_4b83f_row6_col1\" class=\"data row6 col1\" >0.8736</td>\n",
       "      <td id=\"T_4b83f_row6_col2\" class=\"data row6 col2\" >0.8189</td>\n",
       "      <td id=\"T_4b83f_row6_col3\" class=\"data row6 col3\" >0.5922</td>\n",
       "      <td id=\"T_4b83f_row6_col4\" class=\"data row6 col4\" >0.6874</td>\n",
       "      <td id=\"T_4b83f_row6_col5\" class=\"data row6 col5\" >0.5277</td>\n",
       "      <td id=\"T_4b83f_row6_col6\" class=\"data row6 col6\" >0.5439</td>\n",
       "    </tr>\n",
       "    <tr>\n",
       "      <th id=\"T_4b83f_level0_row7\" class=\"row_heading level0 row7\" >7</th>\n",
       "      <td id=\"T_4b83f_row7_col0\" class=\"data row7 col0\" >0.7794</td>\n",
       "      <td id=\"T_4b83f_row7_col1\" class=\"data row7 col1\" >0.8664</td>\n",
       "      <td id=\"T_4b83f_row7_col2\" class=\"data row7 col2\" >0.8039</td>\n",
       "      <td id=\"T_4b83f_row7_col3\" class=\"data row7 col3\" >0.5890</td>\n",
       "      <td id=\"T_4b83f_row7_col4\" class=\"data row7 col4\" >0.6799</td>\n",
       "      <td id=\"T_4b83f_row7_col5\" class=\"data row7 col5\" >0.5177</td>\n",
       "      <td id=\"T_4b83f_row7_col6\" class=\"data row7 col6\" >0.5323</td>\n",
       "    </tr>\n",
       "    <tr>\n",
       "      <th id=\"T_4b83f_level0_row8\" class=\"row_heading level0 row8\" >8</th>\n",
       "      <td id=\"T_4b83f_row8_col0\" class=\"data row8 col0\" >0.7836</td>\n",
       "      <td id=\"T_4b83f_row8_col1\" class=\"data row8 col1\" >0.8739</td>\n",
       "      <td id=\"T_4b83f_row8_col2\" class=\"data row8 col2\" >0.7985</td>\n",
       "      <td id=\"T_4b83f_row8_col3\" class=\"data row8 col3\" >0.5959</td>\n",
       "      <td id=\"T_4b83f_row8_col4\" class=\"data row8 col4\" >0.6825</td>\n",
       "      <td id=\"T_4b83f_row8_col5\" class=\"data row8 col5\" >0.5236</td>\n",
       "      <td id=\"T_4b83f_row8_col6\" class=\"data row8 col6\" >0.5365</td>\n",
       "    </tr>\n",
       "    <tr>\n",
       "      <th id=\"T_4b83f_level0_row9\" class=\"row_heading level0 row9\" >9</th>\n",
       "      <td id=\"T_4b83f_row9_col0\" class=\"data row9 col0\" >0.7700</td>\n",
       "      <td id=\"T_4b83f_row9_col1\" class=\"data row9 col1\" >0.8650</td>\n",
       "      <td id=\"T_4b83f_row9_col2\" class=\"data row9 col2\" >0.8033</td>\n",
       "      <td id=\"T_4b83f_row9_col3\" class=\"data row9 col3\" >0.5753</td>\n",
       "      <td id=\"T_4b83f_row9_col4\" class=\"data row9 col4\" >0.6704</td>\n",
       "      <td id=\"T_4b83f_row9_col5\" class=\"data row9 col5\" >0.5011</td>\n",
       "      <td id=\"T_4b83f_row9_col6\" class=\"data row9 col6\" >0.5175</td>\n",
       "    </tr>\n",
       "    <tr>\n",
       "      <th id=\"T_4b83f_level0_row10\" class=\"row_heading level0 row10\" >10</th>\n",
       "      <td id=\"T_4b83f_row10_col0\" class=\"data row10 col0\" >0.7690</td>\n",
       "      <td id=\"T_4b83f_row10_col1\" class=\"data row10 col1\" >0.8533</td>\n",
       "      <td id=\"T_4b83f_row10_col2\" class=\"data row10 col2\" >0.7822</td>\n",
       "      <td id=\"T_4b83f_row10_col3\" class=\"data row10 col3\" >0.5762</td>\n",
       "      <td id=\"T_4b83f_row10_col4\" class=\"data row10 col4\" >0.6636</td>\n",
       "      <td id=\"T_4b83f_row10_col5\" class=\"data row10 col5\" >0.4938</td>\n",
       "      <td id=\"T_4b83f_row10_col6\" class=\"data row10 col6\" >0.5071</td>\n",
       "    </tr>\n",
       "    <tr>\n",
       "      <th id=\"T_4b83f_level0_row11\" class=\"row_heading level0 row11\" >11</th>\n",
       "      <td id=\"T_4b83f_row11_col0\" class=\"data row11 col0\" >0.7759</td>\n",
       "      <td id=\"T_4b83f_row11_col1\" class=\"data row11 col1\" >0.8628</td>\n",
       "      <td id=\"T_4b83f_row11_col2\" class=\"data row11 col2\" >0.7917</td>\n",
       "      <td id=\"T_4b83f_row11_col3\" class=\"data row11 col3\" >0.5853</td>\n",
       "      <td id=\"T_4b83f_row11_col4\" class=\"data row11 col4\" >0.6730</td>\n",
       "      <td id=\"T_4b83f_row11_col5\" class=\"data row11 col5\" >0.5083</td>\n",
       "      <td id=\"T_4b83f_row11_col6\" class=\"data row11 col6\" >0.5217</td>\n",
       "    </tr>\n",
       "    <tr>\n",
       "      <th id=\"T_4b83f_level0_row12\" class=\"row_heading level0 row12\" >Mean</th>\n",
       "      <td id=\"T_4b83f_row12_col0\" class=\"data row12 col0\" >0.7780</td>\n",
       "      <td id=\"T_4b83f_row12_col1\" class=\"data row12 col1\" >0.8663</td>\n",
       "      <td id=\"T_4b83f_row12_col2\" class=\"data row12 col2\" >0.7970</td>\n",
       "      <td id=\"T_4b83f_row12_col3\" class=\"data row12 col3\" >0.5878</td>\n",
       "      <td id=\"T_4b83f_row12_col4\" class=\"data row12 col4\" >0.6765</td>\n",
       "      <td id=\"T_4b83f_row12_col5\" class=\"data row12 col5\" >0.5134</td>\n",
       "      <td id=\"T_4b83f_row12_col6\" class=\"data row12 col6\" >0.5272</td>\n",
       "    </tr>\n",
       "    <tr>\n",
       "      <th id=\"T_4b83f_level0_row13\" class=\"row_heading level0 row13\" >Std</th>\n",
       "      <td id=\"T_4b83f_row13_col0\" class=\"data row13 col0\" >0.0056</td>\n",
       "      <td id=\"T_4b83f_row13_col1\" class=\"data row13 col1\" >0.0061</td>\n",
       "      <td id=\"T_4b83f_row13_col2\" class=\"data row13 col2\" >0.0110</td>\n",
       "      <td id=\"T_4b83f_row13_col3\" class=\"data row13 col3\" >0.0077</td>\n",
       "      <td id=\"T_4b83f_row13_col4\" class=\"data row13 col4\" >0.0075</td>\n",
       "      <td id=\"T_4b83f_row13_col5\" class=\"data row13 col5\" >0.0115</td>\n",
       "      <td id=\"T_4b83f_row13_col6\" class=\"data row13 col6\" >0.0116</td>\n",
       "    </tr>\n",
       "  </tbody>\n",
       "</table>\n"
      ],
      "text/plain": [
       "<pandas.io.formats.style.Styler at 0x1c3a95dae00>"
      ]
     },
     "metadata": {},
     "output_type": "display_data"
    },
    {
     "data": {
      "text/html": [],
      "text/plain": [
       "<IPython.core.display.HTML object>"
      ]
     },
     "metadata": {},
     "output_type": "display_data"
    },
    {
     "name": "stdout",
     "output_type": "stream",
     "text": [
      "Fitting 12 folds for each of 10 candidates, totalling 120 fits\n",
      "Original model was better than the tuned model, hence it will be returned. NOTE: The display metrics are for the tuned model (not the original one).\n"
     ]
    }
   ],
   "source": [
    "tunned_model = tune_model(better_model, optimize='Precision')"
   ]
  },
  {
   "cell_type": "code",
   "execution_count": 90,
   "metadata": {},
   "outputs": [
    {
     "data": {
      "text/html": [],
      "text/plain": [
       "<IPython.core.display.HTML object>"
      ]
     },
     "metadata": {},
     "output_type": "display_data"
    },
    {
     "data": {
      "text/plain": [
       "0.6151286990019261"
      ]
     },
     "execution_count": 90,
     "metadata": {},
     "output_type": "execute_result"
    }
   ],
   "source": [
    "tunned_pred = predict_model(tunned_model, data = new_data)\n",
    "precision_score(tunned_pred[\"prediction_label\"], data_test['Label'].replace({'s':1, 'b':0}))"
   ]
  },
  {
   "cell_type": "markdown",
   "metadata": {},
   "source": [
    "### This is the best model we got so far... using autoML\n",
    "\n",
    "* We can try XGBoost (don't know why but love this name :)\n",
    "* More Research can be done on this dataset to get better results..."
   ]
  },
  {
   "cell_type": "code",
   "execution_count": 92,
   "metadata": {},
   "outputs": [
    {
     "name": "stdout",
     "output_type": "stream",
     "text": [
      "Transformation Pipeline and Model Successfully Saved\n"
     ]
    },
    {
     "data": {
      "text/plain": [
       "(Pipeline(memory=Memory(location=None),\n",
       "          steps=[('numerical_imputer',\n",
       "                  TransformerWrapper(exclude=None,\n",
       "                                     include=['DER_mass_MMC',\n",
       "                                              'DER_mass_transverse_met_lep',\n",
       "                                              'DER_mass_vis', 'DER_pt_h',\n",
       "                                              'DER_deltar_tau_lep', 'DER_pt_tot',\n",
       "                                              'DER_sum_pt',\n",
       "                                              'DER_pt_ratio_lep_tau',\n",
       "                                              'DER_met_phi_centrality',\n",
       "                                              'PRI_tau_pt', 'PRI_tau_eta',\n",
       "                                              'PRI_tau_phi', 'PRI_lep_pt',\n",
       "                                              'PRI_lep_eta', 'PRI_lep_...\n",
       "                  ExtraTreesClassifier(bootstrap=False, ccp_alpha=0.0,\n",
       "                                       class_weight=None, criterion='gini',\n",
       "                                       max_depth=None, max_features='sqrt',\n",
       "                                       max_leaf_nodes=None, max_samples=None,\n",
       "                                       min_impurity_decrease=0.0,\n",
       "                                       min_samples_leaf=1, min_samples_split=2,\n",
       "                                       min_weight_fraction_leaf=0.0,\n",
       "                                       n_estimators=100, n_jobs=-1,\n",
       "                                       oob_score=False, random_state=11,\n",
       "                                       verbose=0, warm_start=False))],\n",
       "          verbose=False),\n",
       " 'pycaret_model.pkl')"
      ]
     },
     "execution_count": 92,
     "metadata": {},
     "output_type": "execute_result"
    }
   ],
   "source": [
    "final_model = finalize_model(tunned_model)\n",
    "save_model(final_model, model_name='../model/pycaret_model.pkl')"
   ]
  },
  {
   "cell_type": "code",
   "execution_count": 93,
   "metadata": {},
   "outputs": [],
   "source": [
    "automod = pickle.load(open('../model/pycaret_model.pkl', 'rb'))"
   ]
  },
  {
   "cell_type": "code",
   "execution_count": 94,
   "metadata": {},
   "outputs": [
    {
     "ename": "AttributeError",
     "evalue": "'numpy.ndarray' object has no attribute 'predict'",
     "output_type": "error",
     "traceback": [
      "\u001b[1;31m---------------------------------------------------------------------------\u001b[0m",
      "\u001b[1;31mAttributeError\u001b[0m                            Traceback (most recent call last)",
      "\u001b[1;32mz:\\TMLC MGP\\Project 6\\notebooks\\baseline_my_version.ipynb Cell 114\u001b[0m line \u001b[0;36m1\n\u001b[1;32m----> <a href='vscode-notebook-cell:/z%3A/TMLC%20MGP/Project%206/notebooks/baseline_my_version.ipynb#Y245sZmlsZQ%3D%3D?line=0'>1</a>\u001b[0m y_pred \u001b[39m=\u001b[39m automod\u001b[39m.\u001b[39;49mpredict(data_test\u001b[39m.\u001b[39mdrop(\u001b[39m'\u001b[39m\u001b[39mLabel\u001b[39m\u001b[39m'\u001b[39m, axis\u001b[39m=\u001b[39m\u001b[39m1\u001b[39m))\n\u001b[0;32m      <a href='vscode-notebook-cell:/z%3A/TMLC%20MGP/Project%206/notebooks/baseline_my_version.ipynb#Y245sZmlsZQ%3D%3D?line=1'>2</a>\u001b[0m precision_score(data_test[\u001b[39m'\u001b[39m\u001b[39mLabel\u001b[39m\u001b[39m'\u001b[39m]\u001b[39m.\u001b[39mreplace({\u001b[39m'\u001b[39m\u001b[39ms\u001b[39m\u001b[39m'\u001b[39m:\u001b[39m1\u001b[39m, \u001b[39m'\u001b[39m\u001b[39mb\u001b[39m\u001b[39m'\u001b[39m:\u001b[39m0\u001b[39m}), y_pred)\n",
      "\u001b[1;31mAttributeError\u001b[0m: 'numpy.ndarray' object has no attribute 'predict'"
     ]
    }
   ],
   "source": [
    "y_pred = automod.predict(data_test.drop('Label', axis=1))\n",
    "precision_score(data_test['Label'].replace({'s':1, 'b':0}), y_pred)"
   ]
  },
  {
   "cell_type": "code",
   "execution_count": 96,
   "metadata": {},
   "outputs": [
    {
     "name": "stdout",
     "output_type": "stream",
     "text": [
      "Transformation Pipeline and Model Successfully Loaded\n"
     ]
    },
    {
     "data": {
      "text/plain": [
       "0.7408161780752164"
      ]
     },
     "execution_count": 96,
     "metadata": {},
     "output_type": "execute_result"
    }
   ],
   "source": [
    "y_pred = load_model('../model/pycaret_model')\n",
    "precision_score(data_test['Label'].replace({'s':1, 'b':0}), y_pred.predict(data_test.drop('Label', axis=1)))"
   ]
  },
  {
   "cell_type": "markdown",
   "metadata": {},
   "source": [
    "i don't know how this works : ) "
   ]
  },
  {
   "cell_type": "code",
   "execution_count": null,
   "metadata": {},
   "outputs": [],
   "source": [
    "%tensorboard"
   ]
  }
 ],
 "metadata": {
  "kernelspec": {
   "display_name": "Python 3",
   "language": "python",
   "name": "python3"
  },
  "language_info": {
   "codemirror_mode": {
    "name": "ipython",
    "version": 3
   },
   "file_extension": ".py",
   "mimetype": "text/x-python",
   "name": "python",
   "nbconvert_exporter": "python",
   "pygments_lexer": "ipython3",
   "version": "3.10.11"
  }
 },
 "nbformat": 4,
 "nbformat_minor": 2
}
